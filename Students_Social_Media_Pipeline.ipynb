{
  "cells": [
    {
      "cell_type": "markdown",
      "id": "118d4080",
      "metadata": {
        "id": "118d4080"
      },
      "source": [
        "\n",
        "# Students Social Media Addiction\n",
        "\n"
      ]
    },
    {
      "cell_type": "markdown",
      "id": "Bs5MGid-n1zP",
      "metadata": {
        "id": "Bs5MGid-n1zP"
      },
      "source": [
        "For this project we sourced our data from the following site:\n",
        "\n",
        "https://www.kaggle.com/datasets"
      ]
    },
    {
      "cell_type": "markdown",
      "id": "v7bJQ3YT_N2-",
      "metadata": {
        "id": "v7bJQ3YT_N2-"
      },
      "source": [
        "Surya Medepalli\n",
        "\n",
        "Uyen Nguyen"
      ]
    },
    {
      "cell_type": "markdown",
      "id": "HmXmi6Zv_Z3M",
      "metadata": {
        "id": "HmXmi6Zv_Z3M"
      },
      "source": [
        "### **Data Exploration & Preparation (Pandas)**\n",
        "\n",
        "\n"
      ]
    },
    {
      "cell_type": "markdown",
      "id": "kIYvt0wkxgZx",
      "metadata": {
        "id": "kIYvt0wkxgZx"
      },
      "source": [
        "The first part of this project we will upload the data set which we will be exploring. Below is the python code which is used to upload the data set."
      ]
    },
    {
      "cell_type": "code",
      "execution_count": null,
      "id": "pLwj6AVoxurk",
      "metadata": {
        "id": "pLwj6AVoxurk",
        "colab": {
          "base_uri": "https://localhost:8080/",
          "height": 73
        },
        "outputId": "7ffb452b-5311-4545-a6a3-9c7e9f81f4ab"
      },
      "outputs": [
        {
          "output_type": "display_data",
          "data": {
            "text/plain": [
              "<IPython.core.display.HTML object>"
            ],
            "text/html": [
              "\n",
              "     <input type=\"file\" id=\"files-7da57239-1b20-4734-8d23-3669332f5e26\" name=\"files[]\" multiple disabled\n",
              "        style=\"border:none\" />\n",
              "     <output id=\"result-7da57239-1b20-4734-8d23-3669332f5e26\">\n",
              "      Upload widget is only available when the cell has been executed in the\n",
              "      current browser session. Please rerun this cell to enable.\n",
              "      </output>\n",
              "      <script>// Copyright 2017 Google LLC\n",
              "//\n",
              "// Licensed under the Apache License, Version 2.0 (the \"License\");\n",
              "// you may not use this file except in compliance with the License.\n",
              "// You may obtain a copy of the License at\n",
              "//\n",
              "//      http://www.apache.org/licenses/LICENSE-2.0\n",
              "//\n",
              "// Unless required by applicable law or agreed to in writing, software\n",
              "// distributed under the License is distributed on an \"AS IS\" BASIS,\n",
              "// WITHOUT WARRANTIES OR CONDITIONS OF ANY KIND, either express or implied.\n",
              "// See the License for the specific language governing permissions and\n",
              "// limitations under the License.\n",
              "\n",
              "/**\n",
              " * @fileoverview Helpers for google.colab Python module.\n",
              " */\n",
              "(function(scope) {\n",
              "function span(text, styleAttributes = {}) {\n",
              "  const element = document.createElement('span');\n",
              "  element.textContent = text;\n",
              "  for (const key of Object.keys(styleAttributes)) {\n",
              "    element.style[key] = styleAttributes[key];\n",
              "  }\n",
              "  return element;\n",
              "}\n",
              "\n",
              "// Max number of bytes which will be uploaded at a time.\n",
              "const MAX_PAYLOAD_SIZE = 100 * 1024;\n",
              "\n",
              "function _uploadFiles(inputId, outputId) {\n",
              "  const steps = uploadFilesStep(inputId, outputId);\n",
              "  const outputElement = document.getElementById(outputId);\n",
              "  // Cache steps on the outputElement to make it available for the next call\n",
              "  // to uploadFilesContinue from Python.\n",
              "  outputElement.steps = steps;\n",
              "\n",
              "  return _uploadFilesContinue(outputId);\n",
              "}\n",
              "\n",
              "// This is roughly an async generator (not supported in the browser yet),\n",
              "// where there are multiple asynchronous steps and the Python side is going\n",
              "// to poll for completion of each step.\n",
              "// This uses a Promise to block the python side on completion of each step,\n",
              "// then passes the result of the previous step as the input to the next step.\n",
              "function _uploadFilesContinue(outputId) {\n",
              "  const outputElement = document.getElementById(outputId);\n",
              "  const steps = outputElement.steps;\n",
              "\n",
              "  const next = steps.next(outputElement.lastPromiseValue);\n",
              "  return Promise.resolve(next.value.promise).then((value) => {\n",
              "    // Cache the last promise value to make it available to the next\n",
              "    // step of the generator.\n",
              "    outputElement.lastPromiseValue = value;\n",
              "    return next.value.response;\n",
              "  });\n",
              "}\n",
              "\n",
              "/**\n",
              " * Generator function which is called between each async step of the upload\n",
              " * process.\n",
              " * @param {string} inputId Element ID of the input file picker element.\n",
              " * @param {string} outputId Element ID of the output display.\n",
              " * @return {!Iterable<!Object>} Iterable of next steps.\n",
              " */\n",
              "function* uploadFilesStep(inputId, outputId) {\n",
              "  const inputElement = document.getElementById(inputId);\n",
              "  inputElement.disabled = false;\n",
              "\n",
              "  const outputElement = document.getElementById(outputId);\n",
              "  outputElement.innerHTML = '';\n",
              "\n",
              "  const pickedPromise = new Promise((resolve) => {\n",
              "    inputElement.addEventListener('change', (e) => {\n",
              "      resolve(e.target.files);\n",
              "    });\n",
              "  });\n",
              "\n",
              "  const cancel = document.createElement('button');\n",
              "  inputElement.parentElement.appendChild(cancel);\n",
              "  cancel.textContent = 'Cancel upload';\n",
              "  const cancelPromise = new Promise((resolve) => {\n",
              "    cancel.onclick = () => {\n",
              "      resolve(null);\n",
              "    };\n",
              "  });\n",
              "\n",
              "  // Wait for the user to pick the files.\n",
              "  const files = yield {\n",
              "    promise: Promise.race([pickedPromise, cancelPromise]),\n",
              "    response: {\n",
              "      action: 'starting',\n",
              "    }\n",
              "  };\n",
              "\n",
              "  cancel.remove();\n",
              "\n",
              "  // Disable the input element since further picks are not allowed.\n",
              "  inputElement.disabled = true;\n",
              "\n",
              "  if (!files) {\n",
              "    return {\n",
              "      response: {\n",
              "        action: 'complete',\n",
              "      }\n",
              "    };\n",
              "  }\n",
              "\n",
              "  for (const file of files) {\n",
              "    const li = document.createElement('li');\n",
              "    li.append(span(file.name, {fontWeight: 'bold'}));\n",
              "    li.append(span(\n",
              "        `(${file.type || 'n/a'}) - ${file.size} bytes, ` +\n",
              "        `last modified: ${\n",
              "            file.lastModifiedDate ? file.lastModifiedDate.toLocaleDateString() :\n",
              "                                    'n/a'} - `));\n",
              "    const percent = span('0% done');\n",
              "    li.appendChild(percent);\n",
              "\n",
              "    outputElement.appendChild(li);\n",
              "\n",
              "    const fileDataPromise = new Promise((resolve) => {\n",
              "      const reader = new FileReader();\n",
              "      reader.onload = (e) => {\n",
              "        resolve(e.target.result);\n",
              "      };\n",
              "      reader.readAsArrayBuffer(file);\n",
              "    });\n",
              "    // Wait for the data to be ready.\n",
              "    let fileData = yield {\n",
              "      promise: fileDataPromise,\n",
              "      response: {\n",
              "        action: 'continue',\n",
              "      }\n",
              "    };\n",
              "\n",
              "    // Use a chunked sending to avoid message size limits. See b/62115660.\n",
              "    let position = 0;\n",
              "    do {\n",
              "      const length = Math.min(fileData.byteLength - position, MAX_PAYLOAD_SIZE);\n",
              "      const chunk = new Uint8Array(fileData, position, length);\n",
              "      position += length;\n",
              "\n",
              "      const base64 = btoa(String.fromCharCode.apply(null, chunk));\n",
              "      yield {\n",
              "        response: {\n",
              "          action: 'append',\n",
              "          file: file.name,\n",
              "          data: base64,\n",
              "        },\n",
              "      };\n",
              "\n",
              "      let percentDone = fileData.byteLength === 0 ?\n",
              "          100 :\n",
              "          Math.round((position / fileData.byteLength) * 100);\n",
              "      percent.textContent = `${percentDone}% done`;\n",
              "\n",
              "    } while (position < fileData.byteLength);\n",
              "  }\n",
              "\n",
              "  // All done.\n",
              "  yield {\n",
              "    response: {\n",
              "      action: 'complete',\n",
              "    }\n",
              "  };\n",
              "}\n",
              "\n",
              "scope.google = scope.google || {};\n",
              "scope.google.colab = scope.google.colab || {};\n",
              "scope.google.colab._files = {\n",
              "  _uploadFiles,\n",
              "  _uploadFilesContinue,\n",
              "};\n",
              "})(self);\n",
              "</script> "
            ]
          },
          "metadata": {}
        },
        {
          "output_type": "stream",
          "name": "stdout",
          "text": [
            "Saving Students Social Media Addiction.csv to Students Social Media Addiction.csv\n"
          ]
        }
      ],
      "source": [
        "from google.colab import files\n",
        "uploaded = files.upload()"
      ]
    },
    {
      "cell_type": "markdown",
      "id": "1R6mM79dyAMO",
      "metadata": {
        "id": "1R6mM79dyAMO"
      },
      "source": [
        "Using Pandas within python we load our data set."
      ]
    },
    {
      "cell_type": "code",
      "execution_count": null,
      "id": "zItuFPZax3lo",
      "metadata": {
        "id": "zItuFPZax3lo"
      },
      "outputs": [],
      "source": [
        "import pandas as pd\n",
        "df = pd.read_csv(\"Students Social Media Addiction.csv\")"
      ]
    },
    {
      "cell_type": "markdown",
      "id": "0YdR0dVSyKWk",
      "metadata": {
        "id": "0YdR0dVSyKWk"
      },
      "source": [
        "Below we do a print check to see what type of data we have."
      ]
    },
    {
      "cell_type": "code",
      "execution_count": null,
      "id": "Pj5hMekkx6Kv",
      "metadata": {
        "id": "Pj5hMekkx6Kv",
        "colab": {
          "base_uri": "https://localhost:8080/",
          "height": 647
        },
        "outputId": "a91291b7-4cd8-49a0-edd5-5dfc921c933b"
      },
      "outputs": [
        {
          "output_type": "stream",
          "name": "stdout",
          "text": [
            "<class 'pandas.core.frame.DataFrame'>\n",
            "RangeIndex: 705 entries, 0 to 704\n",
            "Data columns (total 13 columns):\n",
            " #   Column                        Non-Null Count  Dtype  \n",
            "---  ------                        --------------  -----  \n",
            " 0   Student_ID                    705 non-null    int64  \n",
            " 1   Age                           705 non-null    int64  \n",
            " 2   Gender                        705 non-null    object \n",
            " 3   Academic_Level                705 non-null    object \n",
            " 4   Country                       705 non-null    object \n",
            " 5   Avg_Daily_Usage_Hours         705 non-null    float64\n",
            " 6   Most_Used_Platform            705 non-null    object \n",
            " 7   Affects_Academic_Performance  705 non-null    object \n",
            " 8   Sleep_Hours_Per_Night         705 non-null    float64\n",
            " 9   Mental_Health_Score           705 non-null    int64  \n",
            " 10  Relationship_Status           705 non-null    object \n",
            " 11  Conflicts_Over_Social_Media   705 non-null    int64  \n",
            " 12  Addicted_Score                705 non-null    int64  \n",
            "dtypes: float64(2), int64(5), object(6)\n",
            "memory usage: 71.7+ KB\n"
          ]
        },
        {
          "output_type": "execute_result",
          "data": {
            "text/plain": [
              "       Student_ID         Age  Avg_Daily_Usage_Hours  Sleep_Hours_Per_Night  \\\n",
              "count  705.000000  705.000000             705.000000             705.000000   \n",
              "mean   353.000000   20.659574               4.918723               6.868936   \n",
              "std    203.660256    1.399217               1.257395               1.126848   \n",
              "min      1.000000   18.000000               1.500000               3.800000   \n",
              "25%    177.000000   19.000000               4.100000               6.000000   \n",
              "50%    353.000000   21.000000               4.800000               6.900000   \n",
              "75%    529.000000   22.000000               5.800000               7.700000   \n",
              "max    705.000000   24.000000               8.500000               9.600000   \n",
              "\n",
              "       Mental_Health_Score  Conflicts_Over_Social_Media  Addicted_Score  \n",
              "count           705.000000                   705.000000      705.000000  \n",
              "mean              6.226950                     2.849645        6.436879  \n",
              "std               1.105055                     0.957968        1.587165  \n",
              "min               4.000000                     0.000000        2.000000  \n",
              "25%               5.000000                     2.000000        5.000000  \n",
              "50%               6.000000                     3.000000        7.000000  \n",
              "75%               7.000000                     4.000000        8.000000  \n",
              "max               9.000000                     5.000000        9.000000  "
            ],
            "text/html": [
              "\n",
              "  <div id=\"df-6549f5d1-e122-4274-834c-10259995d3b5\" class=\"colab-df-container\">\n",
              "    <div>\n",
              "<style scoped>\n",
              "    .dataframe tbody tr th:only-of-type {\n",
              "        vertical-align: middle;\n",
              "    }\n",
              "\n",
              "    .dataframe tbody tr th {\n",
              "        vertical-align: top;\n",
              "    }\n",
              "\n",
              "    .dataframe thead th {\n",
              "        text-align: right;\n",
              "    }\n",
              "</style>\n",
              "<table border=\"1\" class=\"dataframe\">\n",
              "  <thead>\n",
              "    <tr style=\"text-align: right;\">\n",
              "      <th></th>\n",
              "      <th>Student_ID</th>\n",
              "      <th>Age</th>\n",
              "      <th>Avg_Daily_Usage_Hours</th>\n",
              "      <th>Sleep_Hours_Per_Night</th>\n",
              "      <th>Mental_Health_Score</th>\n",
              "      <th>Conflicts_Over_Social_Media</th>\n",
              "      <th>Addicted_Score</th>\n",
              "    </tr>\n",
              "  </thead>\n",
              "  <tbody>\n",
              "    <tr>\n",
              "      <th>count</th>\n",
              "      <td>705.000000</td>\n",
              "      <td>705.000000</td>\n",
              "      <td>705.000000</td>\n",
              "      <td>705.000000</td>\n",
              "      <td>705.000000</td>\n",
              "      <td>705.000000</td>\n",
              "      <td>705.000000</td>\n",
              "    </tr>\n",
              "    <tr>\n",
              "      <th>mean</th>\n",
              "      <td>353.000000</td>\n",
              "      <td>20.659574</td>\n",
              "      <td>4.918723</td>\n",
              "      <td>6.868936</td>\n",
              "      <td>6.226950</td>\n",
              "      <td>2.849645</td>\n",
              "      <td>6.436879</td>\n",
              "    </tr>\n",
              "    <tr>\n",
              "      <th>std</th>\n",
              "      <td>203.660256</td>\n",
              "      <td>1.399217</td>\n",
              "      <td>1.257395</td>\n",
              "      <td>1.126848</td>\n",
              "      <td>1.105055</td>\n",
              "      <td>0.957968</td>\n",
              "      <td>1.587165</td>\n",
              "    </tr>\n",
              "    <tr>\n",
              "      <th>min</th>\n",
              "      <td>1.000000</td>\n",
              "      <td>18.000000</td>\n",
              "      <td>1.500000</td>\n",
              "      <td>3.800000</td>\n",
              "      <td>4.000000</td>\n",
              "      <td>0.000000</td>\n",
              "      <td>2.000000</td>\n",
              "    </tr>\n",
              "    <tr>\n",
              "      <th>25%</th>\n",
              "      <td>177.000000</td>\n",
              "      <td>19.000000</td>\n",
              "      <td>4.100000</td>\n",
              "      <td>6.000000</td>\n",
              "      <td>5.000000</td>\n",
              "      <td>2.000000</td>\n",
              "      <td>5.000000</td>\n",
              "    </tr>\n",
              "    <tr>\n",
              "      <th>50%</th>\n",
              "      <td>353.000000</td>\n",
              "      <td>21.000000</td>\n",
              "      <td>4.800000</td>\n",
              "      <td>6.900000</td>\n",
              "      <td>6.000000</td>\n",
              "      <td>3.000000</td>\n",
              "      <td>7.000000</td>\n",
              "    </tr>\n",
              "    <tr>\n",
              "      <th>75%</th>\n",
              "      <td>529.000000</td>\n",
              "      <td>22.000000</td>\n",
              "      <td>5.800000</td>\n",
              "      <td>7.700000</td>\n",
              "      <td>7.000000</td>\n",
              "      <td>4.000000</td>\n",
              "      <td>8.000000</td>\n",
              "    </tr>\n",
              "    <tr>\n",
              "      <th>max</th>\n",
              "      <td>705.000000</td>\n",
              "      <td>24.000000</td>\n",
              "      <td>8.500000</td>\n",
              "      <td>9.600000</td>\n",
              "      <td>9.000000</td>\n",
              "      <td>5.000000</td>\n",
              "      <td>9.000000</td>\n",
              "    </tr>\n",
              "  </tbody>\n",
              "</table>\n",
              "</div>\n",
              "    <div class=\"colab-df-buttons\">\n",
              "\n",
              "  <div class=\"colab-df-container\">\n",
              "    <button class=\"colab-df-convert\" onclick=\"convertToInteractive('df-6549f5d1-e122-4274-834c-10259995d3b5')\"\n",
              "            title=\"Convert this dataframe to an interactive table.\"\n",
              "            style=\"display:none;\">\n",
              "\n",
              "  <svg xmlns=\"http://www.w3.org/2000/svg\" height=\"24px\" viewBox=\"0 -960 960 960\">\n",
              "    <path d=\"M120-120v-720h720v720H120Zm60-500h600v-160H180v160Zm220 220h160v-160H400v160Zm0 220h160v-160H400v160ZM180-400h160v-160H180v160Zm440 0h160v-160H620v160ZM180-180h160v-160H180v160Zm440 0h160v-160H620v160Z\"/>\n",
              "  </svg>\n",
              "    </button>\n",
              "\n",
              "  <style>\n",
              "    .colab-df-container {\n",
              "      display:flex;\n",
              "      gap: 12px;\n",
              "    }\n",
              "\n",
              "    .colab-df-convert {\n",
              "      background-color: #E8F0FE;\n",
              "      border: none;\n",
              "      border-radius: 50%;\n",
              "      cursor: pointer;\n",
              "      display: none;\n",
              "      fill: #1967D2;\n",
              "      height: 32px;\n",
              "      padding: 0 0 0 0;\n",
              "      width: 32px;\n",
              "    }\n",
              "\n",
              "    .colab-df-convert:hover {\n",
              "      background-color: #E2EBFA;\n",
              "      box-shadow: 0px 1px 2px rgba(60, 64, 67, 0.3), 0px 1px 3px 1px rgba(60, 64, 67, 0.15);\n",
              "      fill: #174EA6;\n",
              "    }\n",
              "\n",
              "    .colab-df-buttons div {\n",
              "      margin-bottom: 4px;\n",
              "    }\n",
              "\n",
              "    [theme=dark] .colab-df-convert {\n",
              "      background-color: #3B4455;\n",
              "      fill: #D2E3FC;\n",
              "    }\n",
              "\n",
              "    [theme=dark] .colab-df-convert:hover {\n",
              "      background-color: #434B5C;\n",
              "      box-shadow: 0px 1px 3px 1px rgba(0, 0, 0, 0.15);\n",
              "      filter: drop-shadow(0px 1px 2px rgba(0, 0, 0, 0.3));\n",
              "      fill: #FFFFFF;\n",
              "    }\n",
              "  </style>\n",
              "\n",
              "    <script>\n",
              "      const buttonEl =\n",
              "        document.querySelector('#df-6549f5d1-e122-4274-834c-10259995d3b5 button.colab-df-convert');\n",
              "      buttonEl.style.display =\n",
              "        google.colab.kernel.accessAllowed ? 'block' : 'none';\n",
              "\n",
              "      async function convertToInteractive(key) {\n",
              "        const element = document.querySelector('#df-6549f5d1-e122-4274-834c-10259995d3b5');\n",
              "        const dataTable =\n",
              "          await google.colab.kernel.invokeFunction('convertToInteractive',\n",
              "                                                    [key], {});\n",
              "        if (!dataTable) return;\n",
              "\n",
              "        const docLinkHtml = 'Like what you see? Visit the ' +\n",
              "          '<a target=\"_blank\" href=https://colab.research.google.com/notebooks/data_table.ipynb>data table notebook</a>'\n",
              "          + ' to learn more about interactive tables.';\n",
              "        element.innerHTML = '';\n",
              "        dataTable['output_type'] = 'display_data';\n",
              "        await google.colab.output.renderOutput(dataTable, element);\n",
              "        const docLink = document.createElement('div');\n",
              "        docLink.innerHTML = docLinkHtml;\n",
              "        element.appendChild(docLink);\n",
              "      }\n",
              "    </script>\n",
              "  </div>\n",
              "\n",
              "\n",
              "    <div id=\"df-000ec14a-e71c-4125-8871-e4c06d357f6f\">\n",
              "      <button class=\"colab-df-quickchart\" onclick=\"quickchart('df-000ec14a-e71c-4125-8871-e4c06d357f6f')\"\n",
              "                title=\"Suggest charts\"\n",
              "                style=\"display:none;\">\n",
              "\n",
              "<svg xmlns=\"http://www.w3.org/2000/svg\" height=\"24px\"viewBox=\"0 0 24 24\"\n",
              "     width=\"24px\">\n",
              "    <g>\n",
              "        <path d=\"M19 3H5c-1.1 0-2 .9-2 2v14c0 1.1.9 2 2 2h14c1.1 0 2-.9 2-2V5c0-1.1-.9-2-2-2zM9 17H7v-7h2v7zm4 0h-2V7h2v10zm4 0h-2v-4h2v4z\"/>\n",
              "    </g>\n",
              "</svg>\n",
              "      </button>\n",
              "\n",
              "<style>\n",
              "  .colab-df-quickchart {\n",
              "      --bg-color: #E8F0FE;\n",
              "      --fill-color: #1967D2;\n",
              "      --hover-bg-color: #E2EBFA;\n",
              "      --hover-fill-color: #174EA6;\n",
              "      --disabled-fill-color: #AAA;\n",
              "      --disabled-bg-color: #DDD;\n",
              "  }\n",
              "\n",
              "  [theme=dark] .colab-df-quickchart {\n",
              "      --bg-color: #3B4455;\n",
              "      --fill-color: #D2E3FC;\n",
              "      --hover-bg-color: #434B5C;\n",
              "      --hover-fill-color: #FFFFFF;\n",
              "      --disabled-bg-color: #3B4455;\n",
              "      --disabled-fill-color: #666;\n",
              "  }\n",
              "\n",
              "  .colab-df-quickchart {\n",
              "    background-color: var(--bg-color);\n",
              "    border: none;\n",
              "    border-radius: 50%;\n",
              "    cursor: pointer;\n",
              "    display: none;\n",
              "    fill: var(--fill-color);\n",
              "    height: 32px;\n",
              "    padding: 0;\n",
              "    width: 32px;\n",
              "  }\n",
              "\n",
              "  .colab-df-quickchart:hover {\n",
              "    background-color: var(--hover-bg-color);\n",
              "    box-shadow: 0 1px 2px rgba(60, 64, 67, 0.3), 0 1px 3px 1px rgba(60, 64, 67, 0.15);\n",
              "    fill: var(--button-hover-fill-color);\n",
              "  }\n",
              "\n",
              "  .colab-df-quickchart-complete:disabled,\n",
              "  .colab-df-quickchart-complete:disabled:hover {\n",
              "    background-color: var(--disabled-bg-color);\n",
              "    fill: var(--disabled-fill-color);\n",
              "    box-shadow: none;\n",
              "  }\n",
              "\n",
              "  .colab-df-spinner {\n",
              "    border: 2px solid var(--fill-color);\n",
              "    border-color: transparent;\n",
              "    border-bottom-color: var(--fill-color);\n",
              "    animation:\n",
              "      spin 1s steps(1) infinite;\n",
              "  }\n",
              "\n",
              "  @keyframes spin {\n",
              "    0% {\n",
              "      border-color: transparent;\n",
              "      border-bottom-color: var(--fill-color);\n",
              "      border-left-color: var(--fill-color);\n",
              "    }\n",
              "    20% {\n",
              "      border-color: transparent;\n",
              "      border-left-color: var(--fill-color);\n",
              "      border-top-color: var(--fill-color);\n",
              "    }\n",
              "    30% {\n",
              "      border-color: transparent;\n",
              "      border-left-color: var(--fill-color);\n",
              "      border-top-color: var(--fill-color);\n",
              "      border-right-color: var(--fill-color);\n",
              "    }\n",
              "    40% {\n",
              "      border-color: transparent;\n",
              "      border-right-color: var(--fill-color);\n",
              "      border-top-color: var(--fill-color);\n",
              "    }\n",
              "    60% {\n",
              "      border-color: transparent;\n",
              "      border-right-color: var(--fill-color);\n",
              "    }\n",
              "    80% {\n",
              "      border-color: transparent;\n",
              "      border-right-color: var(--fill-color);\n",
              "      border-bottom-color: var(--fill-color);\n",
              "    }\n",
              "    90% {\n",
              "      border-color: transparent;\n",
              "      border-bottom-color: var(--fill-color);\n",
              "    }\n",
              "  }\n",
              "</style>\n",
              "\n",
              "      <script>\n",
              "        async function quickchart(key) {\n",
              "          const quickchartButtonEl =\n",
              "            document.querySelector('#' + key + ' button');\n",
              "          quickchartButtonEl.disabled = true;  // To prevent multiple clicks.\n",
              "          quickchartButtonEl.classList.add('colab-df-spinner');\n",
              "          try {\n",
              "            const charts = await google.colab.kernel.invokeFunction(\n",
              "                'suggestCharts', [key], {});\n",
              "          } catch (error) {\n",
              "            console.error('Error during call to suggestCharts:', error);\n",
              "          }\n",
              "          quickchartButtonEl.classList.remove('colab-df-spinner');\n",
              "          quickchartButtonEl.classList.add('colab-df-quickchart-complete');\n",
              "        }\n",
              "        (() => {\n",
              "          let quickchartButtonEl =\n",
              "            document.querySelector('#df-000ec14a-e71c-4125-8871-e4c06d357f6f button');\n",
              "          quickchartButtonEl.style.display =\n",
              "            google.colab.kernel.accessAllowed ? 'block' : 'none';\n",
              "        })();\n",
              "      </script>\n",
              "    </div>\n",
              "\n",
              "    </div>\n",
              "  </div>\n"
            ],
            "application/vnd.google.colaboratory.intrinsic+json": {
              "type": "dataframe",
              "summary": "{\n  \"name\": \"df\",\n  \"rows\": 8,\n  \"fields\": [\n    {\n      \"column\": \"Student_ID\",\n      \"properties\": {\n        \"dtype\": \"number\",\n        \"std\": 253.7806875489316,\n        \"min\": 1.0,\n        \"max\": 705.0,\n        \"num_unique_values\": 6,\n        \"samples\": [\n          705.0,\n          353.0,\n          529.0\n        ],\n        \"semantic_type\": \"\",\n        \"description\": \"\"\n      }\n    },\n    {\n      \"column\": \"Age\",\n      \"properties\": {\n        \"dtype\": \"number\",\n        \"std\": 242.9895460341682,\n        \"min\": 1.399217451919569,\n        \"max\": 705.0,\n        \"num_unique_values\": 8,\n        \"samples\": [\n          20.659574468085108,\n          21.0,\n          705.0\n        ],\n        \"semantic_type\": \"\",\n        \"description\": \"\"\n      }\n    },\n    {\n      \"column\": \"Avg_Daily_Usage_Hours\",\n      \"properties\": {\n        \"dtype\": \"number\",\n        \"std\": 247.70649604040395,\n        \"min\": 1.2573945210731428,\n        \"max\": 705.0,\n        \"num_unique_values\": 8,\n        \"samples\": [\n          4.918723404255319,\n          4.8,\n          705.0\n        ],\n        \"semantic_type\": \"\",\n        \"description\": \"\"\n      }\n    },\n    {\n      \"column\": \"Sleep_Hours_Per_Night\",\n      \"properties\": {\n        \"dtype\": \"number\",\n        \"std\": 247.14732863700502,\n        \"min\": 1.126848041531804,\n        \"max\": 705.0,\n        \"num_unique_values\": 8,\n        \"samples\": [\n          6.868936170212766,\n          6.9,\n          705.0\n        ],\n        \"semantic_type\": \"\",\n        \"description\": \"\"\n      }\n    },\n    {\n      \"column\": \"Mental_Health_Score\",\n      \"properties\": {\n        \"dtype\": \"number\",\n        \"std\": 247.32979347807313,\n        \"min\": 1.1050554948415823,\n        \"max\": 705.0,\n        \"num_unique_values\": 8,\n        \"samples\": [\n          6.226950354609929,\n          6.0,\n          705.0\n        ],\n        \"semantic_type\": \"\",\n        \"description\": \"\"\n      }\n    },\n    {\n      \"column\": \"Conflicts_Over_Social_Media\",\n      \"properties\": {\n        \"dtype\": \"number\",\n        \"std\": 248.36082117759048,\n        \"min\": 0.0,\n        \"max\": 705.0,\n        \"num_unique_values\": 8,\n        \"samples\": [\n          2.849645390070922,\n          3.0,\n          705.0\n        ],\n        \"semantic_type\": \"\",\n        \"description\": \"\"\n      }\n    },\n    {\n      \"column\": \"Addicted_Score\",\n      \"properties\": {\n        \"dtype\": \"number\",\n        \"std\": 247.29839702134547,\n        \"min\": 1.5871649318688412,\n        \"max\": 705.0,\n        \"num_unique_values\": 8,\n        \"samples\": [\n          6.436879432624114,\n          7.0,\n          705.0\n        ],\n        \"semantic_type\": \"\",\n        \"description\": \"\"\n      }\n    }\n  ]\n}"
            }
          },
          "metadata": {},
          "execution_count": 48
        }
      ],
      "source": [
        "df.head()\n",
        "df.info()\n",
        "df.describe()\n"
      ]
    },
    {
      "cell_type": "markdown",
      "id": "hmWmGdAGzRXF",
      "metadata": {
        "id": "hmWmGdAGzRXF"
      },
      "source": [
        "With the code below, we clean our data set removing any null or n/a values, take away any whitespaces found in the data set, and finally normalize our data set."
      ]
    },
    {
      "cell_type": "code",
      "execution_count": null,
      "id": "JooLTKpLzDZK",
      "metadata": {
        "id": "JooLTKpLzDZK",
        "colab": {
          "base_uri": "https://localhost:8080/"
        },
        "outputId": "78459467-11ec-4b0b-d165-3fbf3c09c7ff"
      },
      "outputs": [
        {
          "output_type": "stream",
          "name": "stdout",
          "text": [
            "\n",
            "--- DTypes AFTER ---\n",
            "Student_ID                         Int64\n",
            "Age                                int64\n",
            "Gender                          category\n",
            "Academic_Level                  category\n",
            "Country                         category\n",
            "Avg_Daily_Usage_Hours            float64\n",
            "Most_Used_Platform              category\n",
            "Affects_Academic_Performance    category\n",
            "Sleep_Hours_Per_Night            float64\n",
            "Mental_Health_Score                int64\n",
            "Relationship_Status             category\n",
            "Conflicts_Over_Social_Media        int64\n",
            "Addicted_Score                     int64\n",
            "dtype: object\n",
            "\n",
            "--- Missing values AFTER ---\n",
            "Student_ID                      0\n",
            "Age                             0\n",
            "Gender                          0\n",
            "Academic_Level                  0\n",
            "Country                         0\n",
            "Avg_Daily_Usage_Hours           0\n",
            "Most_Used_Platform              0\n",
            "Affects_Academic_Performance    0\n",
            "Sleep_Hours_Per_Night           0\n",
            "Mental_Health_Score             0\n",
            "Relationship_Status             0\n",
            "Conflicts_Over_Social_Media     0\n",
            "Addicted_Score                  0\n",
            "dtype: int64\n"
          ]
        }
      ],
      "source": [
        "# 3) Cleaning & Type Fixes\n",
        "df_clean = df.copy()\n",
        "\n",
        "# Helper: safe numeric conversion\n",
        "def to_numeric_safe(series):\n",
        "    return pd.to_numeric(series, errors=\"coerce\")\n",
        "\n",
        "# Columns (from your dataset)\n",
        "categorical_cols = [\n",
        "    \"Gender\",\n",
        "    \"Academic_Level\",\n",
        "    \"Country\",\n",
        "    \"Most_Used_Platform\",\n",
        "    \"Affects_Academic_Performance\",\n",
        "    \"Relationship_Status\",\n",
        "]\n",
        "numeric_cols = [\n",
        "    \"Age\",\n",
        "    \"Avg_Daily_Usage_Hours\",\n",
        "    \"Sleep_Hours_Per_Night\",\n",
        "    \"Mental_Health_Score\",\n",
        "    \"Conflicts_Over_Social_Media\",\n",
        "    \"Addicted_Score\",\n",
        "]\n",
        "\n",
        "# 3a) Strip whitespace from string-like columns that exist\n",
        "for col in categorical_cols:\n",
        "    if col in df_clean.columns:\n",
        "        df_clean[col] = df_clean[col].astype(str).str.strip()\n",
        "\n",
        "# 3b) Normalize key text columns to consistent casing\n",
        "if \"Most_Used_Platform\" in df_clean.columns:\n",
        "    df_clean[\"Most_Used_Platform\"] = df_clean[\"Most_Used_Platform\"].str.title()\n",
        "\n",
        "if \"Relationship_Status\" in df_clean.columns:\n",
        "    df_clean[\"Relationship_Status\"] = df_clean[\"Relationship_Status\"].str.title()\n",
        "\n",
        "if \"Affects_Academic_Performance\" in df_clean.columns:\n",
        "    # Normalize common variants (yes/no, y/n, true/false)\n",
        "    aap = df_clean[\"Affects_Academic_Performance\"].str.lower().str.strip()\n",
        "    mapping = {\n",
        "        \"yes\": \"Yes\", \"y\": \"Yes\", \"true\": \"Yes\", \"1\": \"Yes\",\n",
        "        \"no\": \"No\",  \"n\": \"No\",  \"false\": \"No\",  \"0\": \"No\"\n",
        "    }\n",
        "    df_clean[\"Affects_Academic_Performance\"] = aap.map(mapping).fillna(df_clean[\"Affects_Academic_Performance\"])\n",
        "\n",
        "# 3c) Convert numeric columns robustly\n",
        "for col in numeric_cols:\n",
        "    if col in df_clean.columns:\n",
        "        df_clean[col] = to_numeric_safe(df_clean[col])\n",
        "\n",
        "# 3d) (Optional) If Student_ID exists, ensure it’s integer-like\n",
        "if \"Student_ID\" in df_clean.columns:\n",
        "    df_clean[\"Student_ID\"] = to_numeric_safe(df_clean[\"Student_ID\"]).astype(\"Int64\")\n",
        "\n",
        "# 3e) Convert categorical columns to category dtype (saves memory, helps modeling later)\n",
        "for col in categorical_cols:\n",
        "    if col in df_clean.columns:\n",
        "        df_clean[col] = df_clean[col].astype(\"category\")\n",
        "\n",
        "print(\"\\n--- DTypes AFTER ---\")\n",
        "print(df_clean.dtypes)\n",
        "print(\"\\n--- Missing values AFTER ---\")\n",
        "print(df_clean.isnull().sum())"
      ]
    },
    {
      "cell_type": "code",
      "execution_count": null,
      "id": "J1MJG36w0EZG",
      "metadata": {
        "id": "J1MJG36w0EZG",
        "colab": {
          "base_uri": "https://localhost:8080/",
          "height": 226
        },
        "outputId": "f7435186-4381-44b4-ee7b-a0e748f61095"
      },
      "outputs": [
        {
          "output_type": "display_data",
          "data": {
            "text/plain": [
              "   Student_ID  Age  Gender Academic_Level     Country  Avg_Daily_Usage_Hours  \\\n",
              "0           1   19  Female  Undergraduate  Bangladesh                    5.2   \n",
              "1           2   22    Male       Graduate       India                    2.1   \n",
              "2           3   20  Female  Undergraduate         USA                    6.0   \n",
              "3           4   18    Male    High School          UK                    3.0   \n",
              "4           5   21    Male       Graduate      Canada                    4.5   \n",
              "\n",
              "  Most_Used_Platform Affects_Academic_Performance  Sleep_Hours_Per_Night  \\\n",
              "0          Instagram                          Yes                    6.5   \n",
              "1            Twitter                           No                    7.5   \n",
              "2             Tiktok                          Yes                    5.0   \n",
              "3            Youtube                           No                    7.0   \n",
              "4           Facebook                          Yes                    6.0   \n",
              "\n",
              "   Mental_Health_Score Relationship_Status  Conflicts_Over_Social_Media  \\\n",
              "0                    6     In Relationship                            3   \n",
              "1                    8              Single                            0   \n",
              "2                    5         Complicated                            4   \n",
              "3                    7              Single                            1   \n",
              "4                    6     In Relationship                            2   \n",
              "\n",
              "   Addicted_Score  \n",
              "0               8  \n",
              "1               3  \n",
              "2               9  \n",
              "3               4  \n",
              "4               7  "
            ],
            "text/html": [
              "\n",
              "  <div id=\"df-196fdc80-bfae-46f2-9559-a5fd8dd1d602\" class=\"colab-df-container\">\n",
              "    <div>\n",
              "<style scoped>\n",
              "    .dataframe tbody tr th:only-of-type {\n",
              "        vertical-align: middle;\n",
              "    }\n",
              "\n",
              "    .dataframe tbody tr th {\n",
              "        vertical-align: top;\n",
              "    }\n",
              "\n",
              "    .dataframe thead th {\n",
              "        text-align: right;\n",
              "    }\n",
              "</style>\n",
              "<table border=\"1\" class=\"dataframe\">\n",
              "  <thead>\n",
              "    <tr style=\"text-align: right;\">\n",
              "      <th></th>\n",
              "      <th>Student_ID</th>\n",
              "      <th>Age</th>\n",
              "      <th>Gender</th>\n",
              "      <th>Academic_Level</th>\n",
              "      <th>Country</th>\n",
              "      <th>Avg_Daily_Usage_Hours</th>\n",
              "      <th>Most_Used_Platform</th>\n",
              "      <th>Affects_Academic_Performance</th>\n",
              "      <th>Sleep_Hours_Per_Night</th>\n",
              "      <th>Mental_Health_Score</th>\n",
              "      <th>Relationship_Status</th>\n",
              "      <th>Conflicts_Over_Social_Media</th>\n",
              "      <th>Addicted_Score</th>\n",
              "    </tr>\n",
              "  </thead>\n",
              "  <tbody>\n",
              "    <tr>\n",
              "      <th>0</th>\n",
              "      <td>1</td>\n",
              "      <td>19</td>\n",
              "      <td>Female</td>\n",
              "      <td>Undergraduate</td>\n",
              "      <td>Bangladesh</td>\n",
              "      <td>5.2</td>\n",
              "      <td>Instagram</td>\n",
              "      <td>Yes</td>\n",
              "      <td>6.5</td>\n",
              "      <td>6</td>\n",
              "      <td>In Relationship</td>\n",
              "      <td>3</td>\n",
              "      <td>8</td>\n",
              "    </tr>\n",
              "    <tr>\n",
              "      <th>1</th>\n",
              "      <td>2</td>\n",
              "      <td>22</td>\n",
              "      <td>Male</td>\n",
              "      <td>Graduate</td>\n",
              "      <td>India</td>\n",
              "      <td>2.1</td>\n",
              "      <td>Twitter</td>\n",
              "      <td>No</td>\n",
              "      <td>7.5</td>\n",
              "      <td>8</td>\n",
              "      <td>Single</td>\n",
              "      <td>0</td>\n",
              "      <td>3</td>\n",
              "    </tr>\n",
              "    <tr>\n",
              "      <th>2</th>\n",
              "      <td>3</td>\n",
              "      <td>20</td>\n",
              "      <td>Female</td>\n",
              "      <td>Undergraduate</td>\n",
              "      <td>USA</td>\n",
              "      <td>6.0</td>\n",
              "      <td>Tiktok</td>\n",
              "      <td>Yes</td>\n",
              "      <td>5.0</td>\n",
              "      <td>5</td>\n",
              "      <td>Complicated</td>\n",
              "      <td>4</td>\n",
              "      <td>9</td>\n",
              "    </tr>\n",
              "    <tr>\n",
              "      <th>3</th>\n",
              "      <td>4</td>\n",
              "      <td>18</td>\n",
              "      <td>Male</td>\n",
              "      <td>High School</td>\n",
              "      <td>UK</td>\n",
              "      <td>3.0</td>\n",
              "      <td>Youtube</td>\n",
              "      <td>No</td>\n",
              "      <td>7.0</td>\n",
              "      <td>7</td>\n",
              "      <td>Single</td>\n",
              "      <td>1</td>\n",
              "      <td>4</td>\n",
              "    </tr>\n",
              "    <tr>\n",
              "      <th>4</th>\n",
              "      <td>5</td>\n",
              "      <td>21</td>\n",
              "      <td>Male</td>\n",
              "      <td>Graduate</td>\n",
              "      <td>Canada</td>\n",
              "      <td>4.5</td>\n",
              "      <td>Facebook</td>\n",
              "      <td>Yes</td>\n",
              "      <td>6.0</td>\n",
              "      <td>6</td>\n",
              "      <td>In Relationship</td>\n",
              "      <td>2</td>\n",
              "      <td>7</td>\n",
              "    </tr>\n",
              "  </tbody>\n",
              "</table>\n",
              "</div>\n",
              "    <div class=\"colab-df-buttons\">\n",
              "\n",
              "  <div class=\"colab-df-container\">\n",
              "    <button class=\"colab-df-convert\" onclick=\"convertToInteractive('df-196fdc80-bfae-46f2-9559-a5fd8dd1d602')\"\n",
              "            title=\"Convert this dataframe to an interactive table.\"\n",
              "            style=\"display:none;\">\n",
              "\n",
              "  <svg xmlns=\"http://www.w3.org/2000/svg\" height=\"24px\" viewBox=\"0 -960 960 960\">\n",
              "    <path d=\"M120-120v-720h720v720H120Zm60-500h600v-160H180v160Zm220 220h160v-160H400v160Zm0 220h160v-160H400v160ZM180-400h160v-160H180v160Zm440 0h160v-160H620v160ZM180-180h160v-160H180v160Zm440 0h160v-160H620v160Z\"/>\n",
              "  </svg>\n",
              "    </button>\n",
              "\n",
              "  <style>\n",
              "    .colab-df-container {\n",
              "      display:flex;\n",
              "      gap: 12px;\n",
              "    }\n",
              "\n",
              "    .colab-df-convert {\n",
              "      background-color: #E8F0FE;\n",
              "      border: none;\n",
              "      border-radius: 50%;\n",
              "      cursor: pointer;\n",
              "      display: none;\n",
              "      fill: #1967D2;\n",
              "      height: 32px;\n",
              "      padding: 0 0 0 0;\n",
              "      width: 32px;\n",
              "    }\n",
              "\n",
              "    .colab-df-convert:hover {\n",
              "      background-color: #E2EBFA;\n",
              "      box-shadow: 0px 1px 2px rgba(60, 64, 67, 0.3), 0px 1px 3px 1px rgba(60, 64, 67, 0.15);\n",
              "      fill: #174EA6;\n",
              "    }\n",
              "\n",
              "    .colab-df-buttons div {\n",
              "      margin-bottom: 4px;\n",
              "    }\n",
              "\n",
              "    [theme=dark] .colab-df-convert {\n",
              "      background-color: #3B4455;\n",
              "      fill: #D2E3FC;\n",
              "    }\n",
              "\n",
              "    [theme=dark] .colab-df-convert:hover {\n",
              "      background-color: #434B5C;\n",
              "      box-shadow: 0px 1px 3px 1px rgba(0, 0, 0, 0.15);\n",
              "      filter: drop-shadow(0px 1px 2px rgba(0, 0, 0, 0.3));\n",
              "      fill: #FFFFFF;\n",
              "    }\n",
              "  </style>\n",
              "\n",
              "    <script>\n",
              "      const buttonEl =\n",
              "        document.querySelector('#df-196fdc80-bfae-46f2-9559-a5fd8dd1d602 button.colab-df-convert');\n",
              "      buttonEl.style.display =\n",
              "        google.colab.kernel.accessAllowed ? 'block' : 'none';\n",
              "\n",
              "      async function convertToInteractive(key) {\n",
              "        const element = document.querySelector('#df-196fdc80-bfae-46f2-9559-a5fd8dd1d602');\n",
              "        const dataTable =\n",
              "          await google.colab.kernel.invokeFunction('convertToInteractive',\n",
              "                                                    [key], {});\n",
              "        if (!dataTable) return;\n",
              "\n",
              "        const docLinkHtml = 'Like what you see? Visit the ' +\n",
              "          '<a target=\"_blank\" href=https://colab.research.google.com/notebooks/data_table.ipynb>data table notebook</a>'\n",
              "          + ' to learn more about interactive tables.';\n",
              "        element.innerHTML = '';\n",
              "        dataTable['output_type'] = 'display_data';\n",
              "        await google.colab.output.renderOutput(dataTable, element);\n",
              "        const docLink = document.createElement('div');\n",
              "        docLink.innerHTML = docLinkHtml;\n",
              "        element.appendChild(docLink);\n",
              "      }\n",
              "    </script>\n",
              "  </div>\n",
              "\n",
              "\n",
              "    <div id=\"df-6bb62e42-9bee-4fd3-a3a2-dbbd7174b9d2\">\n",
              "      <button class=\"colab-df-quickchart\" onclick=\"quickchart('df-6bb62e42-9bee-4fd3-a3a2-dbbd7174b9d2')\"\n",
              "                title=\"Suggest charts\"\n",
              "                style=\"display:none;\">\n",
              "\n",
              "<svg xmlns=\"http://www.w3.org/2000/svg\" height=\"24px\"viewBox=\"0 0 24 24\"\n",
              "     width=\"24px\">\n",
              "    <g>\n",
              "        <path d=\"M19 3H5c-1.1 0-2 .9-2 2v14c0 1.1.9 2 2 2h14c1.1 0 2-.9 2-2V5c0-1.1-.9-2-2-2zM9 17H7v-7h2v7zm4 0h-2V7h2v10zm4 0h-2v-4h2v4z\"/>\n",
              "    </g>\n",
              "</svg>\n",
              "      </button>\n",
              "\n",
              "<style>\n",
              "  .colab-df-quickchart {\n",
              "      --bg-color: #E8F0FE;\n",
              "      --fill-color: #1967D2;\n",
              "      --hover-bg-color: #E2EBFA;\n",
              "      --hover-fill-color: #174EA6;\n",
              "      --disabled-fill-color: #AAA;\n",
              "      --disabled-bg-color: #DDD;\n",
              "  }\n",
              "\n",
              "  [theme=dark] .colab-df-quickchart {\n",
              "      --bg-color: #3B4455;\n",
              "      --fill-color: #D2E3FC;\n",
              "      --hover-bg-color: #434B5C;\n",
              "      --hover-fill-color: #FFFFFF;\n",
              "      --disabled-bg-color: #3B4455;\n",
              "      --disabled-fill-color: #666;\n",
              "  }\n",
              "\n",
              "  .colab-df-quickchart {\n",
              "    background-color: var(--bg-color);\n",
              "    border: none;\n",
              "    border-radius: 50%;\n",
              "    cursor: pointer;\n",
              "    display: none;\n",
              "    fill: var(--fill-color);\n",
              "    height: 32px;\n",
              "    padding: 0;\n",
              "    width: 32px;\n",
              "  }\n",
              "\n",
              "  .colab-df-quickchart:hover {\n",
              "    background-color: var(--hover-bg-color);\n",
              "    box-shadow: 0 1px 2px rgba(60, 64, 67, 0.3), 0 1px 3px 1px rgba(60, 64, 67, 0.15);\n",
              "    fill: var(--button-hover-fill-color);\n",
              "  }\n",
              "\n",
              "  .colab-df-quickchart-complete:disabled,\n",
              "  .colab-df-quickchart-complete:disabled:hover {\n",
              "    background-color: var(--disabled-bg-color);\n",
              "    fill: var(--disabled-fill-color);\n",
              "    box-shadow: none;\n",
              "  }\n",
              "\n",
              "  .colab-df-spinner {\n",
              "    border: 2px solid var(--fill-color);\n",
              "    border-color: transparent;\n",
              "    border-bottom-color: var(--fill-color);\n",
              "    animation:\n",
              "      spin 1s steps(1) infinite;\n",
              "  }\n",
              "\n",
              "  @keyframes spin {\n",
              "    0% {\n",
              "      border-color: transparent;\n",
              "      border-bottom-color: var(--fill-color);\n",
              "      border-left-color: var(--fill-color);\n",
              "    }\n",
              "    20% {\n",
              "      border-color: transparent;\n",
              "      border-left-color: var(--fill-color);\n",
              "      border-top-color: var(--fill-color);\n",
              "    }\n",
              "    30% {\n",
              "      border-color: transparent;\n",
              "      border-left-color: var(--fill-color);\n",
              "      border-top-color: var(--fill-color);\n",
              "      border-right-color: var(--fill-color);\n",
              "    }\n",
              "    40% {\n",
              "      border-color: transparent;\n",
              "      border-right-color: var(--fill-color);\n",
              "      border-top-color: var(--fill-color);\n",
              "    }\n",
              "    60% {\n",
              "      border-color: transparent;\n",
              "      border-right-color: var(--fill-color);\n",
              "    }\n",
              "    80% {\n",
              "      border-color: transparent;\n",
              "      border-right-color: var(--fill-color);\n",
              "      border-bottom-color: var(--fill-color);\n",
              "    }\n",
              "    90% {\n",
              "      border-color: transparent;\n",
              "      border-bottom-color: var(--fill-color);\n",
              "    }\n",
              "  }\n",
              "</style>\n",
              "\n",
              "      <script>\n",
              "        async function quickchart(key) {\n",
              "          const quickchartButtonEl =\n",
              "            document.querySelector('#' + key + ' button');\n",
              "          quickchartButtonEl.disabled = true;  // To prevent multiple clicks.\n",
              "          quickchartButtonEl.classList.add('colab-df-spinner');\n",
              "          try {\n",
              "            const charts = await google.colab.kernel.invokeFunction(\n",
              "                'suggestCharts', [key], {});\n",
              "          } catch (error) {\n",
              "            console.error('Error during call to suggestCharts:', error);\n",
              "          }\n",
              "          quickchartButtonEl.classList.remove('colab-df-spinner');\n",
              "          quickchartButtonEl.classList.add('colab-df-quickchart-complete');\n",
              "        }\n",
              "        (() => {\n",
              "          let quickchartButtonEl =\n",
              "            document.querySelector('#df-6bb62e42-9bee-4fd3-a3a2-dbbd7174b9d2 button');\n",
              "          quickchartButtonEl.style.display =\n",
              "            google.colab.kernel.accessAllowed ? 'block' : 'none';\n",
              "        })();\n",
              "      </script>\n",
              "    </div>\n",
              "\n",
              "    </div>\n",
              "  </div>\n"
            ],
            "application/vnd.google.colaboratory.intrinsic+json": {
              "type": "dataframe",
              "summary": "{\n  \"name\": \"display(df_clean\",\n  \"rows\": 5,\n  \"fields\": [\n    {\n      \"column\": \"Student_ID\",\n      \"properties\": {\n        \"dtype\": \"Int64\",\n        \"num_unique_values\": 5,\n        \"samples\": [\n          2,\n          5,\n          3\n        ],\n        \"semantic_type\": \"\",\n        \"description\": \"\"\n      }\n    },\n    {\n      \"column\": \"Age\",\n      \"properties\": {\n        \"dtype\": \"number\",\n        \"std\": 1,\n        \"min\": 18,\n        \"max\": 22,\n        \"num_unique_values\": 5,\n        \"samples\": [\n          22,\n          21,\n          20\n        ],\n        \"semantic_type\": \"\",\n        \"description\": \"\"\n      }\n    },\n    {\n      \"column\": \"Gender\",\n      \"properties\": {\n        \"dtype\": \"category\",\n        \"num_unique_values\": 2,\n        \"samples\": [\n          \"Male\",\n          \"Female\"\n        ],\n        \"semantic_type\": \"\",\n        \"description\": \"\"\n      }\n    },\n    {\n      \"column\": \"Academic_Level\",\n      \"properties\": {\n        \"dtype\": \"category\",\n        \"num_unique_values\": 3,\n        \"samples\": [\n          \"Undergraduate\",\n          \"Graduate\"\n        ],\n        \"semantic_type\": \"\",\n        \"description\": \"\"\n      }\n    },\n    {\n      \"column\": \"Country\",\n      \"properties\": {\n        \"dtype\": \"category\",\n        \"num_unique_values\": 5,\n        \"samples\": [\n          \"India\",\n          \"Canada\"\n        ],\n        \"semantic_type\": \"\",\n        \"description\": \"\"\n      }\n    },\n    {\n      \"column\": \"Avg_Daily_Usage_Hours\",\n      \"properties\": {\n        \"dtype\": \"number\",\n        \"std\": 1.5946786510140532,\n        \"min\": 2.1,\n        \"max\": 6.0,\n        \"num_unique_values\": 5,\n        \"samples\": [\n          2.1,\n          4.5\n        ],\n        \"semantic_type\": \"\",\n        \"description\": \"\"\n      }\n    },\n    {\n      \"column\": \"Most_Used_Platform\",\n      \"properties\": {\n        \"dtype\": \"category\",\n        \"num_unique_values\": 5,\n        \"samples\": [\n          \"Twitter\",\n          \"Facebook\"\n        ],\n        \"semantic_type\": \"\",\n        \"description\": \"\"\n      }\n    },\n    {\n      \"column\": \"Affects_Academic_Performance\",\n      \"properties\": {\n        \"dtype\": \"category\",\n        \"num_unique_values\": 2,\n        \"samples\": [\n          \"No\",\n          \"Yes\"\n        ],\n        \"semantic_type\": \"\",\n        \"description\": \"\"\n      }\n    },\n    {\n      \"column\": \"Sleep_Hours_Per_Night\",\n      \"properties\": {\n        \"dtype\": \"number\",\n        \"std\": 0.9617692030835673,\n        \"min\": 5.0,\n        \"max\": 7.5,\n        \"num_unique_values\": 5,\n        \"samples\": [\n          7.5,\n          6.0\n        ],\n        \"semantic_type\": \"\",\n        \"description\": \"\"\n      }\n    },\n    {\n      \"column\": \"Mental_Health_Score\",\n      \"properties\": {\n        \"dtype\": \"number\",\n        \"std\": 1,\n        \"min\": 5,\n        \"max\": 8,\n        \"num_unique_values\": 4,\n        \"samples\": [\n          8,\n          7\n        ],\n        \"semantic_type\": \"\",\n        \"description\": \"\"\n      }\n    },\n    {\n      \"column\": \"Relationship_Status\",\n      \"properties\": {\n        \"dtype\": \"category\",\n        \"num_unique_values\": 3,\n        \"samples\": [\n          \"In Relationship\",\n          \"Single\"\n        ],\n        \"semantic_type\": \"\",\n        \"description\": \"\"\n      }\n    },\n    {\n      \"column\": \"Conflicts_Over_Social_Media\",\n      \"properties\": {\n        \"dtype\": \"number\",\n        \"std\": 1,\n        \"min\": 0,\n        \"max\": 4,\n        \"num_unique_values\": 5,\n        \"samples\": [\n          0,\n          2\n        ],\n        \"semantic_type\": \"\",\n        \"description\": \"\"\n      }\n    },\n    {\n      \"column\": \"Addicted_Score\",\n      \"properties\": {\n        \"dtype\": \"number\",\n        \"std\": 2,\n        \"min\": 3,\n        \"max\": 9,\n        \"num_unique_values\": 5,\n        \"samples\": [\n          3,\n          7\n        ],\n        \"semantic_type\": \"\",\n        \"description\": \"\"\n      }\n    }\n  ]\n}"
            }
          },
          "metadata": {}
        }
      ],
      "source": [
        "import numpy as np\n",
        "import pandas as pd\n",
        "import matplotlib.pyplot as plt\n",
        "import seaborn as sns\n",
        "\n",
        "sns.set(style=\"whitegrid\")\n",
        "plt.rcParams[\"figure.figsize\"] = (6,4)\n",
        "\n",
        "# Quick peek\n",
        "display(df_clean.head())"
      ]
    },
    {
      "cell_type": "markdown",
      "id": "Nke2GhdURFW2",
      "metadata": {
        "id": "Nke2GhdURFW2"
      },
      "source": [
        "In the below section we perform a exploratory data analysis. We will visualize the data distributions, identify patterns, and formulate potential questions."
      ]
    },
    {
      "cell_type": "markdown",
      "id": "spgpdS9f0Njz",
      "metadata": {
        "id": "spgpdS9f0Njz"
      },
      "source": [
        "Distribution: Addiction score"
      ]
    },
    {
      "cell_type": "code",
      "execution_count": null,
      "id": "vCoU43WM0H-i",
      "metadata": {
        "id": "vCoU43WM0H-i",
        "colab": {
          "base_uri": "https://localhost:8080/",
          "height": 419
        },
        "outputId": "de023a64-6f97-4997-f5b9-ccf31be3eea3"
      },
      "outputs": [
        {
          "output_type": "display_data",
          "data": {
            "text/plain": [
              "<Figure size 600x400 with 1 Axes>"
            ],
            "image/png": "[encoded data removed]"
          },
          "metadata": {}
        }
      ],
      "source": [
        "plt.figure()\n",
        "sns.histplot(df_clean[\"Addicted_Score\"], bins=10, kde=True)\n",
        "plt.title(\"Distribution of Social Media Addiction Scores\")\n",
        "plt.xlabel(\"Addicted_Score\")\n",
        "plt.ylabel(\"Count\")\n",
        "plt.show()"
      ]
    },
    {
      "cell_type": "markdown",
      "id": "pO9WMd1F0Wp5",
      "metadata": {
        "id": "pO9WMd1F0Wp5"
      },
      "source": [
        "Distribution: Daily usage hours"
      ]
    },
    {
      "cell_type": "code",
      "execution_count": null,
      "id": "XznFha-c0Se7",
      "metadata": {
        "id": "XznFha-c0Se7",
        "colab": {
          "base_uri": "https://localhost:8080/",
          "height": 419
        },
        "outputId": "505024ed-d3dd-4001-be6d-c151815f14aa"
      },
      "outputs": [
        {
          "output_type": "display_data",
          "data": {
            "text/plain": [
              "<Figure size 600x400 with 1 Axes>"
            ],
            "image/png": "[encoded data removed]"
          },
          "metadata": {}
        }
      ],
      "source": [
        "plt.figure()\n",
        "sns.histplot(df_clean[\"Avg_Daily_Usage_Hours\"], bins=20, kde=True)\n",
        "plt.title(\"Distribution of Average Daily Usage Hours\")\n",
        "plt.xlabel(\"Daily Usage (Hours)\")\n",
        "plt.ylabel(\"Count\")\n",
        "plt.show()"
      ]
    },
    {
      "cell_type": "markdown",
      "id": "bMj8zOuf0aY7",
      "metadata": {
        "id": "bMj8zOuf0aY7"
      },
      "source": [
        "Categorical count: Most used platform"
      ]
    },
    {
      "cell_type": "code",
      "execution_count": null,
      "id": "WOZrOBVH0b4w",
      "metadata": {
        "id": "WOZrOBVH0b4w",
        "colab": {
          "base_uri": "https://localhost:8080/",
          "height": 501
        },
        "outputId": "236da58e-7a64-4d29-c6c6-32c80d329c55"
      },
      "outputs": [
        {
          "output_type": "display_data",
          "data": {
            "text/plain": [
              "<Figure size 800x500 with 1 Axes>"
            ],
            "image/png": "[encoded data removed]"
          },
          "metadata": {}
        }
      ],
      "source": [
        "plt.figure(figsize=(8,5))\n",
        "order = df_clean[\"Most_Used_Platform\"].value_counts().index\n",
        "sns.countplot(data=df_clean, x=\"Most_Used_Platform\", order=order)\n",
        "plt.title(\"Most Used Social Media Platforms\")\n",
        "plt.xlabel(\"Platform\")\n",
        "plt.ylabel(\"Number of Students\")\n",
        "plt.xticks(rotation=45, ha=\"right\")\n",
        "plt.tight_layout()\n",
        "plt.show()"
      ]
    },
    {
      "cell_type": "markdown",
      "id": "SweLC6970ozl",
      "metadata": {
        "id": "SweLC6970ozl"
      },
      "source": [
        "Addiction score by gender (boxplot)"
      ]
    },
    {
      "cell_type": "code",
      "execution_count": null,
      "id": "AHJ6aCZM0gxR",
      "metadata": {
        "id": "AHJ6aCZM0gxR",
        "colab": {
          "base_uri": "https://localhost:8080/",
          "height": 419
        },
        "outputId": "f03a3362-f576-4e1a-f749-fb44b2c984cb"
      },
      "outputs": [
        {
          "output_type": "display_data",
          "data": {
            "text/plain": [
              "<Figure size 600x400 with 1 Axes>"
            ],
            "image/png": "[encoded data removed]"
          },
          "metadata": {}
        }
      ],
      "source": [
        "plt.figure()\n",
        "sns.boxplot(data=df_clean, x=\"Gender\", y=\"Addicted_Score\")\n",
        "plt.title(\"Addiction Score by Gender\")\n",
        "plt.xlabel(\"Gender\")\n",
        "plt.ylabel(\"Addicted_Score\")\n",
        "plt.show()\n"
      ]
    },
    {
      "cell_type": "markdown",
      "id": "Zh6Jgn_1XBQg",
      "metadata": {
        "id": "Zh6Jgn_1XBQg"
      },
      "source": [
        "Installing mrjob."
      ]
    },
    {
      "cell_type": "code",
      "execution_count": null,
      "id": "YmKLvS9KwvdS",
      "metadata": {
        "id": "YmKLvS9KwvdS",
        "colab": {
          "base_uri": "https://localhost:8080/"
        },
        "outputId": "64e9ebfe-5345-4295-bf33-e66c1d94fe1e"
      },
      "outputs": [
        {
          "output_type": "stream",
          "name": "stdout",
          "text": [
            "\u001b[?25l   \u001b[90m━━━━━━━━━━━━━━━━━━━━━━━━━━━━━━━━━━━━━━━━\u001b[0m \u001b[32m0.0/439.6 kB\u001b[0m \u001b[31m?\u001b[0m eta \u001b[36m-:--:--\u001b[0m\r\u001b[2K   \u001b[91m━━━━━━━━━\u001b[0m\u001b[90m╺\u001b[0m\u001b[90m━━━━━━━━━━━━━━━━━━━━━━━━━━━━━━\u001b[0m \u001b[32m102.4/439.6 kB\u001b[0m \u001b[31m2.8 MB/s\u001b[0m eta \u001b[36m0:00:01\u001b[0m\r\u001b[2K   \u001b[91m━━━━━━━━━━━━━━━━━━━━━━━━━━━━━━━━━━━━━━━\u001b[0m\u001b[90m╺\u001b[0m \u001b[32m430.1/439.6 kB\u001b[0m \u001b[31m7.1 MB/s\u001b[0m eta \u001b[36m0:00:01\u001b[0m\r\u001b[2K   \u001b[90m━━━━━━━━━━━━━━━━━━━━━━━━━━━━━━━━━━━━━━━━\u001b[0m \u001b[32m439.6/439.6 kB\u001b[0m \u001b[31m5.8 MB/s\u001b[0m eta \u001b[36m0:00:00\u001b[0m\n",
            "\u001b[?25h"
          ]
        }
      ],
      "source": [
        "!pip -q install mrjob"
      ]
    },
    {
      "cell_type": "markdown",
      "id": "cwV_nN5A11Oz",
      "metadata": {
        "id": "cwV_nN5A11Oz"
      },
      "source": [
        "Avg Addiction by Platform"
      ]
    },
    {
      "cell_type": "markdown",
      "id": "aGC_RS-_SKrT",
      "metadata": {
        "id": "aGC_RS-_SKrT"
      },
      "source": [
        "Question: Which platforms are associated with higher average addiction scores?"
      ]
    },
    {
      "cell_type": "code",
      "execution_count": null,
      "id": "8PmghNM81gMJ",
      "metadata": {
        "id": "8PmghNM81gMJ",
        "colab": {
          "base_uri": "https://localhost:8080/"
        },
        "outputId": "76d2bcbb-63b0-49ad-8d7f-f5b20ca87d7b"
      },
      "outputs": [
        {
          "output_type": "stream",
          "name": "stdout",
          "text": [
            "Writing mrjob_avg_addiction_by_platform.py\n"
          ]
        }
      ],
      "source": [
        "%%writefile mrjob_avg_addiction_by_platform.py\n",
        "from mrjob.job import MRJob\n",
        "from mrjob.step import MRStep\n",
        "import csv\n",
        "import sys\n",
        "\n",
        "class AvgAddictionByPlatform(MRJob):\n",
        "    # Make sure we read CSV rows safely\n",
        "    def mapper(self, _, line):\n",
        "        # Skip header by detecting column name in first line\n",
        "        if line.lower().startswith(\"student_id,\") or line.lower().startswith('\"student_id\",'):\n",
        "            return\n",
        "\n",
        "        # Robust CSV parsing\n",
        "        try:\n",
        "            row = next(csv.reader([line]))\n",
        "        except Exception:\n",
        "            return\n",
        "\n",
        "        # Column indices based on your file:\n",
        "        # ['Student_ID','Age','Gender','Academic_Level','Country',\n",
        "        #  'Avg_Daily_Usage_Hours','Most_Used_Platform','Affects_Academic_Performance',\n",
        "        #  'Sleep_Hours_Per_Night','Mental_Health_Score','Relationship_Status',\n",
        "        #  'Conflicts_Over_Social_Media','Addicted_Score']\n",
        "        try:\n",
        "            platform = row[6].strip().title()\n",
        "            addicted_score = row[12].strip()\n",
        "            if platform and addicted_score != \"\":\n",
        "                addicted_score = float(addicted_score)\n",
        "                yield platform, (addicted_score, 1)\n",
        "        except Exception:\n",
        "            pass\n",
        "\n",
        "    def reducer(self, platform, values):\n",
        "        total = 0.0\n",
        "        count = 0\n",
        "        for s, c in values:\n",
        "            total += s\n",
        "            count += c\n",
        "        if count > 0:\n",
        "            yield platform, round(total / count, 3)\n",
        "\n",
        "    # Optional: sort results descending by average\n",
        "    def steps(self):\n",
        "        return [\n",
        "            MRStep(mapper=self.mapper, reducer=self.reducer),\n",
        "        ]\n",
        "\n",
        "if __name__ == \"__main__\":\n",
        "    AvgAddictionByPlatform.run()"
      ]
    },
    {
      "cell_type": "code",
      "execution_count": null,
      "id": "FZv_erw_1ljJ",
      "metadata": {
        "id": "FZv_erw_1ljJ",
        "colab": {
          "base_uri": "https://localhost:8080/"
        },
        "outputId": "2f5cd1d5-4399-4777-a38b-98cc472576fb"
      },
      "outputs": [
        {
          "output_type": "stream",
          "name": "stdout",
          "text": [
            "No configs found; falling back on auto-configuration\n",
            "No configs specified for inline runner\n",
            "Creating temp directory /tmp/mrjob_avg_addiction_by_platform.root.20250903.082759.046138\n",
            "Running step 1 of 1...\n",
            "job output is in /tmp/mrjob_avg_addiction_by_platform.root.20250903.082759.046138/output\n",
            "Streaming final output from /tmp/mrjob_avg_addiction_by_platform.root.20250903.082759.046138/output...\n",
            "\"Facebook\"\t5.667\n",
            "\"Instagram\"\t6.554\n",
            "\"Twitter\"\t5.5\n",
            "\"Vkontakte\"\t5.0\n",
            "\"Wechat\"\t6.067\n",
            "\"Whatsapp\"\t7.463\n",
            "\"Youtube\"\t6.1\n",
            "\"Kakaotalk\"\t6.0\n",
            "\"Line\"\t3.0\n",
            "\"Linkedin\"\t3.81\n",
            "\"Snapchat\"\t7.462\n",
            "\"Tiktok\"\t7.429\n",
            "Removing temp directory /tmp/mrjob_avg_addiction_by_platform.root.20250903.082759.046138...\n"
          ]
        }
      ],
      "source": [
        "!python mrjob_avg_addiction_by_platform.py \"Students Social Media Addiction.csv\" -r inline"
      ]
    },
    {
      "cell_type": "markdown",
      "id": "1WCuI1rI3KTQ",
      "metadata": {
        "id": "1WCuI1rI3KTQ"
      },
      "source": [
        "Usage vs Mental Health"
      ]
    },
    {
      "cell_type": "markdown",
      "id": "cnqoarH7SQVi",
      "metadata": {
        "id": "cnqoarH7SQVi"
      },
      "source": [
        "Question: Is there a linear relationship between daily usage hours and mental health scores?"
      ]
    },
    {
      "cell_type": "code",
      "execution_count": null,
      "id": "Hxog3ycr3R4J",
      "metadata": {
        "id": "Hxog3ycr3R4J",
        "colab": {
          "base_uri": "https://localhost:8080/"
        },
        "outputId": "3227c2d5-ee1f-409c-a34e-64ea52edb9b3"
      },
      "outputs": [
        {
          "output_type": "stream",
          "name": "stdout",
          "text": [
            "Writing mrjob_usage_vs_mentalhealth_corr.py\n"
          ]
        }
      ],
      "source": [
        "%%writefile mrjob_usage_vs_mentalhealth_corr.py\n",
        "from mrjob.job import MRJob\n",
        "import csv\n",
        "\n",
        "class UsageMentalHealthCorrelation(MRJob):\n",
        "    def mapper(self, _, line):\n",
        "        if line.lower().startswith(\"student_id,\") or line.lower().startswith('\"student_id\",'):\n",
        "            return\n",
        "        try:\n",
        "            row = next(csv.reader([line]))\n",
        "        except Exception:\n",
        "            return\n",
        "\n",
        "        try:\n",
        "            x = float(row[5])   # Avg_Daily_Usage_Hours\n",
        "            y = float(row[9])   # Mental_Health_Score\n",
        "            # Emit a single key \"stats\" with the sufficient statistics\n",
        "            yield \"stats\", (1, x, y, x*x, y*y, x*y)\n",
        "        except Exception:\n",
        "            pass\n",
        "\n",
        "    def reducer(self, key, values):\n",
        "        n = sx = sy = sxx = syy = sxy = 0.0\n",
        "        for c, x, y, x2, y2, xy in values:\n",
        "            n += c\n",
        "            sx += x\n",
        "            sy += y\n",
        "            sxx += x2\n",
        "            syy += y2\n",
        "            sxy += xy\n",
        "\n",
        "        # Compute Pearson r\n",
        "        # r = [n*Σxy - (Σx)(Σy)] / sqrt([n*Σx2 - (Σx)^2] * [n*Σy2 - (Σy)^2])\n",
        "        num = n * sxy - sx * sy\n",
        "        den_x = n * sxx - sx * sx\n",
        "        den_y = n * syy - sy * sy\n",
        "\n",
        "        if den_x <= 0 or den_y <= 0:\n",
        "            yield \"pearson_r\", None\n",
        "        else:\n",
        "            r = num / ((den_x * den_y) ** 0.5)\n",
        "            yield \"pearson_r\", round(r, 4)\n",
        "\n",
        "if __name__ == \"__main__\":\n",
        "    UsageMentalHealthCorrelation.run()\n"
      ]
    },
    {
      "cell_type": "code",
      "execution_count": null,
      "id": "Wv2j1_vk3WhD",
      "metadata": {
        "id": "Wv2j1_vk3WhD",
        "colab": {
          "base_uri": "https://localhost:8080/"
        },
        "outputId": "a0c60d12-33d8-4d39-8be8-0859ef8d10f4"
      },
      "outputs": [
        {
          "output_type": "stream",
          "name": "stdout",
          "text": [
            "No configs found; falling back on auto-configuration\n",
            "No configs specified for inline runner\n",
            "Creating temp directory /tmp/mrjob_usage_vs_mentalhealth_corr.root.20250903.082805.636176\n",
            "Running step 1 of 1...\n",
            "job output is in /tmp/mrjob_usage_vs_mentalhealth_corr.root.20250903.082805.636176/output\n",
            "Streaming final output from /tmp/mrjob_usage_vs_mentalhealth_corr.root.20250903.082805.636176/output...\n",
            "\"pearson_r\"\t-0.8011\n",
            "Removing temp directory /tmp/mrjob_usage_vs_mentalhealth_corr.root.20250903.082805.636176...\n"
          ]
        }
      ],
      "source": [
        "!python mrjob_usage_vs_mentalhealth_corr.py \"Students Social Media Addiction.csv\" -r inline"
      ]
    },
    {
      "cell_type": "markdown",
      "id": "5UgXJD4D9KSJ",
      "metadata": {
        "id": "5UgXJD4D9KSJ"
      },
      "source": [
        "### **Spark** RDDs"
      ]
    },
    {
      "cell_type": "code",
      "execution_count": null,
      "id": "VlUV4gJb9CiB",
      "metadata": {
        "id": "VlUV4gJb9CiB",
        "colab": {
          "base_uri": "https://localhost:8080/"
        },
        "outputId": "d9e89dfc-c394-4a1c-cd82-5e8629befe65"
      },
      "outputs": [
        {
          "output_type": "stream",
          "name": "stdout",
          "text": [
            "Spark version: 3.5.2\n",
            "Master: local[*]\n"
          ]
        }
      ],
      "source": [
        "!pip -q install pyspark==3.5.2\n",
        "\n",
        "from pyspark.sql import SparkSession\n",
        "spark = SparkSession.builder.appName(\"SocialMediaAddiction\").getOrCreate()\n",
        "sc = spark.sparkContext\n",
        "\n",
        "print(\"Spark version:\", spark.version)\n",
        "print(\"Master:\", sc.master)"
      ]
    },
    {
      "cell_type": "code",
      "execution_count": null,
      "id": "chJDLOty9M0n",
      "metadata": {
        "id": "chJDLOty9M0n",
        "colab": {
          "base_uri": "https://localhost:8080/",
          "height": 90
        },
        "outputId": "35a63517-cc9b-441b-e1a6-36ace11ed4a8"
      },
      "outputs": [
        {
          "output_type": "display_data",
          "data": {
            "text/plain": [
              "<IPython.core.display.HTML object>"
            ],
            "text/html": [
              "\n",
              "     <input type=\"file\" id=\"files-92ef9db1-0903-475c-9eae-c538659eb975\" name=\"files[]\" multiple disabled\n",
              "        style=\"border:none\" />\n",
              "     <output id=\"result-92ef9db1-0903-475c-9eae-c538659eb975\">\n",
              "      Upload widget is only available when the cell has been executed in the\n",
              "      current browser session. Please rerun this cell to enable.\n",
              "      </output>\n",
              "      <script>// Copyright 2017 Google LLC\n",
              "//\n",
              "// Licensed under the Apache License, Version 2.0 (the \"License\");\n",
              "// you may not use this file except in compliance with the License.\n",
              "// You may obtain a copy of the License at\n",
              "//\n",
              "//      http://www.apache.org/licenses/LICENSE-2.0\n",
              "//\n",
              "// Unless required by applicable law or agreed to in writing, software\n",
              "// distributed under the License is distributed on an \"AS IS\" BASIS,\n",
              "// WITHOUT WARRANTIES OR CONDITIONS OF ANY KIND, either express or implied.\n",
              "// See the License for the specific language governing permissions and\n",
              "// limitations under the License.\n",
              "\n",
              "/**\n",
              " * @fileoverview Helpers for google.colab Python module.\n",
              " */\n",
              "(function(scope) {\n",
              "function span(text, styleAttributes = {}) {\n",
              "  const element = document.createElement('span');\n",
              "  element.textContent = text;\n",
              "  for (const key of Object.keys(styleAttributes)) {\n",
              "    element.style[key] = styleAttributes[key];\n",
              "  }\n",
              "  return element;\n",
              "}\n",
              "\n",
              "// Max number of bytes which will be uploaded at a time.\n",
              "const MAX_PAYLOAD_SIZE = 100 * 1024;\n",
              "\n",
              "function _uploadFiles(inputId, outputId) {\n",
              "  const steps = uploadFilesStep(inputId, outputId);\n",
              "  const outputElement = document.getElementById(outputId);\n",
              "  // Cache steps on the outputElement to make it available for the next call\n",
              "  // to uploadFilesContinue from Python.\n",
              "  outputElement.steps = steps;\n",
              "\n",
              "  return _uploadFilesContinue(outputId);\n",
              "}\n",
              "\n",
              "// This is roughly an async generator (not supported in the browser yet),\n",
              "// where there are multiple asynchronous steps and the Python side is going\n",
              "// to poll for completion of each step.\n",
              "// This uses a Promise to block the python side on completion of each step,\n",
              "// then passes the result of the previous step as the input to the next step.\n",
              "function _uploadFilesContinue(outputId) {\n",
              "  const outputElement = document.getElementById(outputId);\n",
              "  const steps = outputElement.steps;\n",
              "\n",
              "  const next = steps.next(outputElement.lastPromiseValue);\n",
              "  return Promise.resolve(next.value.promise).then((value) => {\n",
              "    // Cache the last promise value to make it available to the next\n",
              "    // step of the generator.\n",
              "    outputElement.lastPromiseValue = value;\n",
              "    return next.value.response;\n",
              "  });\n",
              "}\n",
              "\n",
              "/**\n",
              " * Generator function which is called between each async step of the upload\n",
              " * process.\n",
              " * @param {string} inputId Element ID of the input file picker element.\n",
              " * @param {string} outputId Element ID of the output display.\n",
              " * @return {!Iterable<!Object>} Iterable of next steps.\n",
              " */\n",
              "function* uploadFilesStep(inputId, outputId) {\n",
              "  const inputElement = document.getElementById(inputId);\n",
              "  inputElement.disabled = false;\n",
              "\n",
              "  const outputElement = document.getElementById(outputId);\n",
              "  outputElement.innerHTML = '';\n",
              "\n",
              "  const pickedPromise = new Promise((resolve) => {\n",
              "    inputElement.addEventListener('change', (e) => {\n",
              "      resolve(e.target.files);\n",
              "    });\n",
              "  });\n",
              "\n",
              "  const cancel = document.createElement('button');\n",
              "  inputElement.parentElement.appendChild(cancel);\n",
              "  cancel.textContent = 'Cancel upload';\n",
              "  const cancelPromise = new Promise((resolve) => {\n",
              "    cancel.onclick = () => {\n",
              "      resolve(null);\n",
              "    };\n",
              "  });\n",
              "\n",
              "  // Wait for the user to pick the files.\n",
              "  const files = yield {\n",
              "    promise: Promise.race([pickedPromise, cancelPromise]),\n",
              "    response: {\n",
              "      action: 'starting',\n",
              "    }\n",
              "  };\n",
              "\n",
              "  cancel.remove();\n",
              "\n",
              "  // Disable the input element since further picks are not allowed.\n",
              "  inputElement.disabled = true;\n",
              "\n",
              "  if (!files) {\n",
              "    return {\n",
              "      response: {\n",
              "        action: 'complete',\n",
              "      }\n",
              "    };\n",
              "  }\n",
              "\n",
              "  for (const file of files) {\n",
              "    const li = document.createElement('li');\n",
              "    li.append(span(file.name, {fontWeight: 'bold'}));\n",
              "    li.append(span(\n",
              "        `(${file.type || 'n/a'}) - ${file.size} bytes, ` +\n",
              "        `last modified: ${\n",
              "            file.lastModifiedDate ? file.lastModifiedDate.toLocaleDateString() :\n",
              "                                    'n/a'} - `));\n",
              "    const percent = span('0% done');\n",
              "    li.appendChild(percent);\n",
              "\n",
              "    outputElement.appendChild(li);\n",
              "\n",
              "    const fileDataPromise = new Promise((resolve) => {\n",
              "      const reader = new FileReader();\n",
              "      reader.onload = (e) => {\n",
              "        resolve(e.target.result);\n",
              "      };\n",
              "      reader.readAsArrayBuffer(file);\n",
              "    });\n",
              "    // Wait for the data to be ready.\n",
              "    let fileData = yield {\n",
              "      promise: fileDataPromise,\n",
              "      response: {\n",
              "        action: 'continue',\n",
              "      }\n",
              "    };\n",
              "\n",
              "    // Use a chunked sending to avoid message size limits. See b/62115660.\n",
              "    let position = 0;\n",
              "    do {\n",
              "      const length = Math.min(fileData.byteLength - position, MAX_PAYLOAD_SIZE);\n",
              "      const chunk = new Uint8Array(fileData, position, length);\n",
              "      position += length;\n",
              "\n",
              "      const base64 = btoa(String.fromCharCode.apply(null, chunk));\n",
              "      yield {\n",
              "        response: {\n",
              "          action: 'append',\n",
              "          file: file.name,\n",
              "          data: base64,\n",
              "        },\n",
              "      };\n",
              "\n",
              "      let percentDone = fileData.byteLength === 0 ?\n",
              "          100 :\n",
              "          Math.round((position / fileData.byteLength) * 100);\n",
              "      percent.textContent = `${percentDone}% done`;\n",
              "\n",
              "    } while (position < fileData.byteLength);\n",
              "  }\n",
              "\n",
              "  // All done.\n",
              "  yield {\n",
              "    response: {\n",
              "      action: 'complete',\n",
              "    }\n",
              "  };\n",
              "}\n",
              "\n",
              "scope.google = scope.google || {};\n",
              "scope.google.colab = scope.google.colab || {};\n",
              "scope.google.colab._files = {\n",
              "  _uploadFiles,\n",
              "  _uploadFilesContinue,\n",
              "};\n",
              "})(self);\n",
              "</script> "
            ]
          },
          "metadata": {}
        },
        {
          "output_type": "stream",
          "name": "stdout",
          "text": [
            "Saving Students Social Media Addiction.csv to Students Social Media Addiction (2).csv\n",
            "Uploaded: Students Social Media Addiction (2).csv\n"
          ]
        }
      ],
      "source": [
        "from google.colab import files\n",
        "import io, pandas as pd\n",
        "\n",
        "uploaded = files.upload()\n",
        "FNAME = next(iter(uploaded.keys()))\n",
        "print(\"Uploaded:\", FNAME)"
      ]
    },
    {
      "cell_type": "code",
      "execution_count": null,
      "id": "Uy0eoza_9cPp",
      "metadata": {
        "id": "Uy0eoza_9cPp",
        "colab": {
          "base_uri": "https://localhost:8080/"
        },
        "outputId": "b4a8311e-23e9-47da-d91c-48548ba08771"
      },
      "outputs": [
        {
          "output_type": "stream",
          "name": "stdout",
          "text": [
            "Raw RDD partitions: 2\n",
            "First 2 lines:\n",
            " Student_ID,Age,Gender,Academic_Level,Country,Avg_Daily_Usage_Hours,Most_Used_Platform,Affects_Academic_Performance,Sleep_Hours_Per_Night,Mental_Health_Score,Relationship_Status,Conflicts_Over_Social_Media,Addicted_Score\n",
            "1,19,Female,Undergraduate,Bangladesh,5.2,Instagram,Yes,6.5,6,In Relationship,3,8\n"
          ]
        }
      ],
      "source": [
        "# Each element is a raw line (string)\n",
        "raw_rdd = sc.textFile(FNAME)\n",
        "print(\"Raw RDD partitions:\", raw_rdd.getNumPartitions())\n",
        "print(\"First 2 lines:\\n\", \"\\n\".join(raw_rdd.take(2)))"
      ]
    },
    {
      "cell_type": "code",
      "execution_count": null,
      "id": "jO0doo_19gwO",
      "metadata": {
        "id": "jO0doo_19gwO",
        "colab": {
          "base_uri": "https://localhost:8080/"
        },
        "outputId": "04ae73f7-d3b1-40b1-fc29-678cab0b5625"
      },
      "outputs": [
        {
          "output_type": "stream",
          "name": "stdout",
          "text": [
            "Total records (excluding header): 705\n",
            "Sample rows: [['1', '19', 'Female', 'Undergraduate', 'Bangladesh', '5.2', 'Instagram', 'Yes', '6.5', '6', 'In Relationship', '3', '8'], ['2', '22', 'Male', 'Graduate', 'India', '2.1', 'Twitter', 'No', '7.5', '8', 'Single', '0', '3']]\n"
          ]
        }
      ],
      "source": [
        "import csv\n",
        "\n",
        "def parse_csv_partition(lines_iter):\n",
        "    # csv.reader handles commas/quotes correctly\n",
        "    reader = csv.reader(lines_iter)\n",
        "    for row in reader:\n",
        "        yield row\n",
        "\n",
        "rows_rdd = raw_rdd.mapPartitions(parse_csv_partition)\n",
        "\n",
        "# Remove header safely (wherever it appears)\n",
        "def is_header(row):\n",
        "    return len(row) > 0 and str(row[0]).strip().lower() == \"student_id\"\n",
        "\n",
        "data_rows_rdd = rows_rdd.filter(lambda r: not is_header(r))\n",
        "\n",
        "print(\"Total records (excluding header):\", data_rows_rdd.count())\n",
        "print(\"Sample rows:\", data_rows_rdd.take(2))"
      ]
    },
    {
      "cell_type": "code",
      "execution_count": null,
      "id": "O5vuyXSI9kV6",
      "metadata": {
        "id": "O5vuyXSI9kV6",
        "colab": {
          "base_uri": "https://localhost:8080/"
        },
        "outputId": "c76fe3cb-0c50-446e-9c2b-b1ea912879db"
      },
      "outputs": [
        {
          "output_type": "stream",
          "name": "stdout",
          "text": [
            "Typed RDD count: 705\n"
          ]
        },
        {
          "output_type": "execute_result",
          "data": {
            "text/plain": [
              "[{'Student_ID': 1,\n",
              "  'Age': 19,\n",
              "  'Gender': 'Female',\n",
              "  'Academic_Level': 'Undergraduate',\n",
              "  'Country': 'Bangladesh',\n",
              "  'Avg_Daily_Usage_Hours': 5.2,\n",
              "  'Most_Used_Platform': 'Instagram',\n",
              "  'Affects_Academic_Performance': 'Yes',\n",
              "  'Sleep_Hours_Per_Night': 6.5,\n",
              "  'Mental_Health_Score': 6.0,\n",
              "  'Relationship_Status': 'In Relationship',\n",
              "  'Conflicts_Over_Social_Media': 3.0,\n",
              "  'Addicted_Score': 8.0},\n",
              " {'Student_ID': 2,\n",
              "  'Age': 22,\n",
              "  'Gender': 'Male',\n",
              "  'Academic_Level': 'Graduate',\n",
              "  'Country': 'India',\n",
              "  'Avg_Daily_Usage_Hours': 2.1,\n",
              "  'Most_Used_Platform': 'Twitter',\n",
              "  'Affects_Academic_Performance': 'No',\n",
              "  'Sleep_Hours_Per_Night': 7.5,\n",
              "  'Mental_Health_Score': 8.0,\n",
              "  'Relationship_Status': 'Single',\n",
              "  'Conflicts_Over_Social_Media': 0.0,\n",
              "  'Addicted_Score': 3.0},\n",
              " {'Student_ID': 3,\n",
              "  'Age': 20,\n",
              "  'Gender': 'Female',\n",
              "  'Academic_Level': 'Undergraduate',\n",
              "  'Country': 'USA',\n",
              "  'Avg_Daily_Usage_Hours': 6.0,\n",
              "  'Most_Used_Platform': 'Tiktok',\n",
              "  'Affects_Academic_Performance': 'Yes',\n",
              "  'Sleep_Hours_Per_Night': 5.0,\n",
              "  'Mental_Health_Score': 5.0,\n",
              "  'Relationship_Status': 'Complicated',\n",
              "  'Conflicts_Over_Social_Media': 4.0,\n",
              "  'Addicted_Score': 9.0}]"
            ]
          },
          "metadata": {},
          "execution_count": 64
        }
      ],
      "source": [
        "def to_int(x):\n",
        "    try:\n",
        "        # guard against floats stored as \"19.0\"\n",
        "        return int(float(x))\n",
        "    except:\n",
        "        return None\n",
        "\n",
        "def to_float(x):\n",
        "    try:\n",
        "        return float(x)\n",
        "    except:\n",
        "        return None\n",
        "\n",
        "COLS = [\n",
        "    'Student_ID','Age','Gender','Academic_Level','Country',\n",
        "    'Avg_Daily_Usage_Hours','Most_Used_Platform','Affects_Academic_Performance',\n",
        "    'Sleep_Hours_Per_Night','Mental_Health_Score','Relationship_Status',\n",
        "    'Conflicts_Over_Social_Media','Addicted_Score'\n",
        "]\n",
        "\n",
        "def row_to_typed_dict(row):\n",
        "    # Be defensive about row length\n",
        "    if len(row) < 13:\n",
        "        return None\n",
        "\n",
        "    return {\n",
        "        'Student_ID': to_int(row[0]),\n",
        "        'Age': to_int(row[1]),\n",
        "        'Gender': (row[2] or \"\").strip(),\n",
        "        'Academic_Level': (row[3] or \"\").strip(),\n",
        "        'Country': (row[4] or \"\").strip(),\n",
        "        'Avg_Daily_Usage_Hours': to_float(row[5]),\n",
        "        'Most_Used_Platform': (row[6] or \"\").strip().title(),\n",
        "        'Affects_Academic_Performance': (row[7] or \"\").strip().title(),  # Yes/No\n",
        "        'Sleep_Hours_Per_Night': to_float(row[8]),\n",
        "        'Mental_Health_Score': to_float(row[9]),\n",
        "        'Relationship_Status': (row[10] or \"\").strip().title(),\n",
        "        'Conflicts_Over_Social_Media': to_float(row[11]),\n",
        "        'Addicted_Score': to_float(row[12]),\n",
        "    }\n",
        "\n",
        "typed_rdd = data_rows_rdd.map(row_to_typed_dict).filter(lambda d: d is not None)\n",
        "typed_rdd.persist()\n",
        "\n",
        "print(\"Typed RDD count:\", typed_rdd.count())\n",
        "typed_rdd.take(3)"
      ]
    },
    {
      "cell_type": "markdown",
      "id": "2xA394HyS7SQ",
      "metadata": {
        "id": "2xA394HyS7SQ"
      },
      "source": [
        "FILTER: high-risk students who also report academic impact"
      ]
    },
    {
      "cell_type": "code",
      "execution_count": null,
      "id": "ZSKW4JZx9uEk",
      "metadata": {
        "id": "ZSKW4JZx9uEk",
        "colab": {
          "base_uri": "https://localhost:8080/"
        },
        "outputId": "4b70ca37-514b-4f5f-9d26-1cef5e62c4ea"
      },
      "outputs": [
        {
          "output_type": "stream",
          "name": "stdout",
          "text": [
            "Typed RDD count: 705\n"
          ]
        },
        {
          "output_type": "execute_result",
          "data": {
            "text/plain": [
              "[{'Student_ID': 1,\n",
              "  'Age': 19,\n",
              "  'Gender': 'Female',\n",
              "  'Academic_Level': 'Undergraduate',\n",
              "  'Country': 'Bangladesh',\n",
              "  'Avg_Daily_Usage_Hours': 5.2,\n",
              "  'Most_Used_Platform': 'Instagram',\n",
              "  'Affects_Academic_Performance': 'Yes',\n",
              "  'Sleep_Hours_Per_Night': 6.5,\n",
              "  'Mental_Health_Score': 6.0,\n",
              "  'Relationship_Status': 'In Relationship',\n",
              "  'Conflicts_Over_Social_Media': 3.0,\n",
              "  'Addicted_Score': 8.0},\n",
              " {'Student_ID': 2,\n",
              "  'Age': 22,\n",
              "  'Gender': 'Male',\n",
              "  'Academic_Level': 'Graduate',\n",
              "  'Country': 'India',\n",
              "  'Avg_Daily_Usage_Hours': 2.1,\n",
              "  'Most_Used_Platform': 'Twitter',\n",
              "  'Affects_Academic_Performance': 'No',\n",
              "  'Sleep_Hours_Per_Night': 7.5,\n",
              "  'Mental_Health_Score': 8.0,\n",
              "  'Relationship_Status': 'Single',\n",
              "  'Conflicts_Over_Social_Media': 0.0,\n",
              "  'Addicted_Score': 3.0},\n",
              " {'Student_ID': 3,\n",
              "  'Age': 20,\n",
              "  'Gender': 'Female',\n",
              "  'Academic_Level': 'Undergraduate',\n",
              "  'Country': 'USA',\n",
              "  'Avg_Daily_Usage_Hours': 6.0,\n",
              "  'Most_Used_Platform': 'Tiktok',\n",
              "  'Affects_Academic_Performance': 'Yes',\n",
              "  'Sleep_Hours_Per_Night': 5.0,\n",
              "  'Mental_Health_Score': 5.0,\n",
              "  'Relationship_Status': 'Complicated',\n",
              "  'Conflicts_Over_Social_Media': 4.0,\n",
              "  'Addicted_Score': 9.0}]"
            ]
          },
          "metadata": {},
          "execution_count": 65
        }
      ],
      "source": [
        "def to_int(x):\n",
        "    try:\n",
        "        # guard against floats stored as \"19.0\"\n",
        "        return int(float(x))\n",
        "    except:\n",
        "        return None\n",
        "\n",
        "def to_float(x):\n",
        "    try:\n",
        "        return float(x)\n",
        "    except:\n",
        "        return None\n",
        "\n",
        "COLS = [\n",
        "    'Student_ID','Age','Gender','Academic_Level','Country',\n",
        "    'Avg_Daily_Usage_Hours','Most_Used_Platform','Affects_Academic_Performance',\n",
        "    'Sleep_Hours_Per_Night','Mental_Health_Score','Relationship_Status',\n",
        "    'Conflicts_Over_Social_Media','Addicted_Score'\n",
        "]\n",
        "\n",
        "def row_to_typed_dict(row):\n",
        "    # Be defensive about row length\n",
        "    if len(row) < 13:\n",
        "        return None\n",
        "\n",
        "    return {\n",
        "        'Student_ID': to_int(row[0]),\n",
        "        'Age': to_int(row[1]),\n",
        "        'Gender': (row[2] or \"\").strip(),\n",
        "        'Academic_Level': (row[3] or \"\").strip(),\n",
        "        'Country': (row[4] or \"\").strip(),\n",
        "        'Avg_Daily_Usage_Hours': to_float(row[5]),\n",
        "        'Most_Used_Platform': (row[6] or \"\").strip().title(),\n",
        "        'Affects_Academic_Performance': (row[7] or \"\").strip().title(),  # Yes/No\n",
        "        'Sleep_Hours_Per_Night': to_float(row[8]),\n",
        "        'Mental_Health_Score': to_float(row[9]),\n",
        "        'Relationship_Status': (row[10] or \"\").strip().title(),\n",
        "        'Conflicts_Over_Social_Media': to_float(row[11]),\n",
        "        'Addicted_Score': to_float(row[12]),\n",
        "    }\n",
        "\n",
        "typed_rdd = data_rows_rdd.map(row_to_typed_dict).filter(lambda d: d is not None)\n",
        "typed_rdd.persist()\n",
        "\n",
        "print(\"Typed RDD count:\", typed_rdd.count())\n",
        "typed_rdd.take(3)"
      ]
    },
    {
      "cell_type": "code",
      "execution_count": null,
      "id": "WzUyJ7VO-JEO",
      "metadata": {
        "id": "WzUyJ7VO-JEO"
      },
      "outputs": [],
      "source": [
        "# Ensure typed_rdd is available\n",
        "try:\n",
        "    typed_rdd\n",
        "except NameError as e:\n",
        "    raise RuntimeError(\"Please run the 'Load the data into Spark RDDs' cells first to create `typed_rdd`.\") from e"
      ]
    },
    {
      "cell_type": "markdown",
      "id": "9i0tMukj-Ot9",
      "metadata": {
        "id": "9i0tMukj-Ot9"
      },
      "source": [
        "MAP: derive features\n",
        "\n",
        "Usage_to_Sleep_Ratio = hours of social media per hour of sleep\n",
        "\n",
        "Risk_Bucket based on Addicted_Score (Low: 0–3, Medium: 4–6, High: 7–10)"
      ]
    },
    {
      "cell_type": "code",
      "execution_count": null,
      "id": "RZraGou6-MFd",
      "metadata": {
        "id": "RZraGou6-MFd",
        "colab": {
          "base_uri": "https://localhost:8080/"
        },
        "outputId": "a77359e8-ad73-46ce-87e5-b2dc50f4e35e"
      },
      "outputs": [
        {
          "output_type": "stream",
          "name": "stdout",
          "text": [
            "1. Student_ID=1, Platform=Instagram, Score=8.0, Ratio=0.8, Risk=High\n",
            "2. Student_ID=2, Platform=Twitter, Score=3.0, Ratio=0.28, Risk=Low\n",
            "3. Student_ID=3, Platform=Tiktok, Score=9.0, Ratio=1.2, Risk=High\n",
            "4. Student_ID=4, Platform=Youtube, Score=4.0, Ratio=0.42857142857142855, Risk=Medium\n",
            "5. Student_ID=5, Platform=Facebook, Score=7.0, Ratio=0.75, Risk=High\n"
          ]
        }
      ],
      "source": [
        "def derive_features(d):\n",
        "    usage = d.get('Avg_Daily_Usage_Hours')\n",
        "    sleep = d.get('Sleep_Hours_Per_Night')\n",
        "    score = d.get('Addicted_Score')\n",
        "\n",
        "    ratio = None\n",
        "    if usage is not None and sleep is not None and sleep > 0:\n",
        "        ratio = usage / sleep\n",
        "\n",
        "    if score is None:\n",
        "        risk = None\n",
        "    elif score <= 3:\n",
        "        risk = \"Low\"\n",
        "    elif score <= 6:\n",
        "        risk = \"Medium\"\n",
        "    else:\n",
        "        risk = \"High\"\n",
        "\n",
        "    d2 = d.copy()\n",
        "    d2['Usage_to_Sleep_Ratio'] = ratio\n",
        "    d2['Risk_Bucket'] = risk\n",
        "    return d2\n",
        "\n",
        "mapped_rdd = typed_rdd.map(derive_features)\n",
        "\n",
        "# ACTION 1: take() — show a few enriched records\n",
        "mapped_examples = mapped_rdd.take(5)\n",
        "for i, rec in enumerate(mapped_examples, 1):\n",
        "    print(f\"{i}. Student_ID={rec['Student_ID']}, Platform={rec['Most_Used_Platform']}, \"\n",
        "          f\"Score={rec['Addicted_Score']}, Ratio={rec['Usage_to_Sleep_Ratio']}, Risk={rec['Risk_Bucket']}\")"
      ]
    },
    {
      "cell_type": "markdown",
      "id": "yev3QUUF-oon",
      "metadata": {
        "id": "yev3QUUF-oon"
      },
      "source": [
        "high-risk students who also report academic impact"
      ]
    },
    {
      "cell_type": "code",
      "execution_count": null,
      "id": "olHJIim2-jmO",
      "metadata": {
        "id": "olHJIim2-jmO",
        "colab": {
          "base_uri": "https://localhost:8080/"
        },
        "outputId": "8d56f88e-eed1-4aab-9fb7-74585574bf03"
      },
      "outputs": [
        {
          "output_type": "stream",
          "name": "stdout",
          "text": [
            "High-risk & academic-impact count: 408\n",
            "Student_ID=1, Platform=Instagram, Score=8.0, Affects_Academics=Yes\n",
            "Student_ID=3, Platform=Tiktok, Score=9.0, Affects_Academics=Yes\n",
            "Student_ID=5, Platform=Facebook, Score=7.0, Affects_Academics=Yes\n",
            "Student_ID=6, Platform=Instagram, Score=9.0, Affects_Academics=Yes\n",
            "Student_ID=8, Platform=Snapchat, Score=8.0, Affects_Academics=Yes\n"
          ]
        }
      ],
      "source": [
        "high_risk_impacted_rdd = mapped_rdd.filter(\n",
        "    lambda d: d.get('Risk_Bucket') == 'High' and d.get('Affects_Academic_Performance') == 'Yes'\n",
        ")\n",
        "\n",
        "# ACTION 2: count() — how many match the condition?\n",
        "n_high_risk_impacted = high_risk_impacted_rdd.count()\n",
        "print(\"High-risk & academic-impact count:\", n_high_risk_impacted)\n",
        "\n",
        "# ACTION 3: take() — show a few examples\n",
        "for rec in high_risk_impacted_rdd.take(5):\n",
        "    print(f\"Student_ID={rec['Student_ID']}, Platform={rec['Most_Used_Platform']}, \"\n",
        "          f\"Score={rec['Addicted_Score']}, Affects_Academics={rec['Affects_Academic_Performance']}\")"
      ]
    },
    {
      "cell_type": "markdown",
      "id": "9d0vPppr-ux3",
      "metadata": {
        "id": "9d0vPppr-ux3"
      },
      "source": [
        "JOIN — attach per-platform average addiction to each student, compute deviation\n",
        "\n",
        "Compute avg Addicted_Score per platform\n",
        "\n",
        "Join with each student’s record on Most_Used_Platform\n",
        "\n",
        "Compute Delta = Student_Score − Platform_Avg"
      ]
    },
    {
      "cell_type": "code",
      "execution_count": null,
      "id": "IDu1Z0pD-v_-",
      "metadata": {
        "id": "IDu1Z0pD-v_-",
        "colab": {
          "base_uri": "https://localhost:8080/"
        },
        "outputId": "74aa77e3-1f2f-4597-f70e-c9871e7999c5"
      },
      "outputs": [
        {
          "output_type": "stream",
          "name": "stdout",
          "text": [
            "Average Addicted_Score by Platform:\n",
            "  Whatsapp        7.463\n",
            "  Snapchat        7.462\n",
            "  Tiktok          7.429\n",
            "  Instagram       6.554\n",
            "  Youtube         6.100\n",
            "  Wechat          6.067\n",
            "  Kakaotalk       6.000\n",
            "  Facebook        5.667\n",
            "  Twitter         5.500\n",
            "  Vkontakte       5.000\n",
            "  Linkedin        3.810\n",
            "  Line            3.000\n",
            "\n",
            "Joined sample (student vs platform average):\n",
            "{'Platform': 'Instagram', 'Student_ID': 1, 'Student_Score': 8.0, 'Platform_Avg': 6.554216867469879, 'Delta': 1.4457831325301207}\n",
            "{'Platform': 'Instagram', 'Student_ID': 6, 'Student_Score': 9.0, 'Platform_Avg': 6.554216867469879, 'Delta': 2.4457831325301207}\n",
            "{'Platform': 'Instagram', 'Student_ID': 10, 'Student_Score': 4.0, 'Platform_Avg': 6.554216867469879, 'Delta': -2.5542168674698793}\n",
            "{'Platform': 'Instagram', 'Student_ID': 14, 'Student_Score': 9.0, 'Platform_Avg': 6.554216867469879, 'Delta': 2.4457831325301207}\n",
            "{'Platform': 'Instagram', 'Student_ID': 18, 'Student_Score': 8.0, 'Platform_Avg': 6.554216867469879, 'Delta': 1.4457831325301207}\n",
            "{'Platform': 'Instagram', 'Student_ID': 23, 'Student_Score': 7.0, 'Platform_Avg': 6.554216867469879, 'Delta': 0.4457831325301207}\n",
            "{'Platform': 'Instagram', 'Student_ID': 26, 'Student_Score': 9.0, 'Platform_Avg': 6.554216867469879, 'Delta': 2.4457831325301207}\n",
            "{'Platform': 'Instagram', 'Student_ID': 30, 'Student_Score': 8.0, 'Platform_Avg': 6.554216867469879, 'Delta': 1.4457831325301207}\n",
            "{'Platform': 'Instagram', 'Student_ID': 35, 'Student_Score': 7.0, 'Platform_Avg': 6.554216867469879, 'Delta': 0.4457831325301207}\n",
            "{'Platform': 'Instagram', 'Student_ID': 38, 'Student_Score': 9.0, 'Platform_Avg': 6.554216867469879, 'Delta': 2.4457831325301207}\n"
          ]
        }
      ],
      "source": [
        "# 3.1 Build (platform -> (sum_score, count)) then (platform -> avg)\n",
        "sumcount_by_platform = (\n",
        "    typed_rdd\n",
        "    .map(lambda d: (d['Most_Used_Platform'], (d['Addicted_Score'], 1)))\n",
        "    .filter(lambda kv: kv[0] is not None and kv[1][0] is not None)\n",
        "    .reduceByKey(lambda a, b: (a[0] + b[0], a[1] + b[1]))\n",
        ")\n",
        "\n",
        "avg_by_platform = sumcount_by_platform.mapValues(lambda sc: sc[0] / sc[1])\n",
        "\n",
        "# ACTION 4: collect() — small RDD, safe to bring to driver and print sorted\n",
        "avg_platform_list = sorted(avg_by_platform.collect(), key=lambda x: x[1], reverse=True)\n",
        "print(\"Average Addicted_Score by Platform:\")\n",
        "for p, avg in avg_platform_list:\n",
        "    print(f\"  {p:15s} {avg:.3f}\")\n",
        "\n",
        "# 3.2 Prepare students keyed by platform: (platform -> (Student_ID, Student_Score))\n",
        "students_by_platform = (\n",
        "    typed_rdd\n",
        "    .map(lambda d: (d['Most_Used_Platform'], (d['Student_ID'], d['Addicted_Score'])))\n",
        "    .filter(lambda kv: kv[0] is not None and kv[1][0] is not None and kv[1][1] is not None)\n",
        ")\n",
        "\n",
        "# 3.3 JOIN: (platform -> ((Student_ID, Student_Score), Platform_Avg))\n",
        "joined = students_by_platform.join(avg_by_platform)\n",
        "\n",
        "# 3.4 Compute deviation per student\n",
        "deviation = joined.map(lambda kv: {\n",
        "    'Platform': kv[0],\n",
        "    'Student_ID': kv[1][0][0],\n",
        "    'Student_Score': kv[1][0][1],\n",
        "    'Platform_Avg': kv[1][1],\n",
        "    'Delta': kv[1][0][1] - kv[1][1]\n",
        "})\n",
        "\n",
        "# Show a few joined results\n",
        "print(\"\\nJoined sample (student vs platform average):\")\n",
        "for rec in deviation.take(10):\n",
        "    print(rec)"
      ]
    },
    {
      "cell_type": "markdown",
      "id": "DB4aZbV1kbS4",
      "metadata": {
        "id": "DB4aZbV1kbS4"
      },
      "source": [
        "### **Spark DataFrames**"
      ]
    },
    {
      "cell_type": "markdown",
      "id": "BhCxVeyckzw1",
      "metadata": {
        "id": "BhCxVeyckzw1"
      },
      "source": [
        "Install and start spark"
      ]
    },
    {
      "cell_type": "code",
      "execution_count": null,
      "id": "4aINM4njkhX-",
      "metadata": {
        "id": "4aINM4njkhX-",
        "colab": {
          "base_uri": "https://localhost:8080/"
        },
        "outputId": "9c354c23-be6f-442f-d1cb-c4b2d7d1a5ba"
      },
      "outputs": [
        {
          "output_type": "stream",
          "name": "stdout",
          "text": [
            "Spark version: 3.5.2\n"
          ]
        }
      ],
      "source": [
        "!pip -q install pyspark==3.5.2\n",
        "\n",
        "from pyspark.sql import SparkSession\n",
        "spark = SparkSession.builder.appName(\"SocialMediaAddiction-DF\").getOrCreate()\n",
        "print(\"Spark version:\", spark.version)"
      ]
    },
    {
      "cell_type": "markdown",
      "id": "kXaR6ueqlA1k",
      "metadata": {
        "id": "kXaR6ueqlA1k"
      },
      "source": [
        "Upload student social media addiction csv file"
      ]
    },
    {
      "cell_type": "code",
      "execution_count": null,
      "id": "dkJ2iYgdk4mt",
      "metadata": {
        "id": "dkJ2iYgdk4mt",
        "colab": {
          "base_uri": "https://localhost:8080/",
          "height": 90
        },
        "outputId": "32b555dd-c343-4163-b00a-a0c6b07c2ad3"
      },
      "outputs": [
        {
          "output_type": "display_data",
          "data": {
            "text/plain": [
              "<IPython.core.display.HTML object>"
            ],
            "text/html": [
              "\n",
              "     <input type=\"file\" id=\"files-bc5df718-b9fd-4c52-b4e1-795172d40d36\" name=\"files[]\" multiple disabled\n",
              "        style=\"border:none\" />\n",
              "     <output id=\"result-bc5df718-b9fd-4c52-b4e1-795172d40d36\">\n",
              "      Upload widget is only available when the cell has been executed in the\n",
              "      current browser session. Please rerun this cell to enable.\n",
              "      </output>\n",
              "      <script>// Copyright 2017 Google LLC\n",
              "//\n",
              "// Licensed under the Apache License, Version 2.0 (the \"License\");\n",
              "// you may not use this file except in compliance with the License.\n",
              "// You may obtain a copy of the License at\n",
              "//\n",
              "//      http://www.apache.org/licenses/LICENSE-2.0\n",
              "//\n",
              "// Unless required by applicable law or agreed to in writing, software\n",
              "// distributed under the License is distributed on an \"AS IS\" BASIS,\n",
              "// WITHOUT WARRANTIES OR CONDITIONS OF ANY KIND, either express or implied.\n",
              "// See the License for the specific language governing permissions and\n",
              "// limitations under the License.\n",
              "\n",
              "/**\n",
              " * @fileoverview Helpers for google.colab Python module.\n",
              " */\n",
              "(function(scope) {\n",
              "function span(text, styleAttributes = {}) {\n",
              "  const element = document.createElement('span');\n",
              "  element.textContent = text;\n",
              "  for (const key of Object.keys(styleAttributes)) {\n",
              "    element.style[key] = styleAttributes[key];\n",
              "  }\n",
              "  return element;\n",
              "}\n",
              "\n",
              "// Max number of bytes which will be uploaded at a time.\n",
              "const MAX_PAYLOAD_SIZE = 100 * 1024;\n",
              "\n",
              "function _uploadFiles(inputId, outputId) {\n",
              "  const steps = uploadFilesStep(inputId, outputId);\n",
              "  const outputElement = document.getElementById(outputId);\n",
              "  // Cache steps on the outputElement to make it available for the next call\n",
              "  // to uploadFilesContinue from Python.\n",
              "  outputElement.steps = steps;\n",
              "\n",
              "  return _uploadFilesContinue(outputId);\n",
              "}\n",
              "\n",
              "// This is roughly an async generator (not supported in the browser yet),\n",
              "// where there are multiple asynchronous steps and the Python side is going\n",
              "// to poll for completion of each step.\n",
              "// This uses a Promise to block the python side on completion of each step,\n",
              "// then passes the result of the previous step as the input to the next step.\n",
              "function _uploadFilesContinue(outputId) {\n",
              "  const outputElement = document.getElementById(outputId);\n",
              "  const steps = outputElement.steps;\n",
              "\n",
              "  const next = steps.next(outputElement.lastPromiseValue);\n",
              "  return Promise.resolve(next.value.promise).then((value) => {\n",
              "    // Cache the last promise value to make it available to the next\n",
              "    // step of the generator.\n",
              "    outputElement.lastPromiseValue = value;\n",
              "    return next.value.response;\n",
              "  });\n",
              "}\n",
              "\n",
              "/**\n",
              " * Generator function which is called between each async step of the upload\n",
              " * process.\n",
              " * @param {string} inputId Element ID of the input file picker element.\n",
              " * @param {string} outputId Element ID of the output display.\n",
              " * @return {!Iterable<!Object>} Iterable of next steps.\n",
              " */\n",
              "function* uploadFilesStep(inputId, outputId) {\n",
              "  const inputElement = document.getElementById(inputId);\n",
              "  inputElement.disabled = false;\n",
              "\n",
              "  const outputElement = document.getElementById(outputId);\n",
              "  outputElement.innerHTML = '';\n",
              "\n",
              "  const pickedPromise = new Promise((resolve) => {\n",
              "    inputElement.addEventListener('change', (e) => {\n",
              "      resolve(e.target.files);\n",
              "    });\n",
              "  });\n",
              "\n",
              "  const cancel = document.createElement('button');\n",
              "  inputElement.parentElement.appendChild(cancel);\n",
              "  cancel.textContent = 'Cancel upload';\n",
              "  const cancelPromise = new Promise((resolve) => {\n",
              "    cancel.onclick = () => {\n",
              "      resolve(null);\n",
              "    };\n",
              "  });\n",
              "\n",
              "  // Wait for the user to pick the files.\n",
              "  const files = yield {\n",
              "    promise: Promise.race([pickedPromise, cancelPromise]),\n",
              "    response: {\n",
              "      action: 'starting',\n",
              "    }\n",
              "  };\n",
              "\n",
              "  cancel.remove();\n",
              "\n",
              "  // Disable the input element since further picks are not allowed.\n",
              "  inputElement.disabled = true;\n",
              "\n",
              "  if (!files) {\n",
              "    return {\n",
              "      response: {\n",
              "        action: 'complete',\n",
              "      }\n",
              "    };\n",
              "  }\n",
              "\n",
              "  for (const file of files) {\n",
              "    const li = document.createElement('li');\n",
              "    li.append(span(file.name, {fontWeight: 'bold'}));\n",
              "    li.append(span(\n",
              "        `(${file.type || 'n/a'}) - ${file.size} bytes, ` +\n",
              "        `last modified: ${\n",
              "            file.lastModifiedDate ? file.lastModifiedDate.toLocaleDateString() :\n",
              "                                    'n/a'} - `));\n",
              "    const percent = span('0% done');\n",
              "    li.appendChild(percent);\n",
              "\n",
              "    outputElement.appendChild(li);\n",
              "\n",
              "    const fileDataPromise = new Promise((resolve) => {\n",
              "      const reader = new FileReader();\n",
              "      reader.onload = (e) => {\n",
              "        resolve(e.target.result);\n",
              "      };\n",
              "      reader.readAsArrayBuffer(file);\n",
              "    });\n",
              "    // Wait for the data to be ready.\n",
              "    let fileData = yield {\n",
              "      promise: fileDataPromise,\n",
              "      response: {\n",
              "        action: 'continue',\n",
              "      }\n",
              "    };\n",
              "\n",
              "    // Use a chunked sending to avoid message size limits. See b/62115660.\n",
              "    let position = 0;\n",
              "    do {\n",
              "      const length = Math.min(fileData.byteLength - position, MAX_PAYLOAD_SIZE);\n",
              "      const chunk = new Uint8Array(fileData, position, length);\n",
              "      position += length;\n",
              "\n",
              "      const base64 = btoa(String.fromCharCode.apply(null, chunk));\n",
              "      yield {\n",
              "        response: {\n",
              "          action: 'append',\n",
              "          file: file.name,\n",
              "          data: base64,\n",
              "        },\n",
              "      };\n",
              "\n",
              "      let percentDone = fileData.byteLength === 0 ?\n",
              "          100 :\n",
              "          Math.round((position / fileData.byteLength) * 100);\n",
              "      percent.textContent = `${percentDone}% done`;\n",
              "\n",
              "    } while (position < fileData.byteLength);\n",
              "  }\n",
              "\n",
              "  // All done.\n",
              "  yield {\n",
              "    response: {\n",
              "      action: 'complete',\n",
              "    }\n",
              "  };\n",
              "}\n",
              "\n",
              "scope.google = scope.google || {};\n",
              "scope.google.colab = scope.google.colab || {};\n",
              "scope.google.colab._files = {\n",
              "  _uploadFiles,\n",
              "  _uploadFilesContinue,\n",
              "};\n",
              "})(self);\n",
              "</script> "
            ]
          },
          "metadata": {}
        },
        {
          "output_type": "stream",
          "name": "stdout",
          "text": [
            "Saving Students Social Media Addiction.csv to Students Social Media Addiction (3).csv\n",
            "Uploaded: Students Social Media Addiction (3).csv\n"
          ]
        }
      ],
      "source": [
        "from google.colab import files\n",
        "import io, pandas as pd\n",
        "\n",
        "uploaded = files.upload()\n",
        "FNAME = next(iter(uploaded.keys()))\n",
        "print(\"Uploaded:\", FNAME)"
      ]
    },
    {
      "cell_type": "code",
      "execution_count": null,
      "id": "DpDe0NEnl-ys",
      "metadata": {
        "id": "DpDe0NEnl-ys",
        "colab": {
          "base_uri": "https://localhost:8080/"
        },
        "outputId": "f15ead12-31bc-488a-84e6-bd5beaa22246"
      },
      "outputs": [
        {
          "output_type": "stream",
          "name": "stdout",
          "text": [
            "Using CSV: Students Social Media Addiction.csv\n",
            "root\n",
            " |-- Student_ID: integer (nullable = true)\n",
            " |-- Age: integer (nullable = true)\n",
            " |-- Gender: string (nullable = true)\n",
            " |-- Academic_Level: string (nullable = true)\n",
            " |-- Country: string (nullable = true)\n",
            " |-- Avg_Daily_Usage_Hours: double (nullable = true)\n",
            " |-- Most_Used_Platform: string (nullable = true)\n",
            " |-- Affects_Academic_Performance: string (nullable = true)\n",
            " |-- Sleep_Hours_Per_Night: double (nullable = true)\n",
            " |-- Mental_Health_Score: double (nullable = true)\n",
            " |-- Relationship_Status: string (nullable = true)\n",
            " |-- Conflicts_Over_Social_Media: double (nullable = true)\n",
            " |-- Addicted_Score: integer (nullable = true)\n",
            "\n",
            "+----------+---+------+--------------+----------+---------------------+------------------+----------------------------+---------------------+-------------------+-------------------+---------------------------+--------------+\n",
            "|Student_ID|Age|Gender|Academic_Level|Country   |Avg_Daily_Usage_Hours|Most_Used_Platform|Affects_Academic_Performance|Sleep_Hours_Per_Night|Mental_Health_Score|Relationship_Status|Conflicts_Over_Social_Media|Addicted_Score|\n",
            "+----------+---+------+--------------+----------+---------------------+------------------+----------------------------+---------------------+-------------------+-------------------+---------------------------+--------------+\n",
            "|1         |19 |Female|Undergraduate |Bangladesh|5.2                  |Instagram         |Yes                         |6.5                  |6.0                |In Relationship    |3.0                        |8             |\n",
            "|2         |22 |Male  |Graduate      |India     |2.1                  |Twitter           |No                          |7.5                  |8.0                |Single             |0.0                        |3             |\n",
            "|3         |20 |Female|Undergraduate |USA       |6.0                  |Tiktok            |Yes                         |5.0                  |5.0                |Complicated        |4.0                        |9             |\n",
            "|4         |18 |Male  |High School   |UK        |3.0                  |Youtube           |No                          |7.0                  |7.0                |Single             |1.0                        |4             |\n",
            "|5         |21 |Male  |Graduate      |Canada    |4.5                  |Facebook          |Yes                         |6.0                  |6.0                |In Relationship    |2.0                        |7             |\n",
            "+----------+---+------+--------------+----------+---------------------+------------------+----------------------------+---------------------+-------------------+-------------------+---------------------------+--------------+\n",
            "only showing top 5 rows\n",
            "\n"
          ]
        }
      ],
      "source": [
        "# --- Bootstrap: make sure Spark is running and df/df_clean exist ---\n",
        "\n",
        "# 1) Spark session\n",
        "try:\n",
        "    spark\n",
        "except NameError:\n",
        "    !pip -q install pyspark==3.5.1\n",
        "    from pyspark.sql import SparkSession\n",
        "    spark = SparkSession.builder.appName(\"SocialMediaAddiction-DF\").getOrCreate()\n",
        "\n",
        "from pyspark.sql import functions as F, types as T\n",
        "import os, glob\n",
        "\n",
        "# 2) Find or upload the CSV\n",
        "CANDIDATES = [\n",
        "    \"Students Social Media Addiction.csv\",\n",
        "    \"Students_Social_Media_Addiction.csv\",\n",
        "]\n",
        "\n",
        "FNAME = next((p for p in CANDIDATES if os.path.exists(p)), None)\n",
        "if FNAME is None:\n",
        "    matches = glob.glob(\"*.csv\")\n",
        "    if matches:\n",
        "        FNAME = matches[0]\n",
        "    else:\n",
        "        try:\n",
        "            from google.colab import files, io\n",
        "            uploaded = files.upload()  # pick your CSV if prompted\n",
        "            FNAME = next(iter(uploaded.keys()))\n",
        "        except Exception as e:\n",
        "            raise RuntimeError(\"Could not locate CSV. Please upload your file.\") from e\n",
        "\n",
        "print(\"Using CSV:\", FNAME)\n",
        "\n",
        "# 3) Explicit schema (robust & consistent)\n",
        "schema = T.StructType([\n",
        "    T.StructField(\"Student_ID\", T.IntegerType(), True),\n",
        "    T.StructField(\"Age\", T.IntegerType(), True),\n",
        "    T.StructField(\"Gender\", T.StringType(), True),\n",
        "    T.StructField(\"Academic_Level\", T.StringType(), True),\n",
        "    T.StructField(\"Country\", T.StringType(), True),\n",
        "    T.StructField(\"Avg_Daily_Usage_Hours\", T.DoubleType(), True),\n",
        "    T.StructField(\"Most_Used_Platform\", T.StringType(), True),\n",
        "    T.StructField(\"Affects_Academic_Performance\", T.StringType(), True),\n",
        "    T.StructField(\"Sleep_Hours_Per_Night\", T.DoubleType(), True),\n",
        "    T.StructField(\"Mental_Health_Score\", T.DoubleType(), True),\n",
        "    T.StructField(\"Relationship_Status\", T.StringType(), True),\n",
        "    T.StructField(\"Conflicts_Over_Social_Media\", T.DoubleType(), True),\n",
        "    T.StructField(\"Addicted_Score\", T.IntegerType(), True),\n",
        "])\n",
        "\n",
        "df = spark.read.csv(FNAME, header=True, schema=schema)\n",
        "\n",
        "# 4) Light normalization → df_clean\n",
        "df_clean = (\n",
        "    df\n",
        "    .withColumn(\"Most_Used_Platform\", F.initcap(F.trim(F.col(\"Most_Used_Platform\"))))\n",
        "    .withColumn(\"Relationship_Status\", F.initcap(F.trim(F.col(\"Relationship_Status\"))))\n",
        "    .withColumn(\n",
        "        \"Affects_Academic_Performance\",\n",
        "        F.when(F.lower(F.trim(F.col(\"Affects_Academic_Performance\"))).isin(\"yes\",\"y\",\"true\",\"1\"), \"Yes\")\n",
        "         .when(F.lower(F.trim(F.col(\"Affects_Academic_Performance\"))).isin(\"no\",\"n\",\"false\",\"0\"), \"No\")\n",
        "         .otherwise(F.col(\"Affects_Academic_Performance\"))\n",
        "    )\n",
        ")\n",
        "\n",
        "# 5) Register a SQL temp view\n",
        "df_clean.createOrReplaceTempView(\"students\")\n",
        "\n",
        "# 6) Verify\n",
        "df_clean.printSchema()\n",
        "df_clean.show(5, truncate=False)"
      ]
    },
    {
      "cell_type": "markdown",
      "id": "J_F0qrI6T5E-",
      "metadata": {
        "id": "J_F0qrI6T5E-"
      },
      "source": [
        "Selection: choose specific columns"
      ]
    },
    {
      "cell_type": "code",
      "execution_count": null,
      "id": "TCKsHsRnlrZj",
      "metadata": {
        "id": "TCKsHsRnlrZj",
        "colab": {
          "base_uri": "https://localhost:8080/"
        },
        "outputId": "735b9138-2065-46d9-992e-cacfd30b3a9d"
      },
      "outputs": [
        {
          "output_type": "stream",
          "name": "stdout",
          "text": [
            "+----------+---+------+--------------+----------+---------------------+------------------+----------------------------+---------------------+-------------------+-------------------+---------------------------+--------------+\n",
            "|Student_ID|Age|Gender|Academic_Level|Country   |Avg_Daily_Usage_Hours|Most_Used_Platform|Affects_Academic_Performance|Sleep_Hours_Per_Night|Mental_Health_Score|Relationship_Status|Conflicts_Over_Social_Media|Addicted_Score|\n",
            "+----------+---+------+--------------+----------+---------------------+------------------+----------------------------+---------------------+-------------------+-------------------+---------------------------+--------------+\n",
            "|1         |19 |Female|Undergraduate |Bangladesh|5.2                  |Instagram         |Yes                         |6.5                  |6.0                |In Relationship    |3.0                        |8             |\n",
            "|2         |22 |Male  |Graduate      |India     |2.1                  |Twitter           |No                          |7.5                  |8.0                |Single             |0.0                        |3             |\n",
            "|3         |20 |Female|Undergraduate |USA       |6.0                  |Tiktok            |Yes                         |5.0                  |5.0                |Complicated        |4.0                        |9             |\n",
            "|4         |18 |Male  |High School   |UK        |3.0                  |Youtube           |No                          |7.0                  |7.0                |Single             |1.0                        |4             |\n",
            "|5         |21 |Male  |Graduate      |Canada    |4.5                  |Facebook          |Yes                         |6.0                  |6.0                |In Relationship    |2.0                        |7             |\n",
            "+----------+---+------+--------------+----------+---------------------+------------------+----------------------------+---------------------+-------------------+-------------------+---------------------------+--------------+\n",
            "only showing top 5 rows\n",
            "\n"
          ]
        }
      ],
      "source": [
        "from pyspark.sql import functions as F\n",
        "\n",
        "# Use df_clean if available, else fall back to df\n",
        "try:\n",
        "    df_clean\n",
        "except NameError:\n",
        "    df_clean = df\n",
        "\n",
        "# Light, DF-only normalization (idempotent)\n",
        "df_clean = (\n",
        "    df_clean\n",
        "    .withColumn(\"Most_Used_Platform\", F.initcap(F.trim(F.col(\"Most_Used_Platform\"))))\n",
        "    .withColumn(\"Relationship_Status\", F.initcap(F.trim(F.col(\"Relationship_Status\"))))\n",
        "    .withColumn(\n",
        "        \"Affects_Academic_Performance\",\n",
        "        F.when(F.lower(F.trim(F.col(\"Affects_Academic_Performance\"))).isin(\"yes\",\"y\",\"true\",\"1\"), \"Yes\")\n",
        "         .when(F.lower(F.trim(F.col(\"Affects_Academic_Performance\"))).isin(\"no\",\"n\",\"false\",\"0\"), \"No\")\n",
        "         .otherwise(F.col(\"Affects_Academic_Performance\"))\n",
        "    )\n",
        ")\n",
        "\n",
        "# Quick action\n",
        "df_clean.show(5, truncate=False)"
      ]
    },
    {
      "cell_type": "code",
      "execution_count": null,
      "id": "QB5fqNdfmKQl",
      "metadata": {
        "id": "QB5fqNdfmKQl",
        "colab": {
          "base_uri": "https://localhost:8080/"
        },
        "outputId": "22fec577-d62d-4b16-ae02-b1bb9b01eaa3"
      },
      "outputs": [
        {
          "output_type": "stream",
          "name": "stdout",
          "text": [
            "+----------+------------------+---------------------+---------------------+-------------------+--------------+----------------------------+\n",
            "|Student_ID|Most_Used_Platform|Avg_Daily_Usage_Hours|Sleep_Hours_Per_Night|Mental_Health_Score|Addicted_Score|Affects_Academic_Performance|\n",
            "+----------+------------------+---------------------+---------------------+-------------------+--------------+----------------------------+\n",
            "|1         |Instagram         |5.2                  |6.5                  |6.0                |8             |Yes                         |\n",
            "|2         |Twitter           |2.1                  |7.5                  |8.0                |3             |No                          |\n",
            "|3         |Tiktok            |6.0                  |5.0                  |5.0                |9             |Yes                         |\n",
            "|4         |Youtube           |3.0                  |7.0                  |7.0                |4             |No                          |\n",
            "|5         |Facebook          |4.5                  |6.0                  |6.0                |7             |Yes                         |\n",
            "|6         |Instagram         |7.2                  |4.5                  |4.0                |9             |Yes                         |\n",
            "|7         |Linkedin          |1.5                  |8.0                  |9.0                |2             |No                          |\n",
            "|8         |Snapchat          |5.8                  |6.0                  |6.0                |8             |Yes                         |\n",
            "|9         |Tiktok            |4.0                  |6.5                  |7.0                |5             |No                          |\n",
            "|10        |Instagram         |3.3                  |7.0                  |7.0                |4             |No                          |\n",
            "+----------+------------------+---------------------+---------------------+-------------------+--------------+----------------------------+\n",
            "only showing top 10 rows\n",
            "\n"
          ]
        }
      ],
      "source": [
        "selected = df_clean.select(\n",
        "    \"Student_ID\",\n",
        "    \"Most_Used_Platform\",\n",
        "    \"Avg_Daily_Usage_Hours\",\n",
        "    \"Sleep_Hours_Per_Night\",\n",
        "    \"Mental_Health_Score\",\n",
        "    \"Addicted_Score\",\n",
        "    \"Affects_Academic_Performance\"\n",
        ")\n",
        "\n",
        "# ACTION: show()\n",
        "selected.show(10, truncate=False)"
      ]
    },
    {
      "cell_type": "markdown",
      "id": "un61bTBrUElq",
      "metadata": {
        "id": "un61bTBrUElq"
      },
      "source": [
        "Filter: rows based on conditions\n",
        "\n",
        "We will look at students who use ≥ 4 hours/day and report academic impact = “Yes”"
      ]
    },
    {
      "cell_type": "code",
      "execution_count": null,
      "id": "yGstnatZmRC-",
      "metadata": {
        "id": "yGstnatZmRC-",
        "colab": {
          "base_uri": "https://localhost:8080/"
        },
        "outputId": "6cb147d0-6caa-4215-a062-7abac44c0875"
      },
      "outputs": [
        {
          "output_type": "stream",
          "name": "stdout",
          "text": [
            "Filtered count: 432\n",
            "+----------+------------------+---------------------+--------------+\n",
            "|Student_ID|Most_Used_Platform|Avg_Daily_Usage_Hours|Addicted_Score|\n",
            "+----------+------------------+---------------------+--------------+\n",
            "|1         |Instagram         |5.2                  |8             |\n",
            "|3         |Tiktok            |6.0                  |9             |\n",
            "|5         |Facebook          |4.5                  |7             |\n",
            "|6         |Instagram         |7.2                  |9             |\n",
            "|8         |Snapchat          |5.8                  |8             |\n",
            "|11        |Snapchat          |4.8                  |7             |\n",
            "|12        |Tiktok            |5.5                  |8             |\n",
            "|14        |Instagram         |6.5                  |9             |\n",
            "|16        |Tiktok            |4.2                  |7             |\n",
            "|18        |Instagram         |5.0                  |8             |\n",
            "+----------+------------------+---------------------+--------------+\n",
            "only showing top 10 rows\n",
            "\n"
          ]
        }
      ],
      "source": [
        "filtered = selected.where(\n",
        "    (F.col(\"Avg_Daily_Usage_Hours\") >= 4) &\n",
        "    (F.col(\"Affects_Academic_Performance\") == \"Yes\")\n",
        ")\n",
        "\n",
        "# ACTION: count() + show()\n",
        "print(\"Filtered count:\", filtered.count())\n",
        "filtered.select(\"Student_ID\",\"Most_Used_Platform\",\"Avg_Daily_Usage_Hours\",\"Addicted_Score\").show(10, truncate=False)"
      ]
    },
    {
      "cell_type": "markdown",
      "id": "6NqnXG4rURkq",
      "metadata": {
        "id": "6NqnXG4rURkq"
      },
      "source": [
        "Grouping & Aggregation: per-platform summaries"
      ]
    },
    {
      "cell_type": "code",
      "execution_count": null,
      "id": "9rpphvkwmWw3",
      "metadata": {
        "id": "9rpphvkwmWw3",
        "colab": {
          "base_uri": "https://localhost:8080/"
        },
        "outputId": "127c1235-f445-4405-f973-88f652c37033"
      },
      "outputs": [
        {
          "output_type": "stream",
          "name": "stdout",
          "text": [
            "+------------------+---+------------+---------+----------+-----------+\n",
            "|Most_Used_Platform|n  |avg_addicted|avg_usage|avg_mental|sd_addicted|\n",
            "+------------------+---+------------+---------+----------+-----------+\n",
            "|Whatsapp          |54 |7.463       |6.48     |5.54      |0.503      |\n",
            "|Snapchat          |13 |7.462       |5.09     |5.54      |0.776      |\n",
            "|Tiktok            |154|7.429       |5.35     |5.71      |1.041      |\n",
            "|Instagram         |249|6.554       |4.87     |6.12      |1.537      |\n",
            "|Youtube           |10 |6.1         |4.08     |6.6       |1.37       |\n",
            "|Wechat            |15 |6.067       |4.96     |6.47      |1.033      |\n",
            "|Kakaotalk         |12 |6.0         |4.73     |6.0       |0.0        |\n",
            "|Facebook          |123|5.667       |4.51     |6.72      |1.435      |\n",
            "|Twitter           |30 |5.5         |4.87     |6.83      |1.548      |\n",
            "|Vkontakte         |12 |5.0         |4.25     |7.0       |0.0        |\n",
            "|Linkedin          |21 |3.81        |2.52     |8.0       |0.602      |\n",
            "|Line              |12 |3.0         |3.25     |8.0       |0.0        |\n",
            "+------------------+---+------------+---------+----------+-----------+\n",
            "\n"
          ]
        }
      ],
      "source": [
        "platform_agg = (\n",
        "    df_clean\n",
        "    .groupBy(\"Most_Used_Platform\")\n",
        "    .agg(\n",
        "        F.count(\"*\").alias(\"n\"),\n",
        "        F.round(F.avg(\"Addicted_Score\"), 3).alias(\"avg_addicted\"),\n",
        "        F.round(F.avg(\"Avg_Daily_Usage_Hours\"), 2).alias(\"avg_usage\"),\n",
        "        F.round(F.avg(\"Mental_Health_Score\"), 2).alias(\"avg_mental\"),\n",
        "        F.round(F.stddev_samp(\"Addicted_Score\"), 3).alias(\"sd_addicted\")\n",
        "    )\n",
        "    .orderBy(F.desc(\"avg_addicted\"))\n",
        ")\n",
        "\n",
        "# ACTION: show()\n",
        "platform_agg.show(20, truncate=False)"
      ]
    },
    {
      "cell_type": "markdown",
      "id": "c6TZNMttUWwL",
      "metadata": {
        "id": "c6TZNMttUWwL"
      },
      "source": [
        "SQL Queries: register a view and query with Spark SQL"
      ]
    },
    {
      "cell_type": "code",
      "execution_count": null,
      "id": "6pV94U9SmalZ",
      "metadata": {
        "id": "6pV94U9SmalZ",
        "colab": {
          "base_uri": "https://localhost:8080/"
        },
        "outputId": "a4778f2b-9300-4e14-e918-6bab22977c69"
      },
      "outputs": [
        {
          "output_type": "stream",
          "name": "stdout",
          "text": [
            "+------------------+---+------------+---------+----------+\n",
            "|Most_Used_Platform|n  |avg_addicted|avg_usage|avg_mental|\n",
            "+------------------+---+------------+---------+----------+\n",
            "|Whatsapp          |54 |7.463       |6.48     |5.54      |\n",
            "|Snapchat          |13 |7.462       |5.09     |5.54      |\n",
            "|Tiktok            |154|7.429       |5.35     |5.71      |\n",
            "|Instagram         |249|6.554       |4.87     |6.12      |\n",
            "|Youtube           |10 |6.1         |4.08     |6.6       |\n",
            "|Wechat            |15 |6.067       |4.96     |6.47      |\n",
            "|Kakaotalk         |12 |6.0         |4.73     |6.0       |\n",
            "|Facebook          |123|5.667       |4.51     |6.72      |\n",
            "|Twitter           |30 |5.5         |4.87     |6.83      |\n",
            "|Vkontakte         |12 |5.0         |4.25     |7.0       |\n",
            "|Linkedin          |21 |3.81        |2.52     |8.0       |\n",
            "|Line              |12 |3.0         |3.25     |8.0       |\n",
            "+------------------+---+------------+---------+----------+\n",
            "\n"
          ]
        }
      ],
      "source": [
        "df_clean.createOrReplaceTempView(\"students\")\n",
        "\n",
        "top_platforms_sql = spark.sql(\"\"\"\n",
        "SELECT\n",
        "  Most_Used_Platform,\n",
        "  COUNT(*) AS n,\n",
        "  ROUND(AVG(Addicted_Score), 3) AS avg_addicted,\n",
        "  ROUND(AVG(Avg_Daily_Usage_Hours), 2) AS avg_usage,\n",
        "  ROUND(AVG(Mental_Health_Score), 2) AS avg_mental\n",
        "FROM students\n",
        "GROUP BY Most_Used_Platform\n",
        "ORDER BY avg_addicted DESC\n",
        "\"\"\")\n",
        "\n",
        "# ACTION: show()\n",
        "top_platforms_sql.show(20, truncate=False)"
      ]
    },
    {
      "cell_type": "markdown",
      "id": "qDzTou0jmj_h",
      "metadata": {
        "id": "qDzTou0jmj_h"
      },
      "source": [
        "Null Data Management: inspect, drop, fill, and fix invalids. Our dataset did not have any null values."
      ]
    },
    {
      "cell_type": "code",
      "execution_count": null,
      "id": "1yZtqOP5mgpK",
      "metadata": {
        "id": "1yZtqOP5mgpK",
        "colab": {
          "base_uri": "https://localhost:8080/"
        },
        "outputId": "172d87c7-1a1e-44eb-99be-68cd8f48c7fb"
      },
      "outputs": [
        {
          "output_type": "stream",
          "name": "stdout",
          "text": [
            "+----------+---+------+--------------+-------+---------------------+------------------+----------------------------+---------------------+-------------------+-------------------+---------------------------+--------------+\n",
            "|Student_ID|Age|Gender|Academic_Level|Country|Avg_Daily_Usage_Hours|Most_Used_Platform|Affects_Academic_Performance|Sleep_Hours_Per_Night|Mental_Health_Score|Relationship_Status|Conflicts_Over_Social_Media|Addicted_Score|\n",
            "+----------+---+------+--------------+-------+---------------------+------------------+----------------------------+---------------------+-------------------+-------------------+---------------------------+--------------+\n",
            "|0         |0  |0     |0             |0      |0                    |0                 |0                           |0                    |0                  |0                  |0                          |0             |\n",
            "+----------+---+------+--------------+-------+---------------------+------------------+----------------------------+---------------------+-------------------+-------------------+---------------------------+--------------+\n",
            "\n",
            "+----------+---------------------+---------------------+-------------------+--------------+\n",
            "|Student_ID|Avg_Daily_Usage_Hours|Sleep_Hours_Per_Night|Mental_Health_Score|Addicted_Score|\n",
            "+----------+---------------------+---------------------+-------------------+--------------+\n",
            "|         1|                  5.2|                  6.5|                6.0|             8|\n",
            "|         2|                  2.1|                  7.5|                8.0|             3|\n",
            "|         3|                  6.0|                  5.0|                5.0|             9|\n",
            "|         4|                  3.0|                  7.0|                7.0|             4|\n",
            "|         5|                  4.5|                  6.0|                6.0|             7|\n",
            "|         6|                  7.2|                  4.5|                4.0|             9|\n",
            "|         7|                  1.5|                  8.0|                9.0|             2|\n",
            "|         8|                  5.8|                  6.0|                6.0|             8|\n",
            "|         9|                  4.0|                  6.5|                7.0|             5|\n",
            "|        10|                  3.3|                  7.0|                7.0|             4|\n",
            "+----------+---------------------+---------------------+-------------------+--------------+\n",
            "only showing top 10 rows\n",
            "\n"
          ]
        }
      ],
      "source": [
        "# 5a) Null counts per column\n",
        "null_counts = df_clean.select([F.sum(F.col(c).isNull().cast(\"int\")).alias(c) for c in df_clean.columns])\n",
        "null_counts.show(truncate=False)\n",
        "\n",
        "# 5b) Drop rows missing critical fields (example)\n",
        "df_no_nulls = df_clean.dropna(subset=[\"Addicted_Score\", \"Avg_Daily_Usage_Hours\", \"Mental_Health_Score\"])\n",
        "\n",
        "# 5c) Fill numeric nulls with mean (if any exist)\n",
        "means = df_no_nulls.select(\n",
        "    *[F.avg(c).alias(c) for c in [\"Avg_Daily_Usage_Hours\",\"Sleep_Hours_Per_Night\",\"Mental_Health_Score\",\"Conflicts_Over_Social_Media\"]]\n",
        ").first().asDict()\n",
        "\n",
        "df_filled = df_no_nulls.fillna(means)\n",
        "\n",
        "# 5d) Cap obviously invalid numeric ranges (guards only)\n",
        "def cap(col, low=None, high=None):\n",
        "    x = F.col(col)\n",
        "    if low is not None:\n",
        "        x = F.when(F.col(col) < low, low).otherwise(x)\n",
        "    if high is not None:\n",
        "        x = F.when(x > high, high).otherwise(x)\n",
        "    return x\n",
        "\n",
        "df_sanitized = (\n",
        "    df_filled\n",
        "    .withColumn(\"Avg_Daily_Usage_Hours\", cap(\"Avg_Daily_Usage_Hours\", 0, 24))\n",
        "    .withColumn(\"Sleep_Hours_Per_Night\", cap(\"Sleep_Hours_Per_Night\", 0, 24))\n",
        "    .withColumn(\"Mental_Health_Score\", cap(\"Mental_Health_Score\", 0, 10))\n",
        "    .withColumn(\"Addicted_Score\", cap(\"Addicted_Score\", 0, 10))\n",
        ")\n",
        "\n",
        "# show() a few rows to verify\n",
        "df_sanitized.select(\n",
        "    \"Student_ID\",\"Avg_Daily_Usage_Hours\",\"Sleep_Hours_Per_Night\",\"Mental_Health_Score\",\"Addicted_Score\"\n",
        ").show(10)"
      ]
    },
    {
      "cell_type": "markdown",
      "id": "wgp0NQGlm9bW",
      "metadata": {
        "id": "wgp0NQGlm9bW"
      },
      "source": [
        "Join:\n",
        "\n",
        "Build per-platform averages as a DataFrame\n",
        "\n",
        "Join back to each student\n",
        "\n",
        "Compute delta from platform average"
      ]
    },
    {
      "cell_type": "code",
      "execution_count": null,
      "id": "1V6QARFcmy-G",
      "metadata": {
        "id": "1V6QARFcmy-G",
        "colab": {
          "base_uri": "https://localhost:8080/"
        },
        "outputId": "eb9ed82a-7df1-4644-959a-21aa98b7bb7b"
      },
      "outputs": [
        {
          "output_type": "stream",
          "name": "stdout",
          "text": [
            "+----------+------------------+--------------+---------------------+-------------------+\n",
            "|Student_ID|Most_Used_Platform|Addicted_Score|platform_avg_addicted|delta_from_platform|\n",
            "+----------+------------------+--------------+---------------------+-------------------+\n",
            "|574       |Facebook          |9             |5.666666666666667    |3.333333333333333  |\n",
            "|608       |Facebook          |9             |5.666666666666667    |3.333333333333333  |\n",
            "|676       |Facebook          |9             |5.666666666666667    |3.333333333333333  |\n",
            "|101       |Youtube           |9             |6.1                  |2.9000000000000004 |\n",
            "|649       |Twitter           |8             |5.5                  |2.5                |\n",
            "|666       |Twitter           |8             |5.5                  |2.5                |\n",
            "|683       |Twitter           |8             |5.5                  |2.5                |\n",
            "|700       |Twitter           |8             |5.5                  |2.5                |\n",
            "|253       |Instagram         |9             |6.554216867469879    |2.4457831325301207 |\n",
            "|90        |Instagram         |9             |6.554216867469879    |2.4457831325301207 |\n",
            "+----------+------------------+--------------+---------------------+-------------------+\n",
            "only showing top 10 rows\n",
            "\n"
          ]
        }
      ],
      "source": [
        "# 6.1 Per-platform average addiction\n",
        "platform_avg = (\n",
        "    df_sanitized\n",
        "    .groupBy(\"Most_Used_Platform\")\n",
        "    .agg(F.avg(\"Addicted_Score\").alias(\"platform_avg_addicted\"))\n",
        ")\n",
        "\n",
        "# 6.2 Join back to base DF\n",
        "joined = (\n",
        "    df_sanitized\n",
        "    .join(platform_avg, on=\"Most_Used_Platform\", how=\"left\")\n",
        "    .withColumn(\"delta_from_platform\", F.col(\"Addicted_Score\") - F.col(\"platform_avg_addicted\"))\n",
        ")\n",
        "\n",
        "# ACTION: show() a sample, ordered by highest delta\n",
        "joined.select(\n",
        "    \"Student_ID\",\"Most_Used_Platform\",\"Addicted_Score\",\"platform_avg_addicted\",\"delta_from_platform\"\n",
        ").orderBy(F.desc(\"delta_from_platform\")).show(10, truncate=False)\n"
      ]
    },
    {
      "cell_type": "markdown",
      "id": "BOkruTUwG9zt",
      "metadata": {
        "id": "BOkruTUwG9zt"
      },
      "source": [
        "## 5) Graph Theory\n",
        "\n",
        "Represent the data as a graph (using a library like GraphFrames or NetworkX with Spark). Implement the following graph algorithms:\n",
        "\n",
        "PageRank: Calculate the importance of nodes in the graph. Triangle Counting: Identify clusters or densely connected regions. Formulate a meaningful question that can be answered using graph theory and demonstrate how these algorithms help answer it."
      ]
    },
    {
      "cell_type": "code",
      "execution_count": null,
      "id": "RGB5_5kpVm-h",
      "metadata": {
        "id": "RGB5_5kpVm-h"
      },
      "outputs": [],
      "source": [
        "import networkx as nx # python library for building and analyzing graphs\n",
        "import matplotlib.pyplot as plt # visualize the graph"
      ]
    },
    {
      "cell_type": "code",
      "execution_count": null,
      "id": "XAZdi5IzVwfw",
      "metadata": {
        "id": "XAZdi5IzVwfw"
      },
      "outputs": [],
      "source": [
        "# create an empty graph\n",
        "G = nx.Graph() #G will dtor students, platforms, and connections"
      ]
    },
    {
      "cell_type": "markdown",
      "id": "7dCjtoxwG5y0",
      "metadata": {
        "id": "7dCjtoxwG5y0"
      },
      "source": [
        "## Student -> Platform"
      ]
    },
    {
      "cell_type": "markdown",
      "id": "A5g9bbVsHB37",
      "metadata": {
        "id": "A5g9bbVsHB37"
      },
      "source": [
        "### Build Graph"
      ]
    },
    {
      "cell_type": "code",
      "execution_count": null,
      "id": "aY-o0g65VyAM",
      "metadata": {
        "id": "aY-o0g65VyAM",
        "colab": {
          "base_uri": "https://localhost:8080/"
        },
        "outputId": "f2baf3e0-e56a-44a7-bedf-9a3347885c4d"
      },
      "outputs": [
        {
          "output_type": "stream",
          "name": "stdout",
          "text": [
            "Graph built: 717 nodes, 705 edges\n"
          ]
        }
      ],
      "source": [
        "# Convert Spark DataFrame to Pandas\n",
        "df_clean_pd = df_clean.toPandas()\n",
        "# Build graph\n",
        "# Build nodes and edges from dataset\n",
        "for index, row in df_clean_pd.iterrows(): # index, row (data form each student)\n",
        "    student_id = f\"Student_{row['Student_ID']}\" # create a unique lable for each student\n",
        "    platform = row['Most_Used_Platform'] # extract the social media platform this student uses\n",
        "\n",
        "    # Add student as a node in the graph\n",
        "    # node attribute: type =\"student\" and addiction score from the dataset\n",
        "    G.add_node(student_id, type =\"student\", score=row['Addicted_Score'])\n",
        "\n",
        "    # Add the platform as another node in graph\n",
        "    # node attribute: type =\"platform\"\n",
        "    G.add_node(platform, type =\"platform\")\n",
        "\n",
        "    # Add an edge between the student and the platform\n",
        "    # this create a bipartite graph (two types of nodes: student <-> playforms)\n",
        "    G.add_edge(student_id, platform)\n",
        "\n",
        "print(f\"Graph built: {G.number_of_nodes()} nodes, {G.number_of_edges()} edges\")"
      ]
    },
    {
      "cell_type": "markdown",
      "id": "0lSAIdMCV5Il",
      "metadata": {
        "id": "0lSAIdMCV5Il"
      },
      "source": [
        "### PageRank (Measure Influence)"
      ]
    },
    {
      "cell_type": "code",
      "execution_count": null,
      "id": "DfBXiTICV7OX",
      "metadata": {
        "id": "DfBXiTICV7OX",
        "colab": {
          "base_uri": "https://localhost:8080/"
        },
        "outputId": "7b93d3f4-786e-403e-810e-59066f5ea690"
      },
      "outputs": [
        {
          "output_type": "stream",
          "name": "stdout",
          "text": [
            "\n",
            "Top 10 nodes by PageRank (most influential students/platforms):\n",
            "Instagram: 0.1604\n",
            "Tiktok: 0.0995\n",
            "Facebook: 0.0796\n",
            "Whatsapp: 0.0354\n",
            "Twitter: 0.0200\n",
            "Linkedin: 0.0142\n",
            "Wechat: 0.0104\n",
            "Snapchat: 0.0091\n",
            "Line: 0.0084\n",
            "Kakaotalk: 0.0084\n"
          ]
        }
      ],
      "source": [
        "# Compute PageRank scores for all nodes in the graph\n",
        "pagerank_scores = nx.pagerank(G)\n",
        "\n",
        "# Sort nodes by PageRank scores in descending order\n",
        "sorted_nodes = sorted(pagerank_scores.items(), key=lambda x: x[1], reverse=True)\n",
        "\n",
        "# Show top 10 nodes\n",
        "print(\"\\nTop 10 nodes by PageRank (most influential students/platforms):\")\n",
        "for node, score in sorted_nodes[:10]:\n",
        "    print(f\"{node}: {score:.4f}\")"
      ]
    },
    {
      "cell_type": "markdown",
      "id": "8EKAaCOS6apQ",
      "metadata": {
        "id": "8EKAaCOS6apQ"
      },
      "source": [
        "### Triangle Count"
      ]
    },
    {
      "cell_type": "code",
      "execution_count": null,
      "id": "lZwV6DHG0fEG",
      "metadata": {
        "id": "lZwV6DHG0fEG",
        "colab": {
          "base_uri": "https://localhost:8080/"
        },
        "outputId": "42b1d76f-61c4-421c-8ab3-dac1edd40d63"
      },
      "outputs": [
        {
          "output_type": "stream",
          "name": "stdout",
          "text": [
            "\n",
            "Top 10 students by triangle count:\n",
            "Student_1: 30628\n",
            "Student_6: 30628\n",
            "Student_10: 30628\n",
            "Student_14: 30628\n",
            "Student_18: 30628\n",
            "Student_23: 30628\n",
            "Student_26: 30628\n",
            "Student_30: 30628\n",
            "Student_35: 30628\n",
            "Student_38: 30628\n"
          ]
        }
      ],
      "source": [
        "from networkx.algorithms import bipartite\n",
        "\n",
        "# Project graph onto students\n",
        "students = [n for n, d in G.nodes(data=True) if d[\"type\"] == \"student\"]\n",
        "student_graph = bipartite.projected_graph(G, students)\n",
        "\n",
        "# Triangle count\n",
        "triangles = nx.triangles(student_graph)\n",
        "top10_tri = sorted(triangles.items(), key=lambda x: x[1], reverse=True)[:10]\n",
        "\n",
        "print(\"\\nTop 10 students by triangle count:\")\n",
        "for node, count in top10_tri:\n",
        "    print(f\"{node}: {count}\")\n"
      ]
    },
    {
      "cell_type": "markdown",
      "source": [
        "### Visualization"
      ],
      "metadata": {
        "id": "WAkOxJ74spJy"
      },
      "id": "WAkOxJ74spJy"
    },
    {
      "cell_type": "code",
      "execution_count": null,
      "id": "11xVV9UP3pUB",
      "metadata": {
        "id": "11xVV9UP3pUB",
        "colab": {
          "base_uri": "https://localhost:8080/",
          "height": 676
        },
        "outputId": "bf31051d-ce3a-4a81-e690-223e512ce178"
      },
      "outputs": [
        {
          "output_type": "display_data",
          "data": {
            "text/plain": [
              "<Figure size 1200x800 with 1 Axes>"
            ],
            "image/png": "[encoded data removed]"
          },
          "metadata": {}
        }
      ],
      "source": [
        "\n",
        "# Quick visualization\n",
        "plt.figure(figsize=(12, 8))\n",
        "\n",
        "# Layout (spring layout = force-directed, natural clustering)\n",
        "pos = nx.spring_layout(G, k=0.3, seed=42)\n",
        "\n",
        "# Draw nodes by type\n",
        "student_nodes = [n for n, d in G.nodes(data=True) if d[\"type\"] == \"student\"]\n",
        "platform_nodes = [n for n, d in G.nodes(data=True) if d[\"type\"] == \"platform\"]\n",
        "\n",
        "nx.draw_networkx_nodes(G, pos, nodelist=student_nodes,\n",
        "                       node_size=50, node_color=\"skyblue\", alpha=0.6, label=\"Students\")\n",
        "nx.draw_networkx_nodes(G, pos, nodelist=platform_nodes,\n",
        "                       node_size=300, node_color=\"orange\", alpha=0.9, label=\"Platforms\")\n",
        "\n",
        "# Draw edges\n",
        "nx.draw_networkx_edges(G, pos, alpha=0.3)\n",
        "\n",
        "# Add labels only for platforms (to reduce clutter)\n",
        "nx.draw_networkx_labels(G, pos, labels={n: n for n in platform_nodes}, font_size=10, font_color=\"black\")\n",
        "\n",
        "plt.title(\"Student–Platform Graph\", fontsize=14)\n",
        "plt.legend(scatterpoints=1)\n",
        "plt.axis(\"off\")\n",
        "plt.show()\n"
      ]
    },
    {
      "cell_type": "markdown",
      "id": "C6NYSlHCHMuN",
      "metadata": {
        "id": "C6NYSlHCHMuN"
      },
      "source": [
        "## Country -> Platform"
      ]
    },
    {
      "cell_type": "code",
      "execution_count": null,
      "id": "WGKzvCAbG0S2",
      "metadata": {
        "id": "WGKzvCAbG0S2",
        "colab": {
          "base_uri": "https://localhost:8080/"
        },
        "outputId": "c525d995-ac66-4e25-8e9c-f7dd93af1499"
      },
      "outputs": [
        {
          "output_type": "stream",
          "name": "stdout",
          "text": [
            "Graph built: 122 nodes, 171 edges\n",
            "\n",
            "Top 10 nodes by PageRank:\n",
            "Instagram: 0.1142\n",
            "Tiktok: 0.1017\n",
            "Facebook: 0.0701\n",
            "Linkedin: 0.0656\n",
            "Snapchat: 0.0416\n",
            "Youtube: 0.0296\n",
            "Twitter: 0.0185\n",
            "Country=Italy: 0.0124\n",
            "Country=UK: 0.0123\n",
            "Country=India: 0.0119\n",
            "\n",
            "Top 10 countries by triangle count (dense shared-platform clusters):\n",
            "Country=Italy: 1920\n",
            "Country=Switzerland: 1920\n",
            "Country=UK: 1763\n",
            "Country=India: 1736\n",
            "Country=Mexico: 1736\n",
            "Country=Bangladesh: 1730\n",
            "Country=Canada: 1730\n",
            "Country=Spain: 1730\n",
            "Country=Finland: 1730\n",
            "Country=Poland: 1730\n"
          ]
        }
      ],
      "source": [
        "import networkx as nx\n",
        "from networkx.algorithms import bipartite\n",
        "\n",
        "# Build bipartite graph: Country ↔ Platform\n",
        "G = nx.Graph()\n",
        "for _, row in df_clean_pd.iterrows():\n",
        "    country = f\"Country={row['Country']}\"\n",
        "    platform = row['Most_Used_Platform']\n",
        "\n",
        "    # Add nodes\n",
        "    G.add_node(country, type=\"country\")\n",
        "    G.add_node(platform, type=\"platform\")\n",
        "\n",
        "    # Add edge\n",
        "    G.add_edge(country, platform)\n",
        "\n",
        "print(f\"Graph built: {G.number_of_nodes()} nodes, {G.number_of_edges()} edges\")\n",
        "\n",
        "# PageRank\n",
        "pagerank_scores = nx.pagerank(G)\n",
        "top10_pr = sorted(pagerank_scores.items(), key=lambda x: x[1], reverse=True)[:10]\n",
        "print(\"\\nTop 10 nodes by PageRank:\")\n",
        "for node, score in top10_pr:\n",
        "    print(f\"{node}: {score:.4f}\")\n",
        "\n",
        "# Project onto countries\n",
        "countries = [n for n, d in G.nodes(data=True) if d[\"type\"] == \"country\"]\n",
        "country_graph = bipartite.projected_graph(G, countries)\n",
        "\n",
        "# Triangle Counting\n",
        "triangles = nx.triangles(country_graph)\n",
        "top10_tri = sorted(triangles.items(), key=lambda x: x[1], reverse=True)[:10]\n",
        "\n",
        "print(\"\\nTop 10 countries by triangle count (dense shared-platform clusters):\")\n",
        "for node, tri in top10_tri:\n",
        "    print(f\"{node}: {tri}\")\n"
      ]
    },
    {
      "cell_type": "code",
      "execution_count": null,
      "id": "5AdzCG4bHsnS",
      "metadata": {
        "id": "5AdzCG4bHsnS",
        "colab": {
          "base_uri": "https://localhost:8080/"
        },
        "outputId": "6c9c8e39-9772-428b-85eb-5ee22d6104bc"
      },
      "outputs": [
        {
          "output_type": "stream",
          "name": "stdout",
          "text": [
            "Platforms used in Italy: {'Facebook', 'Linkedin', 'Twitter', 'Tiktok', 'Instagram'}\n",
            "Platforms used in Switzerland: {'Facebook', 'Linkedin', 'Tiktok', 'Instagram'}\n",
            "\n",
            "Shared platforms between Italy & Switzerland: {'Facebook', 'Linkedin', 'Instagram', 'Tiktok'}\n",
            "Facebook: 28 countries connected → ['Country=Canada', 'Country=Denmark', 'Country=Greece', 'Country=Vietnam', 'Country=Israel', 'Country=Kenya', 'Country=Venezuela', 'Country=Panama', 'Country=Poland', 'Country=Lithuania']...\n",
            "Linkedin: 21 countries connected → ['Country=Germany', 'Country=Italy', 'Country=Sweden', 'Country=Switzerland', 'Country=Malaysia', 'Country=Taiwan', 'Country=South Africa', 'Country=Chile', 'Country=Bolivia', 'Country=Bahamas']...\n",
            "Instagram: 44 countries connected → ['Country=Bangladesh', 'Country=Australia', 'Country=South Korea', 'Country=Mexico', 'Country=Norway', 'Country=Austria', 'Country=Ireland', 'Country=Thailand', 'Country=Hong Kong', 'Country=UAE']...\n",
            "Tiktok: 39 countries connected → ['Country=USA', 'Country=Japan', 'Country=Spain', 'Country=China', 'Country=Belgium', 'Country=Portugal', 'Country=Singapore', 'Country=Indonesia', 'Country=Turkey', 'Country=Morocco']...\n"
          ]
        }
      ],
      "source": [
        "# Get platforms connected to Italy & Switzerland\n",
        "italy_platforms = {nbr for nbr in G.neighbors(\"Country=Italy\") if G.nodes[nbr][\"type\"] == \"platform\"}\n",
        "swiss_platforms = {nbr for nbr in G.neighbors(\"Country=Switzerland\") if G.nodes[nbr][\"type\"] == \"platform\"}\n",
        "\n",
        "print(\"Platforms used in Italy:\", italy_platforms)\n",
        "print(\"Platforms used in Switzerland:\", swiss_platforms)\n",
        "\n",
        "# Overlap between Italy and Switzerland\n",
        "shared_platforms = italy_platforms & swiss_platforms\n",
        "print(\"\\nShared platforms between Italy & Switzerland:\", shared_platforms)\n",
        "\n",
        "# Check how many countries connect to each shared platform\n",
        "for platform in shared_platforms:\n",
        "    connected_countries = [nbr for nbr in G.neighbors(platform) if G.nodes[nbr][\"type\"] == \"country\"]\n",
        "    print(f\"{platform}: {len(connected_countries)} countries connected → {connected_countries[:10]}...\")"
      ]
    },
    {
      "cell_type": "markdown",
      "id": "RaWvNJRIKn2q",
      "metadata": {
        "id": "RaWvNJRIKn2q"
      },
      "source": [
        "\n",
        "## 6) Spatiotemporal Analysis\n",
        "\n",
        "Utilize a library like Apache Sedona or similar to handle spatial data within Spark. Implement the following operations:\n",
        "\n",
        "Convex Hull: Find the smallest convex polygon enclosing a set of points. Buffer: Create a region around a set of points or polygons. Intersections & Unions: Combine or overlap spatial features. Formulate a meaningful question that can be answered using spatiotemporal analysis and demonstrate how these operations help answer it."
      ]
    },
    {
      "cell_type": "code",
      "execution_count": null,
      "id": "OrErhBelKnnY",
      "metadata": {
        "id": "OrErhBelKnnY",
        "colab": {
          "base_uri": "https://localhost:8080/"
        },
        "outputId": "15b54258-0815-4dc1-a6ea-f9e0d399d292"
      },
      "outputs": [
        {
          "output_type": "stream",
          "name": "stdout",
          "text": [
            "No LSB modules are available.\n",
            "Distributor ID:\tUbuntu\n",
            "Description:\tUbuntu 22.04.4 LTS\n",
            "Release:\t22.04\n",
            "Codename:\tjammy\n"
          ]
        }
      ],
      "source": [
        "!lsb_release -a"
      ]
    },
    {
      "cell_type": "code",
      "execution_count": null,
      "id": "sn3tpTpEMAEU",
      "metadata": {
        "colab": {
          "base_uri": "https://localhost:8080/"
        },
        "id": "sn3tpTpEMAEU",
        "outputId": "d4a7c8a7-87e4-4114-a7e8-7c59f3a2abcf"
      },
      "outputs": [
        {
          "output_type": "stream",
          "name": "stdout",
          "text": [
            "CPU(s):                               2\n",
            "Model name:                           Intel(R) Xeon(R) CPU @ 2.20GHz\n",
            "Thread(s) per core:                   2\n",
            "Core(s) per socket:                   1\n",
            "Socket(s):                            1\n"
          ]
        }
      ],
      "source": [
        "!lscpu | grep -E '^Model name|^Thread|^Core|^Socket|^CPU\\('"
      ]
    },
    {
      "cell_type": "code",
      "execution_count": null,
      "id": "WnMogZOZMBCH",
      "metadata": {
        "colab": {
          "base_uri": "https://localhost:8080/"
        },
        "id": "WnMogZOZMBCH",
        "outputId": "3d06a4ec-45b6-4353-e4e0-fbafc6412a64"
      },
      "outputs": [
        {
          "output_type": "stream",
          "name": "stdout",
          "text": [
            "               total        used        free      shared  buff/cache   available\n",
            "Mem:            12Gi       913Mi       8.9Gi       2.0Mi       2.9Gi        11Gi\n",
            "Swap:             0B          0B          0B\n"
          ]
        }
      ],
      "source": [
        "!free -m -h"
      ]
    },
    {
      "cell_type": "code",
      "execution_count": null,
      "id": "EiXNVYbQMDWI",
      "metadata": {
        "colab": {
          "base_uri": "https://localhost:8080/"
        },
        "id": "EiXNVYbQMDWI",
        "outputId": "89f0e8a8-d0bf-4445-cbc1-e41f89443902"
      },
      "outputs": [
        {
          "output_type": "stream",
          "name": "stdout",
          "text": [
            "Filesystem      Size  Used Avail Use% Mounted on\n",
            "overlay         226G   40G  187G  18% /\n",
            "tmpfs            64M     0   64M   0% /dev\n",
            "shm             5.8G     0  5.8G   0% /dev/shm\n",
            "/dev/root       2.0G  1.2G  775M  61% /usr/sbin/docker-init\n",
            "/dev/sda1       233G   40G  193G  18% /kaggle/input\n",
            "tmpfs           6.4G  336K  6.4G   1% /var/colab\n",
            "tmpfs           6.4G     0  6.4G   0% /proc/acpi\n",
            "tmpfs           6.4G     0  6.4G   0% /proc/scsi\n",
            "tmpfs           6.4G     0  6.4G   0% /sys/firmware\n"
          ]
        }
      ],
      "source": [
        "!df -h"
      ]
    },
    {
      "cell_type": "code",
      "execution_count": null,
      "id": "LTPRTlPdMGAQ",
      "metadata": {
        "colab": {
          "base_uri": "https://localhost:8080/"
        },
        "id": "LTPRTlPdMGAQ",
        "outputId": "9d2702dd-6c0f-43db-e0f7-de5b574b466a"
      },
      "outputs": [
        {
          "output_type": "stream",
          "name": "stdout",
          "text": [
            "NAME  ROTA\n",
            "loop0    0\n",
            "sda      0\n"
          ]
        }
      ],
      "source": [
        "!lsblk -d -o name,rota"
      ]
    },
    {
      "cell_type": "code",
      "execution_count": null,
      "id": "Kw60JjjIMIXu",
      "metadata": {
        "colab": {
          "base_uri": "https://localhost:8080/"
        },
        "id": "Kw60JjjIMIXu",
        "outputId": "eaf163f2-1b6a-4f42-f3b7-d891b94acf74"
      },
      "outputs": [
        {
          "output_type": "stream",
          "name": "stdout",
          "text": [
            "Collecting apache-sedona\n",
            "  Downloading apache_sedona-1.7.2-cp312-cp312-manylinux_2_17_x86_64.manylinux2014_x86_64.whl.metadata (2.7 kB)\n",
            "Requirement already satisfied: attrs in /usr/local/lib/python3.12/dist-packages (from apache-sedona) (25.3.0)\n",
            "Requirement already satisfied: shapely>=1.7.0 in /usr/local/lib/python3.12/dist-packages (from apache-sedona) (2.1.1)\n",
            "Requirement already satisfied: numpy>=1.21 in /usr/local/lib/python3.12/dist-packages (from shapely>=1.7.0->apache-sedona) (2.0.2)\n",
            "Downloading apache_sedona-1.7.2-cp312-cp312-manylinux_2_17_x86_64.manylinux2014_x86_64.whl (207 kB)\n",
            "\u001b[2K   \u001b[90m━━━━━━━━━━━━━━━━━━━━━━━━━━━━━━━━━━━━━━━━\u001b[0m \u001b[32m207.1/207.1 kB\u001b[0m \u001b[31m3.4 MB/s\u001b[0m eta \u001b[36m0:00:00\u001b[0m\n",
            "\u001b[?25hInstalling collected packages: apache-sedona\n",
            "Successfully installed apache-sedona-1.7.2\n"
          ]
        }
      ],
      "source": [
        "!pip install apache-sedona"
      ]
    },
    {
      "cell_type": "code",
      "execution_count": null,
      "id": "kO6kp1TnMMwn",
      "metadata": {
        "id": "kO6kp1TnMMwn"
      },
      "outputs": [],
      "source": [
        "!apt-get install openjdk-11-jdk-headless -qq > /dev/null"
      ]
    },
    {
      "cell_type": "code",
      "execution_count": null,
      "id": "KFAnbpP3MPaz",
      "metadata": {
        "colab": {
          "base_uri": "https://localhost:8080/"
        },
        "id": "KFAnbpP3MPaz",
        "outputId": "2d8a5bf5-20bb-4f6b-ace6-58e27770afec"
      },
      "outputs": [
        {
          "output_type": "stream",
          "name": "stdout",
          "text": [
            "openjdk version \"11.0.28\" 2025-07-15\n",
            "OpenJDK Runtime Environment (build 11.0.28+6-post-Ubuntu-1ubuntu122.04.1)\n",
            "OpenJDK 64-Bit Server VM (build 11.0.28+6-post-Ubuntu-1ubuntu122.04.1, mixed mode, sharing)\n"
          ]
        }
      ],
      "source": [
        "! java -version"
      ]
    },
    {
      "cell_type": "code",
      "execution_count": null,
      "id": "0FI3iH2dMSZ7",
      "metadata": {
        "id": "0FI3iH2dMSZ7"
      },
      "outputs": [],
      "source": [
        "!pip -q install pyspark\n",
        "!pip -q install findspark"
      ]
    },
    {
      "cell_type": "code",
      "execution_count": null,
      "id": "WwBOdoKNMUem",
      "metadata": {
        "id": "WwBOdoKNMUem",
        "colab": {
          "base_uri": "https://localhost:8080/"
        },
        "outputId": "80295cf0-2356-4140-b38e-3353031a8c16"
      },
      "outputs": [
        {
          "output_type": "stream",
          "name": "stdout",
          "text": [
            "\u001b[?25l   \u001b[90m━━━━━━━━━━━━━━━━━━━━━━━━━━━━━━━━━━━━━━━━\u001b[0m \u001b[32m0.0/507.6 kB\u001b[0m \u001b[31m?\u001b[0m eta \u001b[36m-:--:--\u001b[0m\r\u001b[2K   \u001b[91m━━━━━━━━━━━━━\u001b[0m\u001b[91m╸\u001b[0m\u001b[90m━━━━━━━━━━━━━━━━━━━━━━━━━━\u001b[0m \u001b[32m174.1/507.6 kB\u001b[0m \u001b[31m5.7 MB/s\u001b[0m eta \u001b[36m0:00:01\u001b[0m\r\u001b[2K   \u001b[91m━━━━━━━━━━━━━━━━━━━━━━━━━━━━━━━━━━━━━━━\u001b[0m\u001b[91m╸\u001b[0m \u001b[32m501.8/507.6 kB\u001b[0m \u001b[31m9.4 MB/s\u001b[0m eta \u001b[36m0:00:01\u001b[0m\r\u001b[2K   \u001b[90m━━━━━━━━━━━━━━━━━━━━━━━━━━━━━━━━━━━━━━━━\u001b[0m \u001b[32m507.6/507.6 kB\u001b[0m \u001b[31m6.8 MB/s\u001b[0m eta \u001b[36m0:00:00\u001b[0m\n",
            "\u001b[?25h"
          ]
        }
      ],
      "source": [
        "!pip -q install geopandas attrs shapely rtree apache-sedona[spark]"
      ]
    },
    {
      "cell_type": "code",
      "execution_count": null,
      "id": "_MTohMXhMVde",
      "metadata": {
        "id": "_MTohMXhMVde"
      },
      "outputs": [],
      "source": [
        "!wget -q https://archive.apache.org/dist/spark/spark-3.5.2/spark-3.5.2-bin-hadoop3.tgz"
      ]
    },
    {
      "cell_type": "code",
      "execution_count": null,
      "id": "F5umUz8eMXpr",
      "metadata": {
        "id": "F5umUz8eMXpr"
      },
      "outputs": [],
      "source": [
        "!tar xf spark-3.5.2-bin-hadoop3.tgz"
      ]
    },
    {
      "cell_type": "code",
      "execution_count": null,
      "id": "HsTkQJ70MZ3_",
      "metadata": {
        "id": "HsTkQJ70MZ3_"
      },
      "outputs": [],
      "source": [
        "!export SPARK_HOME=/content/spark-3.5.2-bin-hadoop3\n",
        "!export PATH=$PATH:/content/spark-3.5.2-bin-hadoop3/bin"
      ]
    },
    {
      "cell_type": "code",
      "execution_count": null,
      "id": "HOYVFsR-Mcm8",
      "metadata": {
        "id": "HOYVFsR-Mcm8"
      },
      "outputs": [],
      "source": [
        "# We set the enviromental variables for Java and Spark.\n",
        "import os\n",
        "os.environ[\"JAVA_HOME\"] = \"/usr/lib/jvm/java-11-openjdk-amd64\"\n",
        "os.environ[\"SPARK_HOME\"] = \"/content/spark-3.5.2-bin-hadoop3\""
      ]
    },
    {
      "cell_type": "code",
      "execution_count": null,
      "id": "3KlY5bdzMfe9",
      "metadata": {
        "id": "3KlY5bdzMfe9",
        "colab": {
          "base_uri": "https://localhost:8080/"
        },
        "outputId": "ef9970bd-10e0-44a7-f440-1435ccafe5e7"
      },
      "outputs": [
        {
          "output_type": "stream",
          "name": "stdout",
          "text": [
            "\u001b[2K     \u001b[90m━━━━━━━━━━━━━━━━━━━━━━━━━━━━━━━━━━━━━━━\u001b[0m \u001b[32m317.3/317.3 MB\u001b[0m \u001b[31m3.8 MB/s\u001b[0m eta \u001b[36m0:00:00\u001b[0m\n",
            "\u001b[?25h  Preparing metadata (setup.py) ... \u001b[?25l\u001b[?25hdone\n",
            "  Building wheel for pyspark (setup.py) ... \u001b[?25l\u001b[?25hdone\n"
          ]
        }
      ],
      "source": [
        "!pip install -q pyspark==3.5.2\n",
        "!pip install -q findspark"
      ]
    },
    {
      "cell_type": "code",
      "execution_count": null,
      "id": "OiMYpSBbM5pE",
      "metadata": {
        "id": "OiMYpSBbM5pE",
        "colab": {
          "base_uri": "https://localhost:8080/"
        },
        "outputId": "c1fbe04a-2dd0-4557-c9d9-acc247f03bbe"
      },
      "outputs": [
        {
          "output_type": "stream",
          "name": "stdout",
          "text": [
            "/content/spark-3.5.2-bin-hadoop3\n"
          ]
        }
      ],
      "source": [
        "!echo $SPARK_HOME"
      ]
    },
    {
      "cell_type": "code",
      "execution_count": null,
      "id": "sHDJsNA5M9uM",
      "metadata": {
        "id": "sHDJsNA5M9uM"
      },
      "outputs": [],
      "source": [
        " import pyspark"
      ]
    },
    {
      "cell_type": "code",
      "execution_count": null,
      "id": "ncOAPegrNCj3",
      "metadata": {
        "id": "ncOAPegrNCj3",
        "colab": {
          "base_uri": "https://localhost:8080/"
        },
        "outputId": "81bc6531-9386-4c2c-ac10-0d1a8951bf15"
      },
      "outputs": [
        {
          "output_type": "stream",
          "name": "stdout",
          "text": [
            "/usr/lib/jvm/java-11-openjdk-amd64\n"
          ]
        }
      ],
      "source": [
        "!echo $JAVA_HOME"
      ]
    },
    {
      "cell_type": "code",
      "execution_count": null,
      "id": "p3tJtpZRNDrt",
      "metadata": {
        "id": "p3tJtpZRNDrt"
      },
      "outputs": [],
      "source": [
        "import findspark\n",
        "findspark.init()\n",
        "import shapely\n",
        "import pandas as pd\n",
        "import geopandas as gpd\n",
        "from pyspark.sql import SparkSession\n",
        "from pyspark import SparkContext\n",
        "from pyspark import SparkConf\n",
        "from sedona.register import SedonaRegistrator\n",
        "from sedona.utils import SedonaKryoRegistrator, KryoSerializer\n"
      ]
    },
    {
      "cell_type": "code",
      "execution_count": null,
      "id": "DG5EfRqRNMBP",
      "metadata": {
        "id": "DG5EfRqRNMBP",
        "colab": {
          "base_uri": "https://localhost:8080/"
        },
        "outputId": "4fc9c6c8-e798-4002-d28a-c96382d4122c"
      },
      "outputs": [
        {
          "output_type": "stream",
          "name": "stdout",
          "text": [
            "Spark version: 3.5.2\n"
          ]
        }
      ],
      "source": [
        "from pyspark.sql import SparkSession\n",
        "\n",
        "spark = (\n",
        "    SparkSession.builder\n",
        "    .appName(\"SedonaOps\")\n",
        "    # IMPORTANT: disable Hive so Spark doesn't look for spark-hive JARs\n",
        "    .config(\"spark.sql.catalogImplementation\", \"in-memory\")\n",
        "    # Load Sedona + Geotools that match Spark 3.5.x\n",
        "    .config(\n",
        "        \"spark.jars.packages\",\n",
        "        \"org.apache.sedona:sedona-spark-shaded-3.5_2.12:1.7.2,\"\n",
        "        \"org.datasyslab:geotools-wrapper:1.7.2-28.5\"\n",
        "    )\n",
        "    # Enable Sedona SQL functions\n",
        "    .config(\"spark.sql.extensions\", \"org.apache.sedona.sql.SedonaSqlExtensions\")\n",
        "    # Kryo serializer recommended\n",
        "    .config(\"spark.serializer\", \"org.apache.spark.serializer.KryoSerializer\")\n",
        "    .config(\"spark.kryo.registrator\", \"org.apache.sedona.core.serde.SedonaKryoRegistrator\")\n",
        "    .getOrCreate()\n",
        ")\n",
        "\n",
        "print(\"Spark version:\", spark.version)\n"
      ]
    },
    {
      "cell_type": "code",
      "execution_count": null,
      "id": "ei_RkxEAHlpT",
      "metadata": {
        "id": "ei_RkxEAHlpT",
        "colab": {
          "base_uri": "https://localhost:8080/"
        },
        "outputId": "8ba162e1-ff09-49ad-f5e2-f9d510870d4f"
      },
      "outputs": [
        {
          "output_type": "stream",
          "name": "stderr",
          "text": [
            "/tmp/ipython-input-2106023381.py:18: DeprecationWarning: Call to deprecated function registerAll (Deprecated since 1.4.1, use SedonaContext.create() instead.).\n",
            "  SedonaRegistrator.registerAll(spark)\n"
          ]
        },
        {
          "output_type": "execute_result",
          "data": {
            "text/plain": [
              "True"
            ]
          },
          "metadata": {},
          "execution_count": 23
        }
      ],
      "source": [
        "spark = SparkSession. \\\n",
        "  builder. \\\n",
        "  appName('GeoBigData'). \\\n",
        "  config(\"spark.serializer\", KryoSerializer.getName). \\\n",
        "  config(\"spark.executor.memory\", \"5g\"). \\\n",
        "  config(\"spark.driver.memory\", \"10g\"). \\\n",
        "  config('spark.driver.maxResultSize', '5g'). \\\n",
        "  config(\"spark.kryo.registrator\", SedonaKryoRegistrator.getName). \\\n",
        "  config('spark.jars.packages',\n",
        "           'org.apache.sedona:sedona-spark-shaded-3.5_2.12:1.6.1,' \\\n",
        "            'org.apache.sedona:sedona-python-adapter-3.0_2.12:1.2.0-incubating,'\n",
        "           'uk.co.gresearch.spark:spark-extension_2.12:2.11.0-3.4,' \\\n",
        "           'org.datasyslab:geotools-wrapper:1.4.0-28.2'). \\\n",
        "  config(\"spark.serializer\", KryoSerializer.getName). \\\n",
        "  config(\"spark.kryo.registrator\", SedonaKryoRegistrator.getName). \\\n",
        "getOrCreate()\n",
        "\n",
        "SedonaRegistrator.registerAll(spark)"
      ]
    },
    {
      "cell_type": "code",
      "execution_count": null,
      "id": "-DapwiVUJGUp",
      "metadata": {
        "id": "-DapwiVUJGUp"
      },
      "outputs": [],
      "source": [
        "country_coords = {\n",
        "    \"afghanistan\": (33.9391, 67.7100),\n",
        "    \"albania\": (41.1533, 20.1683),\n",
        "    \"andorra\": (42.5462, 1.6016),\n",
        "    \"argentina\": (-38.4161, -63.6167),\n",
        "    \"armenia\": (40.0691, 45.0382),\n",
        "    \"australia\": (-25.2744, 133.7751),\n",
        "    \"austria\": (47.5162, 14.5501),\n",
        "    \"azerbaijan\": (40.1431, 47.5769),\n",
        "    \"bahamas\": (25.0343, -77.3963),\n",
        "    \"bahrain\": (26.0667, 50.5577),\n",
        "    \"bangladesh\": (23.6850, 90.3563),\n",
        "    \"belarus\": (53.7098, 27.9534),\n",
        "    \"belgium\": (50.5039, 4.4699),\n",
        "    \"bhutan\": (27.5142, 90.4336),\n",
        "    \"bolivia\": (-16.2902, -63.5887),\n",
        "    \"bosnia\": (43.9159, 17.6791),\n",
        "    \"brazil\": (-14.2350, -51.9253),\n",
        "    \"bulgaria\": (42.7339, 25.4858),\n",
        "    \"canada\": (56.1304, -106.3468),\n",
        "    \"chile\": (-35.6751, -71.5430),\n",
        "    \"china\": (35.8617, 104.1954),\n",
        "    \"colombia\": (4.5709, -74.2973),\n",
        "    \"costa rica\": (9.7489, -83.7534),\n",
        "    \"croatia\": (45.1000, 15.2000),\n",
        "    \"cyprus\": (35.1264, 33.4299),\n",
        "    \"czech republic\": (49.8175, 15.4730),\n",
        "    \"denmark\": (56.2639, 9.5018),\n",
        "    \"ecuador\": (-1.8312, -78.1834),\n",
        "    \"egypt\": (26.8206, 30.8025),\n",
        "    \"estonia\": (58.5953, 25.0136),\n",
        "    \"finland\": (61.9241, 25.7482),\n",
        "    \"france\": (46.2276, 2.2137),\n",
        "    \"georgia\": (42.3154, 43.3569),\n",
        "    \"germany\": (51.1657, 10.4515),\n",
        "    \"ghana\": (7.9465, -1.0232),\n",
        "    \"greece\": (39.0742, 21.8243),\n",
        "    \"hong kong\": (22.3193, 114.1694),\n",
        "    \"hungary\": (47.1625, 19.5033),\n",
        "    \"iceland\": (64.9631, -19.0208),\n",
        "    \"india\": (20.5937, 78.9629),\n",
        "    \"indonesia\": (-0.7893, 113.9213),\n",
        "    \"iraq\": (33.2232, 43.6793),\n",
        "    \"ireland\": (53.4129, -8.2439),\n",
        "    \"israel\": (31.0461, 34.8516),\n",
        "    \"italy\": (41.8719, 12.5674),\n",
        "    \"jamaica\": (18.1096, -77.2975),\n",
        "    \"japan\": (36.2048, 138.2529),\n",
        "    \"jordan\": (30.5852, 36.2384),\n",
        "    \"kazakhstan\": (48.0196, 66.9237),\n",
        "    \"kenya\": (-0.0236, 37.9062),\n",
        "    \"kosovo\": (42.6026, 20.9020),\n",
        "    \"kuwait\": (29.3117, 47.4818),\n",
        "    \"kyrgyzstan\": (41.2044, 74.7661),\n",
        "    \"latvia\": (56.8796, 24.6032),\n",
        "    \"lebanon\": (33.8547, 35.8623),\n",
        "    \"liechtenstein\": (47.1660, 9.5554),\n",
        "    \"lithuania\": (55.1694, 23.8813),\n",
        "    \"luxembourg\": (49.8153, 6.1296),\n",
        "    \"malaysia\": (4.2105, 101.9758),\n",
        "    \"maldives\": (3.2028, 73.2207),\n",
        "    \"malta\": (35.9375, 14.3754),\n",
        "    \"mexico\": (23.6345, -102.5528),\n",
        "    \"moldova\": (47.4116, 28.3699),\n",
        "    \"monaco\": (43.7384, 7.4246),\n",
        "    \"montenegro\": (42.7087, 19.3744),\n",
        "    \"morocco\": (31.7917, -7.0926),\n",
        "    \"nepal\": (28.3949, 84.1240),\n",
        "    \"netherlands\": (52.1326, 5.2913),\n",
        "    \"new zealand\": (-40.9006, 174.8860),\n",
        "    \"nigeria\": (9.0820, 8.6753),\n",
        "    \"north macedonia\": (41.6086, 21.7453),\n",
        "    \"norway\": (60.4720, 8.4689),\n",
        "    \"oman\": (21.5126, 55.9233),\n",
        "    \"pakistan\": (30.3753, 69.3451),\n",
        "    \"panama\": (8.5380, -80.7821),\n",
        "    \"paraguay\": (-23.4425, -58.4438),\n",
        "    \"peru\": (-9.1899, -75.0152),\n",
        "    \"philippines\": (12.8797, 121.7740),\n",
        "    \"poland\": (51.9194, 19.1451),\n",
        "    \"portugal\": (39.3999, -8.2245),\n",
        "    \"qatar\": (25.276987, 51.520008),\n",
        "    \"romania\": (45.9432, 24.9668),\n",
        "    \"russia\": (61.5240, 105.3188),\n",
        "    \"san marino\": (43.9333, 12.4500),\n",
        "    \"serbia\": (44.0165, 21.0059),\n",
        "    \"singapore\": (1.3521, 103.8198),\n",
        "    \"slovakia\": (48.6690, 19.6990),\n",
        "    \"slovenia\": (46.1512, 14.9955),\n",
        "    \"south africa\": (-30.5595, 22.9375),\n",
        "    \"south korea\": (35.9078, 127.7669),\n",
        "    \"spain\": (40.4637, -3.7492),\n",
        "    \"sri lanka\": (7.8731, 80.7718),\n",
        "    \"sweden\": (60.1282, 18.6435),\n",
        "    \"switzerland\": (46.8182, 8.2275),\n",
        "    \"syria\": (34.8021, 38.9968),\n",
        "    \"taiwan\": (23.6978, 120.9605),\n",
        "    \"tajikistan\": (38.8610, 71.2761),\n",
        "    \"thailand\": (15.8700, 100.9925),\n",
        "    \"trinidad\": (10.6918, -61.2225),\n",
        "    \"turkey\": (38.9637, 35.2433),\n",
        "    \"uae\": (23.4241, 53.8478),\n",
        "    \"uk\": (55.3781, -3.4360),\n",
        "    \"ukraine\": (48.3794, 31.1656),\n",
        "    \"uruguay\": (-32.5228, -55.7658),\n",
        "    \"usa\": (37.0902, -95.7129),\n",
        "    \"uzbekistan\": (41.3775, 64.5853),\n",
        "    \"vatican city\": (41.9029, 12.4534),\n",
        "    \"venezuela\": (6.4238, -66.5897),\n",
        "    \"vietnam\": (14.0583, 108.2772),\n",
        "    \"yemen\": (15.5527, 48.5164)\n",
        "}\n",
        "\n",
        "coords_df = pd.DataFrame(country_coords.items(), columns=[\"country_key\",\"coords\"])\n",
        "coords_df[[\"lat\",\"lon\"]] = pd.DataFrame(coords_df[\"coords\"].tolist(), index=coords_df.index)\n",
        "coords_spark = spark.createDataFrame(coords_df.drop(columns=\"coords\"))\n",
        "\n",
        "# Join with student data\n",
        "df_geo = (df_clean.withColumn(\"country_key\", F.lower(F.trim(F.col(\"Country\"))))\n",
        "            .join(coords_spark, on=\"country_key\", how=\"left\")\n",
        "            .na.drop(subset=[\"lat\",\"lon\"])\n",
        "            .select(\"Student_ID\",\"Country\",\"Most_Used_Platform\",\"Addicted_Score\",\"lat\",\"lon\")\n",
        ")\n",
        "\n",
        "pdf = df_geo.toPandas()\n",
        "\n",
        "#df_geo.show()"
      ]
    },
    {
      "cell_type": "markdown",
      "id": "uC4UjoaaKNYs",
      "metadata": {
        "id": "uC4UjoaaKNYs"
      },
      "source": [
        "### Build point geometry (lon,lat in WGS84)"
      ]
    },
    {
      "cell_type": "code",
      "execution_count": null,
      "id": "F0oFWMzAJVvX",
      "metadata": {
        "id": "F0oFWMzAJVvX",
        "colab": {
          "base_uri": "https://localhost:8080/"
        },
        "outputId": "f6ddee56-371d-44f1-c110-3989b0566ef3"
      },
      "outputs": [
        {
          "output_type": "stream",
          "name": "stdout",
          "text": [
            "+----------+-----------+------------------+--------------+--------+--------+--------+--------+--------------------+\n",
            "|Student_ID|    Country|Most_Used_Platform|Addicted_Score|     lat|     lon|   lat_d|   lon_d|          geom_wgs84|\n",
            "+----------+-----------+------------------+--------------+--------+--------+--------+--------+--------------------+\n",
            "|       105|Afghanistan|          Linkedin|             5| 33.9391|   67.71| 33.9391|   67.71|POINT (67.71 33.9...|\n",
            "|        92|    Albania|            Tiktok|             7| 41.1533| 20.1683| 41.1533| 20.1683|POINT (20.1683 41...|\n",
            "|        87|    Andorra|            Tiktok|             8| 42.5462|  1.6016| 42.5462|  1.6016|POINT (1.6016 42....|\n",
            "|        45|  Argentina|            Tiktok|             8|-38.4161|-63.6167|-38.4161|-63.6167|POINT (-63.6167 -...|\n",
            "|        80|    Armenia|         Instagram|             9| 40.0691| 45.0382| 40.0691| 45.0382|POINT (45.0382 40...|\n",
            "|       319|  Australia|         Instagram|             5|-25.2744|133.7751|-25.2744|133.7751|POINT (133.7751 -...|\n",
            "|       311|  Australia|          Facebook|             5|-25.2744|133.7751|-25.2744|133.7751|POINT (133.7751 -...|\n",
            "|       303|  Australia|         Instagram|             5|-25.2744|133.7751|-25.2744|133.7751|POINT (133.7751 -...|\n",
            "|       295|  Australia|          Facebook|             5|-25.2744|133.7751|-25.2744|133.7751|POINT (133.7751 -...|\n",
            "|       287|  Australia|         Instagram|             5|-25.2744|133.7751|-25.2744|133.7751|POINT (133.7751 -...|\n",
            "|       279|  Australia|          Facebook|             5|-25.2744|133.7751|-25.2744|133.7751|POINT (133.7751 -...|\n",
            "|       271|  Australia|         Instagram|             5|-25.2744|133.7751|-25.2744|133.7751|POINT (133.7751 -...|\n",
            "|       263|  Australia|          Facebook|             5|-25.2744|133.7751|-25.2744|133.7751|POINT (133.7751 -...|\n",
            "|       255|  Australia|         Instagram|             5|-25.2744|133.7751|-25.2744|133.7751|POINT (133.7751 -...|\n",
            "|       247|  Australia|          Facebook|             5|-25.2744|133.7751|-25.2744|133.7751|POINT (133.7751 -...|\n",
            "|       239|  Australia|         Instagram|             5|-25.2744|133.7751|-25.2744|133.7751|POINT (133.7751 -...|\n",
            "|       231|  Australia|          Facebook|             5|-25.2744|133.7751|-25.2744|133.7751|POINT (133.7751 -...|\n",
            "|       223|  Australia|         Instagram|             5|-25.2744|133.7751|-25.2744|133.7751|POINT (133.7751 -...|\n",
            "|         6|  Australia|         Instagram|             9|-25.2744|133.7751|-25.2744|133.7751|POINT (133.7751 -...|\n",
            "|        23|    Austria|         Instagram|             7| 47.5162| 14.5501| 47.5162| 14.5501|POINT (14.5501 47...|\n",
            "+----------+-----------+------------------+--------------+--------+--------+--------+--------+--------------------+\n",
            "only showing top 20 rows\n",
            "\n"
          ]
        }
      ],
      "source": [
        "from pyspark.sql import functions as F\n",
        "from pyspark.sql.functions import expr\n",
        "\n",
        "HIGH_SCORE = 8.0\n",
        "BUFFER_M   = 50_000.0  # 50 km\n",
        "\n",
        "# Build point geometry (lon,lat in WGS84)\n",
        "students_geo = (\n",
        "    df_geo\n",
        "    .withColumn(\"lat_d\", F.col(\"lat\").cast(\"double\"))\n",
        "    .withColumn(\"lon_d\", F.col(\"lon\").cast(\"double\"))\n",
        "    .withColumn(\n",
        "        \"geom_wgs84\",\n",
        "        expr(\"ST_Point(CAST(lon_d AS DECIMAL(24,20)), CAST(lat_d AS DECIMAL(24,20)))\")\n",
        "    )\n",
        ")\n",
        "students_geo.createOrReplaceTempView(\"students_geo\")\n",
        "\n",
        "students_geo.show()"
      ]
    },
    {
      "cell_type": "markdown",
      "source": [
        "### Project to meters\n",
        "\n"
      ],
      "metadata": {
        "id": "6wp8_i78QoVQ"
      },
      "id": "6wp8_i78QoVQ"
    },
    {
      "cell_type": "code",
      "source": [
        "spark.sql(\"\"\"\n",
        "  CREATE OR REPLACE TEMP VIEW students_m AS\n",
        "  SELECT\n",
        "    Student_ID, Country, Most_Used_Platform, Addicted_Score,\n",
        "    ST_Transform(geom_wgs84,'epsg:4326','epsg:3857') AS geom_m\n",
        "  FROM students_geo\n",
        "\"\"\")"
      ],
      "metadata": {
        "colab": {
          "base_uri": "https://localhost:8080/"
        },
        "id": "v1T0X9-yQuZT",
        "outputId": "d3aae4e4-9af6-45b3-8ff2-450628b522c4"
      },
      "id": "v1T0X9-yQuZT",
      "execution_count": null,
      "outputs": [
        {
          "output_type": "execute_result",
          "data": {
            "text/plain": [
              "DataFrame[]"
            ]
          },
          "metadata": {},
          "execution_count": 37
        }
      ]
    },
    {
      "cell_type": "markdown",
      "source": [
        "### Validate + 50 km buffers"
      ],
      "metadata": {
        "id": "yZXbLNtEQvso"
      },
      "id": "yZXbLNtEQvso"
    },
    {
      "cell_type": "code",
      "source": [
        "# Validate\n",
        "spark.sql(\"\"\"\n",
        "  CREATE OR REPLACE TEMP VIEW students_valid AS\n",
        "  SELECT * FROM students_m\n",
        "  WHERE geom_m IS NOT NULL AND ST_IsValid(geom_m)\n",
        "\"\"\")"
      ],
      "metadata": {
        "colab": {
          "base_uri": "https://localhost:8080/"
        },
        "id": "WN8Bpj36Q3DD",
        "outputId": "9afaa383-1999-4385-b916-7fdab355de76"
      },
      "id": "WN8Bpj36Q3DD",
      "execution_count": null,
      "outputs": [
        {
          "output_type": "execute_result",
          "data": {
            "text/plain": [
              "DataFrame[]"
            ]
          },
          "metadata": {},
          "execution_count": 38
        }
      ]
    },
    {
      "cell_type": "markdown",
      "source": [
        "### 50 km buffers"
      ],
      "metadata": {
        "id": "DbCIv6vKQ_Mj"
      },
      "id": "DbCIv6vKQ_Mj"
    },
    {
      "cell_type": "code",
      "source": [
        "spark.sql(f\"\"\"\n",
        "  CREATE OR REPLACE TEMP VIEW buffers_m AS\n",
        "  SELECT\n",
        "    Student_ID, Country, Most_Used_Platform, Addicted_Score,\n",
        "    ST_Buffer(geom_m, {BUFFER_M}) AS buf_m\n",
        "  FROM students_valid\n",
        "\"\"\")"
      ],
      "metadata": {
        "colab": {
          "base_uri": "https://localhost:8080/"
        },
        "id": "QhiL8wJ3Q85C",
        "outputId": "075b9525-585c-49fa-ee1c-8d669a3ae8b8"
      },
      "id": "QhiL8wJ3Q85C",
      "execution_count": null,
      "outputs": [
        {
          "output_type": "execute_result",
          "data": {
            "text/plain": [
              "DataFrame[]"
            ]
          },
          "metadata": {},
          "execution_count": 39
        }
      ]
    },
    {
      "cell_type": "markdown",
      "source": [
        "### Coverage via UNIONS"
      ],
      "metadata": {
        "id": "8xL5jtp_RC85"
      },
      "id": "8xL5jtp_RC85"
    },
    {
      "cell_type": "code",
      "source": [
        "spark.sql(\"\"\"\n",
        "  CREATE OR REPLACE TEMP VIEW global_union AS\n",
        "  SELECT ST_Union_Aggr(buf_m) AS geom_m FROM buffers_m\n",
        "\"\"\")\n",
        "\n",
        "spark.sql(f\"\"\"\n",
        "  CREATE OR REPLACE TEMP VIEW high_union AS\n",
        "  SELECT ST_Union_Aggr(buf_m) AS geom_m\n",
        "  FROM buffers_m WHERE Addicted_Score >= {HIGH_SCORE}\n",
        "\"\"\")\n",
        "\n",
        "spark.sql(\"\"\"\n",
        "  CREATE OR REPLACE TEMP VIEW platform_union AS\n",
        "  SELECT Most_Used_Platform AS platform, ST_Union_Aggr(buf_m) AS geom_m\n",
        "  FROM buffers_m\n",
        "  GROUP BY Most_Used_Platform\n",
        "\"\"\")"
      ],
      "metadata": {
        "colab": {
          "base_uri": "https://localhost:8080/"
        },
        "id": "OR_vlU6dRBOa",
        "outputId": "c339a065-c9cc-4d34-bd67-8f3053821bf2"
      },
      "id": "OR_vlU6dRBOa",
      "execution_count": null,
      "outputs": [
        {
          "output_type": "execute_result",
          "data": {
            "text/plain": [
              "DataFrame[]"
            ]
          },
          "metadata": {},
          "execution_count": 40
        }
      ]
    },
    {
      "cell_type": "markdown",
      "source": [
        "### Pairwise platform overlaps (intersections)"
      ],
      "metadata": {
        "id": "nMM6B04eRO2G"
      },
      "id": "nMM6B04eRO2G"
    },
    {
      "cell_type": "code",
      "source": [
        "spark.sql(\"\"\"\n",
        "  CREATE OR REPLACE TEMP VIEW platform_overlap AS\n",
        "  SELECT a.platform AS platform_a, b.platform AS platform_b,\n",
        "         ST_Intersection(a.geom_m, b.geom_m) AS overlap_m\n",
        "  FROM platform_union a\n",
        "  JOIN platform_union b ON a.platform < b.platform\n",
        "  WHERE ST_Intersects(a.geom_m, b.geom_m)\n",
        "\"\"\")"
      ],
      "metadata": {
        "colab": {
          "base_uri": "https://localhost:8080/"
        },
        "id": "j3I6UnWdRRaH",
        "outputId": "147a6534-b44d-47f7-b8c2-69799f8d3628"
      },
      "id": "j3I6UnWdRRaH",
      "execution_count": null,
      "outputs": [
        {
          "output_type": "execute_result",
          "data": {
            "text/plain": [
              "DataFrame[]"
            ]
          },
          "metadata": {},
          "execution_count": 41
        }
      ]
    },
    {
      "cell_type": "markdown",
      "source": [
        "### Overlap of glabal vs high cohort"
      ],
      "metadata": {
        "id": "5GTN2L85RUmi"
      },
      "id": "5GTN2L85RUmi"
    },
    {
      "cell_type": "code",
      "source": [
        "spark.sql(\"\"\"\n",
        "  CREATE OR REPLACE TEMP VIEW global_high_overlap AS\n",
        "  SELECT ST_Intersection(g.geom_m, h.geom_m) AS overlap_m\n",
        "  FROM global_union g CROSS JOIN high_union h\n",
        "  WHERE ST_Intersects(g.geom_m, h.geom_m)\n",
        "\"\"\")\n"
      ],
      "metadata": {
        "colab": {
          "base_uri": "https://localhost:8080/"
        },
        "id": "8EalGMSfRZKB",
        "outputId": "453bcd9d-8ebc-43ae-ba73-67df041f724e"
      },
      "id": "8EalGMSfRZKB",
      "execution_count": null,
      "outputs": [
        {
          "output_type": "execute_result",
          "data": {
            "text/plain": [
              "DataFrame[]"
            ]
          },
          "metadata": {},
          "execution_count": 42
        }
      ]
    },
    {
      "cell_type": "markdown",
      "source": [
        "### Convex hulls"
      ],
      "metadata": {
        "id": "Qr5MG06dRYsy"
      },
      "id": "Qr5MG06dRYsy"
    },
    {
      "cell_type": "code",
      "source": [
        "spark.sql(\"\"\"\n",
        "  CREATE OR REPLACE TEMP VIEW global_hull AS\n",
        "  SELECT ST_ConvexHull(ST_Union_Aggr(geom_m)) AS hull_m\n",
        "  FROM students_valid\n",
        "\"\"\")\n",
        "\n",
        "spark.sql(f\"\"\"\n",
        "  CREATE OR REPLACE TEMP VIEW high_hull AS\n",
        "  SELECT ST_ConvexHull(ST_Union_Aggr(geom_m)) AS hull_m\n",
        "  FROM students_valid\n",
        "  WHERE Addicted_Score >= {HIGH_SCORE}\n",
        "\"\"\")\n",
        "\n",
        "spark.sql(\"\"\"\n",
        "  CREATE OR REPLACE TEMP VIEW platform_hull AS\n",
        "  SELECT Most_Used_Platform AS platform,\n",
        "         ST_ConvexHull(ST_Union_Aggr(geom_m)) AS hull_m\n",
        "  FROM students_valid\n",
        "  GROUP BY Most_Used_Platform\n",
        "\"\"\")"
      ],
      "metadata": {
        "colab": {
          "base_uri": "https://localhost:8080/"
        },
        "id": "GF4kdX6URfRY",
        "outputId": "a08197bb-01eb-4443-a335-064d6ce778c8"
      },
      "id": "GF4kdX6URfRY",
      "execution_count": null,
      "outputs": [
        {
          "output_type": "execute_result",
          "data": {
            "text/plain": [
              "DataFrame[]"
            ]
          },
          "metadata": {},
          "execution_count": 43
        }
      ]
    },
    {
      "cell_type": "markdown",
      "source": [
        "### Display"
      ],
      "metadata": {
        "id": "D4TWzkZhRldR"
      },
      "id": "D4TWzkZhRldR"
    },
    {
      "cell_type": "code",
      "execution_count": null,
      "id": "P7XzXlkbKZXQ",
      "metadata": {
        "id": "P7XzXlkbKZXQ",
        "colab": {
          "base_uri": "https://localhost:8080/"
        },
        "outputId": "12e3f5d3-bf70-493f-a871-136df1892ab5"
      },
      "outputs": [
        {
          "output_type": "stream",
          "name": "stdout",
          "text": [
            "COVERAGE AREAS (buffer unions) — EPSG:3857, approximate\n",
            "+-------------------+\n",
            "|global_coverage_km2|\n",
            "+-------------------+\n",
            "|          851936.34|\n",
            "+-------------------+\n",
            "\n",
            "+-----------------+\n",
            "|high_coverage_km2|\n",
            "+-----------------+\n",
            "|        351162.58|\n",
            "+-----------------+\n",
            "\n",
            "+---------+------------+\n",
            "| platform|coverage_km2|\n",
            "+---------+------------+\n",
            "|Instagram|   343358.97|\n",
            "|   Tiktok|    304340.9|\n",
            "| Facebook|   218501.16|\n",
            "| Linkedin|   163875.87|\n",
            "| Snapchat|   101446.97|\n",
            "|  Youtube|    78036.13|\n",
            "|  Twitter|     62428.9|\n",
            "| Whatsapp|    31214.45|\n",
            "|     Line|     7803.61|\n",
            "|   Wechat|     7803.61|\n",
            "|Vkontakte|     7803.61|\n",
            "|Kakaotalk|     7803.61|\n",
            "+---------+------------+\n",
            "\n",
            "OVERLAPS (pairwise intersections)\n",
            "+----------+----------+-----------+\n",
            "|platform_a|platform_b|overlap_km2|\n",
            "+----------+----------+-----------+\n",
            "| Instagram|    Tiktok|  132661.42|\n",
            "|  Facebook| Instagram|  117054.19|\n",
            "|  Facebook|    Tiktok|   93643.35|\n",
            "| Instagram|   Twitter|   54625.29|\n",
            "|    Tiktok|   Twitter|   46821.68|\n",
            "|  Facebook|   Twitter|   39018.06|\n",
            "|  Facebook|  Linkedin|   31214.45|\n",
            "| Instagram|   Youtube|   29871.92|\n",
            "|  Facebook|   Youtube|   29871.92|\n",
            "| Instagram|  Linkedin|   23410.84|\n",
            "+----------+----------+-----------+\n",
            "\n",
            "+-----------------------+\n",
            "|global_high_overlap_km2|\n",
            "+-----------------------+\n",
            "|              351162.58|\n",
            "+-----------------------+\n",
            "\n",
            "HULL AREAS (for visualization reference only)\n",
            "+---------------+\n",
            "|global_hull_km2|\n",
            "+---------------+\n",
            "| 3.6543026718E8|\n",
            "+---------------+\n",
            "\n",
            "+--------------+\n",
            "| high_hull_km2|\n",
            "+--------------+\n",
            "|2.6879599168E8|\n",
            "+--------------+\n",
            "\n",
            "+---------+--------------+\n",
            "| platform|      hull_km2|\n",
            "+---------+--------------+\n",
            "|Instagram|3.0537596957E8|\n",
            "|   Tiktok|2.4620505883E8|\n",
            "|  Youtube|2.3632980642E8|\n",
            "| Facebook|2.0982766197E8|\n",
            "| Linkedin|1.7585228049E8|\n",
            "| Snapchat|1.1299387125E8|\n",
            "|  Twitter| 6.936987584E7|\n",
            "| Whatsapp| 6.122377146E7|\n",
            "|     Line|           0.0|\n",
            "|   Wechat|           0.0|\n",
            "|Vkontakte|           0.0|\n",
            "|Kakaotalk|           0.0|\n",
            "+---------+--------------+\n",
            "\n"
          ]
        }
      ],
      "source": [
        "# Reports\n",
        "print(\"COVERAGE AREAS (buffer unions) — EPSG:3857, approximate\")\n",
        "spark.sql(\"SELECT ROUND(ST_Area(geom_m)/1e6,2) AS global_coverage_km2 FROM global_union\").show()\n",
        "spark.sql(\"SELECT ROUND(ST_Area(geom_m)/1e6,2) AS high_coverage_km2   FROM high_union\").show()\n",
        "spark.sql(\"\"\"\n",
        "  SELECT platform, ROUND(ST_Area(geom_m)/1e6,2) AS coverage_km2\n",
        "  FROM platform_union\n",
        "  ORDER BY coverage_km2 DESC\n",
        "\"\"\").show()\n",
        "\n",
        "print(\"OVERLAPS (pairwise intersections)\")\n",
        "spark.sql(\"\"\"\n",
        "  SELECT platform_a, platform_b, ROUND(ST_Area(overlap_m)/1e6,2) AS overlap_km2\n",
        "  FROM platform_overlap\n",
        "  ORDER BY overlap_km2 DESC\n",
        "  LIMIT 10\n",
        "\"\"\").show()\n",
        "\n",
        "spark.sql(\"\"\"\n",
        "  SELECT ROUND(ST_Area(overlap_m)/1e6,2) AS global_high_overlap_km2\n",
        "  FROM global_high_overlap\n",
        "\"\"\").show()\n",
        "\n",
        "print(\"HULL AREAS (for visualization reference only)\")\n",
        "spark.sql(\"SELECT ROUND(ST_Area(hull_m)/1e6,2) AS global_hull_km2 FROM global_hull\").show()\n",
        "spark.sql(\"SELECT ROUND(ST_Area(hull_m)/1e6,2) AS high_hull_km2   FROM high_hull\").show()\n",
        "spark.sql(\"\"\"\n",
        "  SELECT platform, ROUND(ST_Area(hull_m)/1e6,2) AS hull_km2\n",
        "  FROM platform_hull\n",
        "  ORDER BY hull_km2 DESC\n",
        "\"\"\").show()\n"
      ]
    },
    {
      "cell_type": "code",
      "execution_count": null,
      "id": "kEkb1KvyBtv8",
      "metadata": {
        "id": "kEkb1KvyBtv8",
        "colab": {
          "base_uri": "https://localhost:8080/"
        },
        "outputId": "ba609565-572e-468b-8393-90b987b3badc"
      },
      "outputs": [
        {
          "output_type": "stream",
          "name": "stdout",
          "text": [
            "Collecting cartopy\n",
            "  Downloading cartopy-0.25.0-cp312-cp312-manylinux_2_24_x86_64.manylinux_2_28_x86_64.whl.metadata (6.1 kB)\n",
            "Requirement already satisfied: shapely in /usr/local/lib/python3.12/dist-packages (2.1.1)\n",
            "Requirement already satisfied: geopandas in /usr/local/lib/python3.12/dist-packages (1.1.1)\n",
            "Requirement already satisfied: numpy>=1.23 in /usr/local/lib/python3.12/dist-packages (from cartopy) (2.0.2)\n",
            "Requirement already satisfied: matplotlib>=3.6 in /usr/local/lib/python3.12/dist-packages (from cartopy) (3.10.0)\n",
            "Requirement already satisfied: packaging>=21 in /usr/local/lib/python3.12/dist-packages (from cartopy) (25.0)\n",
            "Requirement already satisfied: pyshp>=2.3 in /usr/local/lib/python3.12/dist-packages (from cartopy) (2.3.1)\n",
            "Requirement already satisfied: pyproj>=3.3.1 in /usr/local/lib/python3.12/dist-packages (from cartopy) (3.7.2)\n",
            "Requirement already satisfied: pyogrio>=0.7.2 in /usr/local/lib/python3.12/dist-packages (from geopandas) (0.11.1)\n",
            "Requirement already satisfied: pandas>=2.0.0 in /usr/local/lib/python3.12/dist-packages (from geopandas) (2.2.2)\n",
            "Requirement already satisfied: contourpy>=1.0.1 in /usr/local/lib/python3.12/dist-packages (from matplotlib>=3.6->cartopy) (1.3.3)\n",
            "Requirement already satisfied: cycler>=0.10 in /usr/local/lib/python3.12/dist-packages (from matplotlib>=3.6->cartopy) (0.12.1)\n",
            "Requirement already satisfied: fonttools>=4.22.0 in /usr/local/lib/python3.12/dist-packages (from matplotlib>=3.6->cartopy) (4.59.1)\n",
            "Requirement already satisfied: kiwisolver>=1.3.1 in /usr/local/lib/python3.12/dist-packages (from matplotlib>=3.6->cartopy) (1.4.9)\n",
            "Requirement already satisfied: pillow>=8 in /usr/local/lib/python3.12/dist-packages (from matplotlib>=3.6->cartopy) (11.3.0)\n",
            "Requirement already satisfied: pyparsing>=2.3.1 in /usr/local/lib/python3.12/dist-packages (from matplotlib>=3.6->cartopy) (3.2.3)\n",
            "Requirement already satisfied: python-dateutil>=2.7 in /usr/local/lib/python3.12/dist-packages (from matplotlib>=3.6->cartopy) (2.9.0.post0)\n",
            "Requirement already satisfied: pytz>=2020.1 in /usr/local/lib/python3.12/dist-packages (from pandas>=2.0.0->geopandas) (2025.2)\n",
            "Requirement already satisfied: tzdata>=2022.7 in /usr/local/lib/python3.12/dist-packages (from pandas>=2.0.0->geopandas) (2025.2)\n",
            "Requirement already satisfied: certifi in /usr/local/lib/python3.12/dist-packages (from pyogrio>=0.7.2->geopandas) (2025.8.3)\n",
            "Requirement already satisfied: six>=1.5 in /usr/local/lib/python3.12/dist-packages (from python-dateutil>=2.7->matplotlib>=3.6->cartopy) (1.17.0)\n",
            "Downloading cartopy-0.25.0-cp312-cp312-manylinux_2_24_x86_64.manylinux_2_28_x86_64.whl (11.8 MB)\n",
            "\u001b[2K   \u001b[90m━━━━━━━━━━━━━━━━━━━━━━━━━━━━━━━━━━━━━━━━\u001b[0m \u001b[32m11.8/11.8 MB\u001b[0m \u001b[31m91.8 MB/s\u001b[0m eta \u001b[36m0:00:00\u001b[0m\n",
            "\u001b[?25hInstalling collected packages: cartopy\n",
            "Successfully installed cartopy-0.25.0\n"
          ]
        }
      ],
      "source": [
        "!pip install cartopy shapely geopandas"
      ]
    },
    {
      "cell_type": "code",
      "execution_count": null,
      "id": "jrLeiStCAnYZ",
      "metadata": {
        "id": "jrLeiStCAnYZ",
        "colab": {
          "base_uri": "https://localhost:8080/",
          "height": 707
        },
        "outputId": "86588a84-bddb-46ac-d07e-95de2ba26f3a"
      },
      "outputs": [
        {
          "output_type": "display_data",
          "data": {
            "text/plain": [
              "<Figure size 1400x700 with 1 Axes>"
            ],
            "image/png": "[encoded data removed]"
          },
          "metadata": {}
        }
      ],
      "source": [
        "\n",
        "from shapely import wkt as shapely_wkt\n",
        "import geopandas as gpd\n",
        "import matplotlib.pyplot as plt\n",
        "import cartopy.crs as ccrs\n",
        "import cartopy.feature as cfeature\n",
        "\n",
        "# Hulls (epsg: 3857 -> 4326)\n",
        "row_all  = spark.sql(\"\"\"\n",
        "    SELECT ST_AsText(ST_Transform(hull_m,'epsg:3857','epsg:4326')) AS wkt\n",
        "    FROM global_hull\n",
        "\"\"\").first()\n",
        "\n",
        "row_high = spark.sql(\"\"\"\n",
        "    SELECT ST_AsText(ST_Transform(hull_m,'epsg:3857','epsg:4326')) AS wkt\n",
        "    FROM high_hull\n",
        "\"\"\").first()\n",
        "\n",
        "hull_all  = shapely_wkt.loads(row_all[\"wkt\"])  if row_all  and row_all[\"wkt\"]  else None\n",
        "hull_high = shapely_wkt.loads(row_high[\"wkt\"]) if row_high and row_high[\"wkt\"] else None\n",
        "\n",
        "# Buffers\n",
        "buf_wkts = [\n",
        "    r[\"wkt\"] for r in spark.sql(\"\"\"\n",
        "        SELECT ST_AsText(ST_Transform(buf_m,'epsg:3857','epsg:4326')) AS wkt\n",
        "        FROM buffers_m\n",
        "        LIMIT 800\n",
        "    \"\"\").toLocalIterator()\n",
        "    if r[\"wkt\"] is not None\n",
        "]\n",
        "buffers = [shapely_wkt.loads(w) for w in buf_wkts]\n",
        "\n",
        "# 3) Points\n",
        "pt_wkts = [\n",
        "    r[\"wkt\"] for r in spark.sql(\"\"\"\n",
        "        SELECT ST_AsText(geom_wgs84) AS wkt\n",
        "        FROM students_geo\n",
        "    \"\"\").toLocalIterator()\n",
        "    if r[\"wkt\"] is not None\n",
        "]\n",
        "points = [shapely_wkt.loads(w) for w in pt_wkts]\n",
        "\n",
        "# Wrap in GeoDataFrames (EPSG:4326)\n",
        "gdfs = {}\n",
        "if hull_all:\n",
        "    gdfs[\"hull_all\"]  = gpd.GeoDataFrame(geometry=[hull_all],  crs=\"EPSG:4326\")\n",
        "if hull_high:\n",
        "    gdfs[\"hull_high\"] = gpd.GeoDataFrame(geometry=[hull_high], crs=\"EPSG:4326\")\n",
        "\n",
        "gdf_bufs = gpd.GeoDataFrame(geometry=buffers, crs=\"EPSG:4326\") if buffers else None\n",
        "gdf_pts  = gpd.GeoDataFrame(geometry=points,  crs=\"EPSG:4326\") if points  else None\n",
        "\n",
        "#  Plot\n",
        "fig, ax = plt.subplots(\n",
        "    figsize=(14, 7),\n",
        "    subplot_kw={'projection': ccrs.PlateCarree()}\n",
        ")\n",
        "\n",
        "ax.set_global()\n",
        "ax.coastlines(linewidth=0.8)\n",
        "ax.add_feature(cfeature.BORDERS, linewidth=0.5)\n",
        "ax.add_feature(cfeature.LAND, facecolor=\"#efefef\", edgecolor=\"none\")\n",
        "ax.add_feature(cfeature.OCEAN, facecolor=\"white\", edgecolor=\"none\")\n",
        "\n",
        "# Draw order: buffers -> hulls -> points\n",
        "if gdf_bufs is not None and len(gdf_bufs) > 0:\n",
        "    gdf_bufs.plot(\n",
        "        ax=ax, transform=ccrs.PlateCarree(),\n",
        "        alpha=0.12, edgecolor=\"#6b7280\", linewidth=0.4, zorder=2\n",
        "    )\n",
        "\n",
        "if \"hull_all\" in gdfs:\n",
        "    gdfs[\"hull_all\"].boundary.plot(\n",
        "        ax=ax, transform=ccrs.PlateCarree(),\n",
        "        color=\"#ef4444\", linewidth=2.2, label=\"All Students (Hull)\", zorder=3\n",
        "    )\n",
        "\n",
        "if \"hull_high\" in gdfs:\n",
        "    gdfs[\"hull_high\"].boundary.plot(\n",
        "        ax=ax, transform=ccrs.PlateCarree(),\n",
        "        color=\"#2563eb\", linewidth=2.2, linestyle=\"--\",\n",
        "        label=\"High-Addiction (≥8) Hull\", zorder=4\n",
        "    )\n",
        "\n",
        "if gdf_pts is not None and len(gdf_pts) > 0:\n",
        "    gdf_pts.plot(\n",
        "        ax=ax, transform=ccrs.PlateCarree(),\n",
        "        markersize=6, color=\"#111827\", alpha=0.8, zorder=5\n",
        "    )\n",
        "\n",
        "ax.set_title(\"Global Convex Hull (All) vs. High-Addiction Hull (Score ≥ 8) with 50 km Buffers\", fontsize=13)\n",
        "ax.legend(loc=\"lower left\", frameon=True)\n",
        "plt.tight_layout()\n",
        "plt.show()\n"
      ]
    },
    {
      "cell_type": "markdown",
      "id": "rv4dgFl0A8Z_",
      "metadata": {
        "id": "rv4dgFl0A8Z_"
      },
      "source": [
        "**Red solid polygon** = All Students (Global Convex Hull)\n",
        "\n",
        "Encloses nearly every continent (Americas, Europe, Asia, Oceania).\n",
        "\n",
        "Demonstrates that dataset covers a broad global footprint.\n",
        "\n",
        "**Blue dashed polygon** = High-Addiction Students (Convex Hull, Score ≥ 8)\n",
        "\n",
        "Noticeably smaller and tighter.\n",
        "\n",
        "Concentrated around North America, Europe, and Asia.\n",
        "\n",
        "Excludes much of South America, Africa, and some Oceania.\n",
        "\n",
        "**Black dots** = Student locations\n",
        "\n",
        "Help explain why the hulls take their shape.\n",
        "\n",
        "We can see how high-addiction clusters are denser in Europe/Asia.\n",
        "\n",
        "**Interpretation:**\n",
        "\n",
        "*Global coverage:* Addiction exists everywhere, reflected by the wide red hull.\n",
        "\n",
        "*Regional dominance:* High-addiction is geographically concentrated (blue hull).\n"
      ]
    }
  ],
  "metadata": {
    "colab": {
      "provenance": []
    },
    "kernelspec": {
      "display_name": "Python 3",
      "name": "python3"
    },
    "language_info": {
      "name": "python"
    }
  },
  "nbformat": 4,
  "nbformat_minor": 5
}